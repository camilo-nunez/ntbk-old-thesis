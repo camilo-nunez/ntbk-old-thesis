{
 "cells": [
  {
   "cell_type": "markdown",
   "metadata": {
    "id": "7pLLhXMjwe1h"
   },
   "source": [
    "<img src=\"http://sct.inf.utfsm.cl/wp-content/uploads/2020/04/logo_di.png\" style=\"width:60\">\n",
    "<center>\n",
    "    <h1> Product of Integer Numbers with the FFT </h1>\n",
    "    <h2> Version: 1.1</h2>\n",
    "    <h2> by Claudio E. Torres </h2> \n",
    "    <h2> <a href = \"mailto: ctorres@inf.utfsm.cl\">ctorres@inf.utfsm.cl</a> </h2>\n",
    "    \n",
    "</center>"
   ]
  },
  {
   "cell_type": "code",
   "execution_count": 1,
   "metadata": {
    "executionInfo": {
     "elapsed": 884,
     "status": "ok",
     "timestamp": 1617238934022,
     "user": {
      "displayName": "Claudio Torres",
      "photoUrl": "",
      "userId": "06619054075043291935"
     },
     "user_tz": 180
    },
    "id": "NLxfulaCwe1j"
   },
   "outputs": [],
   "source": [
    "import numpy as np\n",
    "import scipy as sp\n",
    "import copy as cp\n",
    "import matplotlib.pyplot as plt"
   ]
  },
  {
   "cell_type": "code",
   "execution_count": 2,
   "metadata": {
    "executionInfo": {
     "elapsed": 620,
     "status": "ok",
     "timestamp": 1617238934396,
     "user": {
      "displayName": "Claudio Torres",
      "photoUrl": "",
      "userId": "06619054075043291935"
     },
     "user_tz": 180
    },
    "id": "l17ayN50we1v"
   },
   "outputs": [],
   "source": [
    "# Build an integer as a list of digits of length 'm' in a array length 'length_array'\n",
    "def generate_array_integer(m,length_array, seed=0):\n",
    "    np.random.seed(seed)\n",
    "    i = []\n",
    "    i.append(np.random.randint(1,9))\n",
    "    for j in range(1,m):\n",
    "        i.append(np.random.randint(1,9))\n",
    "    for j in range(0,length_array-m):\n",
    "        i.append(0)\n",
    "    return i\n",
    "# Convert a list of digits \"i\" to its corresponding integer number\n",
    "def array_integer_to_integer(i):\n",
    "    m=len(i)\n",
    "    out = 0\n",
    "    for j in range(m):\n",
    "        out +=int(i[j])*int(10**j)\n",
    "    return out\n",
    "# Convert an integer to a list of digits of length 'length_array'\n",
    "def integer_to_array_integer(n,length_array):\n",
    "    nn=list(map(int,str(n)))[::-1]\n",
    "    for i in range(length_array-len(nn)):\n",
    "        nn.append(0)\n",
    "    return nn\n",
    "# Build the associated 'Fourier Matrix'\n",
    "def build_fourier_matrix(dim):\n",
    "    M = np.zeros((dim,dim),dtype=np.complex256)\n",
    "    for k in range(dim):\n",
    "        M[k] = np.exp(2j * np.pi * np.arange(dim) * k / dim)\n",
    "    return M\n",
    "# Build the associated 'scaled inverse Fourier Matrix'\n",
    "def build_fourier_matrix_inverse_scaled(dim):\n",
    "    M = np.zeros((dim,dim),dtype=np.complex256)\n",
    "    for k in range(dim):\n",
    "        M[k] = np.exp(-2j * np.pi * np.arange(dim) * k / dim)\n",
    "    return M\n",
    "# Just for 'plotting' the values of a matrix\n",
    "def plot_matrices_with_values(ax,M):\n",
    "    N=M.shape[0]\n",
    "    cmap = plt.get_cmap('GnBu')\n",
    "    ax.matshow(M, cmap=cmap)\n",
    "    for i in np.arange(0, N):\n",
    "        for j in np.arange(0, N):\n",
    "            ax.text(i, j, '{:.2f}'.format(M[i,j]), va='center', ha='center', color='r', fontweight='bold')"
   ]
  },
  {
   "cell_type": "markdown",
   "metadata": {
    "id": "PBzBwiKnwe1-"
   },
   "source": [
    "# Implementing the DFT via matrix vector product"
   ]
  },
  {
   "cell_type": "markdown",
   "metadata": {
    "id": "Hz0nGN1xwe2B"
   },
   "source": [
    "## Showing DFT matrix, the real and imaginary parts"
   ]
  },
  {
   "cell_type": "code",
   "execution_count": 3,
   "metadata": {
    "colab": {
     "base_uri": "https://localhost:8080/",
     "height": 457
    },
    "executionInfo": {
     "elapsed": 1660,
     "status": "ok",
     "timestamp": 1617238937951,
     "user": {
      "displayName": "Claudio Torres",
      "photoUrl": "",
      "userId": "06619054075043291935"
     },
     "user_tz": 180
    },
    "id": "VOR_yEkxwe2D",
    "outputId": "9ba37def-1483-4e75-8a96-288729ea4de6"
   },
   "outputs": [
    {
     "name": "stderr",
     "output_type": "stream",
     "text": [
      "/opt/conda/lib/python3.9/site-packages/IPython/core/pylabtools.py:151: UserWarning: Casting input data from float128 to float64 for imshow\n",
      "  fig.canvas.print_figure(bytes_io, **kw)\n"
     ]
    },
    {
     "data": {
      "image/png": "[encoded data removed]",
      "text/plain": [
       "<Figure size 1008x504 with 2 Axes>"
      ]
     },
     "metadata": {
      "needs_background": "light"
     },
     "output_type": "display_data"
    }
   ],
   "source": [
    "m=4\n",
    "M = build_fourier_matrix(2*m)\n",
    "\n",
    "Mfig = 7\n",
    "fig, (ax1, ax2) = plt.subplots(1, 2, figsize=(2*Mfig,Mfig))\n",
    "plot_matrices_with_values(ax1,np.real(M))\n",
    "ax1.set_title('Real part of M')\n",
    "plot_matrices_with_values(ax2,np.imag(M))\n",
    "ax2.set_title('Imaginary part of M')\n",
    "plt.show()"
   ]
  },
  {
   "cell_type": "markdown",
   "metadata": {
    "id": "THFNtalgwe2L"
   },
   "source": [
    "## Setting up experiment"
   ]
  },
  {
   "cell_type": "code",
   "execution_count": 4,
   "metadata": {
    "colab": {
     "base_uri": "https://localhost:8080/"
    },
    "executionInfo": {
     "elapsed": 853,
     "status": "ok",
     "timestamp": 1617238946355,
     "user": {
      "displayName": "Claudio Torres",
      "photoUrl": "",
      "userId": "06619054075043291935"
     },
     "user_tz": 180
    },
    "id": "2fRCs-Fpwe2M",
    "outputId": "ead8c5ea-ff7c-4dae-f056-b9003b7b72c2"
   },
   "outputs": [
    {
     "name": "stdout",
     "output_type": "stream",
     "text": [
      "A     :  34661114213\n",
      "B     :  32318126873\n",
      "A*B   :  1120182286695277545949\n",
      "C     :  1120182286695277545949\n",
      "C-A*B :  0\n"
     ]
    }
   ],
   "source": [
    "m = 2**4\n",
    "seed = 3\n",
    "\n",
    "A = array_integer_to_integer(generate_array_integer(m-5,2*m,seed))\n",
    "B = array_integer_to_integer(generate_array_integer(m-5,2*m,seed+1))\n",
    "#print(A,B)\n",
    "\n",
    "a_k = integer_to_array_integer(A,2*m)\n",
    "b_k = integer_to_array_integer(B,2*m)\n",
    "#print(a_k)\n",
    "#print(b_k)\n",
    "\n",
    "M = build_fourier_matrix(2*m)\n",
    "\n",
    "hat_a_k = np.dot(M,np.array(a_k))\n",
    "hat_b_k = np.dot(M,np.array(b_k))\n",
    "#print(M)\n",
    "\n",
    "hat_c_k = hat_a_k*hat_b_k\n",
    "\n",
    "Mi = build_fourier_matrix_inverse_scaled(2*m)\n",
    "\n",
    "# Here we divide by 2*m since when we did the analysis we obtained the output scaled by \"n\", \n",
    "# i.e. the length of the array.\n",
    "c_k = np.round(np.real(np.dot(Mi,hat_c_k)/(2*m)))\n",
    "C=array_integer_to_integer(c_k)\n",
    "print('A     : ', A)\n",
    "print('B     : ', B)\n",
    "print('A*B   : ', A*B)\n",
    "print('C     : ', C)\n",
    "print('C-A*B : ', C-A*B)\n"
   ]
  },
  {
   "cell_type": "markdown",
   "metadata": {
    "id": "dvTZSOikwe2U"
   },
   "source": [
    "# FFT product"
   ]
  },
  {
   "cell_type": "code",
   "execution_count": 5,
   "metadata": {
    "colab": {
     "base_uri": "https://localhost:8080/"
    },
    "executionInfo": {
     "elapsed": 43853,
     "status": "ok",
     "timestamp": 1617238998650,
     "user": {
      "displayName": "Claudio Torres",
      "photoUrl": "",
      "userId": "06619054075043291935"
     },
     "user_tz": 180
    },
    "id": "F3zfpDjmwe2V",
    "outputId": "84ad3d39-9856-479e-bd4c-016b79a95518"
   },
   "outputs": [
    {
     "name": "stdout",
     "output_type": "stream",
     "text": [
      "16384\n"
     ]
    },
    {
     "ename": "AttributeError",
     "evalue": "module 'scipy' has no attribute 'fft'",
     "output_type": "error",
     "traceback": [
      "\u001b[0;31m---------------------------------------------------------------------------\u001b[0m",
      "\u001b[0;31mAttributeError\u001b[0m                            Traceback (most recent call last)",
      "Input \u001b[0;32mIn [5]\u001b[0m, in \u001b[0;36m<module>\u001b[0;34m\u001b[0m\n\u001b[1;32m      9\u001b[0m b_k \u001b[38;5;241m=\u001b[39m integer_to_array_integer(B,\u001b[38;5;241m2\u001b[39m\u001b[38;5;241m*\u001b[39mm)\n\u001b[1;32m     11\u001b[0m \u001b[38;5;66;03m# Adding product by 2*m since the ifft divides by 2*m\u001b[39;00m\n\u001b[0;32m---> 12\u001b[0m hat_a_k \u001b[38;5;241m=\u001b[39m \u001b[43msp\u001b[49m\u001b[38;5;241;43m.\u001b[39;49m\u001b[43mfft\u001b[49m\u001b[38;5;241m.\u001b[39mifft(np\u001b[38;5;241m.\u001b[39marray(a_k),\u001b[38;5;241m2\u001b[39m\u001b[38;5;241m*\u001b[39mm)\u001b[38;5;241m*\u001b[39m\u001b[38;5;241m2\u001b[39m\u001b[38;5;241m*\u001b[39mm\n\u001b[1;32m     13\u001b[0m hat_b_k \u001b[38;5;241m=\u001b[39m sp\u001b[38;5;241m.\u001b[39mfft\u001b[38;5;241m.\u001b[39mifft(np\u001b[38;5;241m.\u001b[39marray(b_k),\u001b[38;5;241m2\u001b[39m\u001b[38;5;241m*\u001b[39mm)\u001b[38;5;241m*\u001b[39m\u001b[38;5;241m2\u001b[39m\u001b[38;5;241m*\u001b[39mm\n\u001b[1;32m     15\u001b[0m \u001b[38;5;66;03m#print('A  : ', A)\u001b[39;00m\n\u001b[1;32m     16\u001b[0m \u001b[38;5;66;03m#print('a_k: ', a_k)\u001b[39;00m\n\u001b[1;32m     17\u001b[0m \u001b[38;5;66;03m#print('hat_a_k: ', hat_a_k)\u001b[39;00m\n\u001b[0;32m   (...)\u001b[0m\n\u001b[1;32m     20\u001b[0m \u001b[38;5;66;03m#print('b_k: ', b_k)\u001b[39;00m\n\u001b[1;32m     21\u001b[0m \u001b[38;5;66;03m#print('hat_b_k: ', hat_b_k)\u001b[39;00m\n",
      "\u001b[0;31mAttributeError\u001b[0m: module 'scipy' has no attribute 'fft'"
     ]
    }
   ],
   "source": [
    "m = 2**14\n",
    "print(m)\n",
    "seed = 3\n",
    "\n",
    "A = array_integer_to_integer(generate_array_integer(m-5,2*m,seed))\n",
    "B = array_integer_to_integer(generate_array_integer(m-5,2*m,seed+1))\n",
    "\n",
    "a_k = integer_to_array_integer(A,2*m)\n",
    "b_k = integer_to_array_integer(B,2*m)\n",
    "\n",
    "# Adding product by 2*m since the ifft divides by 2*m\n",
    "hat_a_k = sp.fft.ifft(np.array(a_k),2*m)*2*m\n",
    "hat_b_k = sp.fft.ifft(np.array(b_k),2*m)*2*m\n",
    "\n",
    "#print('A  : ', A)\n",
    "#print('a_k: ', a_k)\n",
    "#print('hat_a_k: ', hat_a_k)\n",
    "\n",
    "#print('B  : ', B)\n",
    "#print('b_k: ', b_k)\n",
    "#print('hat_b_k: ', hat_b_k)\n",
    "\n",
    "hat_c_k = hat_a_k*hat_b_k\n",
    "\n",
    "# Here we divide by 2*m since when we did the analysis we obtained the output scaled by \"n\", \n",
    "# i.e. the length of the array.\n",
    "c_k = np.round(np.real(sp.fft.fft(hat_c_k,2*m)/(2*m)))\n",
    "# c_k = np.real(sp.fft.fft(hat_c_k,2*m)/(2*m))\n",
    "C=array_integer_to_integer(c_k)\n",
    "\n",
    "print('A     : ', A)\n",
    "print('B     : ', B)\n",
    "print('A*B   : ', A*B)\n",
    "print('C     : ', C)\n",
    "print('C-A*B : ', C-A*B)"
   ]
  },
  {
   "cell_type": "code",
   "execution_count": 14,
   "metadata": {
    "id": "c3pt-I3zwe30"
   },
   "outputs": [
    {
     "data": {
      "text/plain": [
       "32768"
      ]
     },
     "execution_count": 14,
     "metadata": {},
     "output_type": "execute_result"
    }
   ],
   "source": [
    "len(a_k)"
   ]
  },
  {
   "cell_type": "code",
   "execution_count": 8,
   "metadata": {},
   "outputs": [],
   "source": [
    "from sympy import ntt, intt"
   ]
  },
  {
   "cell_type": "code",
   "execution_count": 16,
   "metadata": {},
   "outputs": [
    {
     "ename": "ValueError",
     "evalue": "Expected prime modulus for Number Theoretic Transform",
     "output_type": "error",
     "traceback": [
      "\u001b[0;31m---------------------------------------------------------------------------\u001b[0m",
      "\u001b[0;31mValueError\u001b[0m                                Traceback (most recent call last)",
      "Input \u001b[0;32mIn [16]\u001b[0m, in \u001b[0;36m<module>\u001b[0;34m\u001b[0m\n\u001b[0;32m----> 1\u001b[0m f_a \u001b[38;5;241m=\u001b[39m \u001b[43mntt\u001b[49m\u001b[43m(\u001b[49m\u001b[43ma_k\u001b[49m\u001b[43m,\u001b[49m\u001b[43m \u001b[49m\u001b[43mprime\u001b[49m\u001b[38;5;241;43m=\u001b[39;49m\u001b[38;5;241;43m1267650638007162390353805312001\u001b[39;49m\u001b[43m)\u001b[49m\n",
      "File \u001b[0;32m/opt/conda/lib/python3.9/site-packages/sympy/discrete/transforms.py:229\u001b[0m, in \u001b[0;36mntt\u001b[0;34m(seq, prime)\u001b[0m\n\u001b[1;32m    189\u001b[0m \u001b[38;5;28;01mdef\u001b[39;00m \u001b[38;5;21mntt\u001b[39m(seq, prime):\n\u001b[1;32m    190\u001b[0m     \u001b[38;5;124mr\u001b[39m\u001b[38;5;124;03m\"\"\"\u001b[39;00m\n\u001b[1;32m    191\u001b[0m \u001b[38;5;124;03m    Performs the Number Theoretic Transform (**NTT**), which specializes the\u001b[39;00m\n\u001b[1;32m    192\u001b[0m \u001b[38;5;124;03m    Discrete Fourier Transform (**DFT**) over quotient ring `Z/pZ` for prime\u001b[39;00m\n\u001b[0;32m   (...)\u001b[0m\n\u001b[1;32m    226\u001b[0m \n\u001b[1;32m    227\u001b[0m \u001b[38;5;124;03m    \"\"\"\u001b[39;00m\n\u001b[0;32m--> 229\u001b[0m     \u001b[38;5;28;01mreturn\u001b[39;00m \u001b[43m_number_theoretic_transform\u001b[49m\u001b[43m(\u001b[49m\u001b[43mseq\u001b[49m\u001b[43m,\u001b[49m\u001b[43m \u001b[49m\u001b[43mprime\u001b[49m\u001b[38;5;241;43m=\u001b[39;49m\u001b[43mprime\u001b[49m\u001b[43m)\u001b[49m\n",
      "File \u001b[0;32m/opt/conda/lib/python3.9/site-packages/sympy/discrete/transforms.py:140\u001b[0m, in \u001b[0;36m_number_theoretic_transform\u001b[0;34m(seq, prime, inverse)\u001b[0m\n\u001b[1;32m    138\u001b[0m p \u001b[38;5;241m=\u001b[39m as_int(prime)\n\u001b[1;32m    139\u001b[0m \u001b[38;5;28;01mif\u001b[39;00m \u001b[38;5;129;01mnot\u001b[39;00m isprime(p):\n\u001b[0;32m--> 140\u001b[0m     \u001b[38;5;28;01mraise\u001b[39;00m \u001b[38;5;167;01mValueError\u001b[39;00m(\u001b[38;5;124m\"\u001b[39m\u001b[38;5;124mExpected prime modulus for \u001b[39m\u001b[38;5;124m\"\u001b[39m\n\u001b[1;32m    141\u001b[0m                     \u001b[38;5;124m\"\u001b[39m\u001b[38;5;124mNumber Theoretic Transform\u001b[39m\u001b[38;5;124m\"\u001b[39m)\n\u001b[1;32m    143\u001b[0m a \u001b[38;5;241m=\u001b[39m [as_int(x) \u001b[38;5;241m%\u001b[39m p \u001b[38;5;28;01mfor\u001b[39;00m x \u001b[38;5;129;01min\u001b[39;00m seq]\n\u001b[1;32m    145\u001b[0m n \u001b[38;5;241m=\u001b[39m \u001b[38;5;28mlen\u001b[39m(a)\n",
      "\u001b[0;31mValueError\u001b[0m: Expected prime modulus for Number Theoretic Transform"
     ]
    }
   ],
   "source": [
    "f_a = ntt(a_k, prime=1267650638007162390353805312001)"
   ]
  },
  {
   "cell_type": "code",
   "execution_count": null,
   "metadata": {},
   "outputs": [],
   "source": []
  }
 ],
 "metadata": {
  "colab": {
   "collapsed_sections": [],
   "name": "20200904 Product of integers with FFT-Updated.ipynb",
   "provenance": []
  },
  "kernelspec": {
   "display_name": "Python 3 (ipykernel)",
   "language": "python",
   "name": "python3"
  },
  "language_info": {
   "codemirror_mode": {
    "name": "ipython",
    "version": 3
   },
   "file_extension": ".py",
   "mimetype": "text/x-python",
   "name": "python",
   "nbconvert_exporter": "python",
   "pygments_lexer": "ipython3",
   "version": "3.9.7"
  }
 },
 "nbformat": 4,
 "nbformat_minor": 4
}
