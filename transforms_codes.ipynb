{
 "cells": [
  {
   "cell_type": "code",
   "execution_count": 4,
   "id": "c793b389-a9c8-4aa5-8b7d-bc16ff43cf30",
   "metadata": {},
   "outputs": [],
   "source": [
    "from scipy.fft import fft, ifft\n",
    "import numpy as np\n",
    "from scipy.linalg import dft\n",
    "from sympy import ntt, intt\n",
    "\n",
    "np.set_printoptions(precision=2, suppress=True)"
   ]
  },
  {
   "cell_type": "code",
   "execution_count": 2,
   "id": "538b7dd5-5561-4671-a8e0-7811fa15d945",
   "metadata": {},
   "outputs": [],
   "source": [
    "def list_to_int(l):\n",
    "    return int(''.join(list(map(lambda x: str(x),list(l)[::-1]))))\n",
    "\n",
    "def coef_l_to_int(l, base=10):\n",
    "    N = len(l)\n",
    "    sum_i = 0\n",
    "    for i in range(N):\n",
    "        sum_i += l[i]*(base**i)\n",
    "    return sum_i"
   ]
  },
  {
   "cell_type": "code",
   "execution_count": 81,
   "id": "58628305-fd3e-4c69-a078-ab1a01b36511",
   "metadata": {},
   "outputs": [],
   "source": [
    "N = 2\n",
    "\n",
    "a = np.random.randint(1,9, size=N)\n",
    "b = np.random.randint(1,9, size=N)\n",
    "\n",
    "a_vec = list(np.concatenate([a,np.random.randint(1, size=N)]))\n",
    "b_vec = list(np.concatenate([b,np.random.randint(1, size=N)]))\n",
    "\n",
    "a_int = list_to_int(a)\n",
    "b_int = list_to_int(b)"
   ]
  },
  {
   "cell_type": "code",
   "execution_count": 82,
   "id": "45946b74-49a9-4445-8dfa-5928819ca49a",
   "metadata": {},
   "outputs": [
    {
     "data": {
      "text/plain": [
       "(array([3, 6]), [3, 6, 0, 0], 63)"
      ]
     },
     "execution_count": 82,
     "metadata": {},
     "output_type": "execute_result"
    }
   ],
   "source": [
    "a, a_vec, a_int"
   ]
  },
  {
   "cell_type": "code",
   "execution_count": 83,
   "id": "147587d5-5410-42cc-a0d5-2b2d51e3b2ef",
   "metadata": {},
   "outputs": [
    {
     "data": {
      "text/plain": [
       "(array([3, 7]), [3, 7, 0, 0], 73)"
      ]
     },
     "execution_count": 83,
     "metadata": {},
     "output_type": "execute_result"
    }
   ],
   "source": [
    "b, b_vec, b_int"
   ]
  },
  {
   "cell_type": "code",
   "execution_count": 84,
   "id": "98e1061a-4070-4006-a767-b8b15be82113",
   "metadata": {},
   "outputs": [
    {
     "data": {
      "text/plain": [
       "4599"
      ]
     },
     "execution_count": 84,
     "metadata": {},
     "output_type": "execute_result"
    }
   ],
   "source": [
    "a_int*b_int"
   ]
  },
  {
   "cell_type": "markdown",
   "id": "58b2cd3c-9903-46d1-84b0-ad372001dfb4",
   "metadata": {},
   "source": [
    "# FFT"
   ]
  },
  {
   "cell_type": "markdown",
   "id": "57c5c8bc-4b49-4de0-9224-adb7485a3cc2",
   "metadata": {},
   "source": [
    "## Ejemplo 1"
   ]
  },
  {
   "cell_type": "code",
   "execution_count": 7,
   "id": "e4729f44-f284-454a-8976-2794a1eb1ecb",
   "metadata": {},
   "outputs": [
    {
     "data": {
      "text/plain": [
       "array([10.-0.j,  2.-8.j, -6.-0.j,  2.+8.j])"
      ]
     },
     "execution_count": 7,
     "metadata": {},
     "output_type": "execute_result"
    }
   ],
   "source": [
    "f_a = fft(np.array([2, 8, 0, 0]))\n",
    "f_a"
   ]
  },
  {
   "cell_type": "code",
   "execution_count": 8,
   "id": "66d38f03-64f2-40bc-a8cf-6b843e68e78d",
   "metadata": {},
   "outputs": [
    {
     "data": {
      "text/plain": [
       "array([7.-0.j, 4.-3.j, 1.-0.j, 4.+3.j])"
      ]
     },
     "execution_count": 8,
     "metadata": {},
     "output_type": "execute_result"
    }
   ],
   "source": [
    "f_b = fft(np.array([4, 3, 0, 0]))\n",
    "f_b"
   ]
  },
  {
   "cell_type": "code",
   "execution_count": 9,
   "id": "c1d29b63-2a69-48f4-a4c6-2782aa29bfb1",
   "metadata": {},
   "outputs": [
    {
     "data": {
      "text/plain": [
       "array([ 70. -0.j, -16.-38.j,  -6. +0.j, -16.+38.j])"
      ]
     },
     "execution_count": 9,
     "metadata": {},
     "output_type": "execute_result"
    }
   ],
   "source": [
    "f_c = np.multiply(f_a,f_b)\n",
    "f_c"
   ]
  },
  {
   "cell_type": "code",
   "execution_count": 10,
   "id": "cda2defa-e7db-4669-8e00-9d29b6c030d1",
   "metadata": {},
   "outputs": [
    {
     "data": {
      "text/plain": [
       "array([ 8., 38., 24.,  0.])"
      ]
     },
     "execution_count": 10,
     "metadata": {},
     "output_type": "execute_result"
    }
   ],
   "source": [
    "ifft(f_c).real"
   ]
  },
  {
   "cell_type": "code",
   "execution_count": 11,
   "id": "37bb535a-13a0-4a39-bfbe-c9b8c7d51f05",
   "metadata": {},
   "outputs": [
    {
     "data": {
      "text/plain": [
       "2788"
      ]
     },
     "execution_count": 11,
     "metadata": {},
     "output_type": "execute_result"
    }
   ],
   "source": [
    "coef_l_to_int(ifft(f_c).real.astype(int))"
   ]
  },
  {
   "cell_type": "markdown",
   "id": "82f1ac96-0136-44f4-84ee-b244992be94d",
   "metadata": {
    "tags": []
   },
   "source": [
    "## Ejemplo 2"
   ]
  },
  {
   "cell_type": "code",
   "execution_count": 85,
   "id": "39d9c236-1bf6-47a8-872c-8d411e55b2a3",
   "metadata": {},
   "outputs": [],
   "source": [
    "f_a = fft(a_vec)"
   ]
  },
  {
   "cell_type": "code",
   "execution_count": 86,
   "id": "59972f07-610b-4287-b922-c9b23dc0410b",
   "metadata": {},
   "outputs": [],
   "source": [
    "f_b = fft(b_vec)"
   ]
  },
  {
   "cell_type": "code",
   "execution_count": 87,
   "id": "34e9c18e-15e1-42bd-a6ff-d2700734deb9",
   "metadata": {},
   "outputs": [],
   "source": [
    "f_c = np.multiply(f_a,f_b)"
   ]
  },
  {
   "cell_type": "code",
   "execution_count": 88,
   "id": "5d164e51-70fb-48f6-87d2-06d3b3928d90",
   "metadata": {},
   "outputs": [
    {
     "data": {
      "text/plain": [
       "array([ 9, 39, 42,  0])"
      ]
     },
     "execution_count": 88,
     "metadata": {},
     "output_type": "execute_result"
    }
   ],
   "source": [
    "ifft(f_c).real.astype(int)"
   ]
  },
  {
   "cell_type": "code",
   "execution_count": 89,
   "id": "bd71c575-6533-473d-9b2b-2ffb42a3e8f0",
   "metadata": {},
   "outputs": [
    {
     "data": {
      "text/plain": [
       "4599"
      ]
     },
     "execution_count": 89,
     "metadata": {},
     "output_type": "execute_result"
    }
   ],
   "source": [
    "coef_l_to_int(ifft(f_c).real.astype(int))"
   ]
  },
  {
   "cell_type": "markdown",
   "id": "0c28bf09-00d8-415a-b875-e4bc6cbbfde2",
   "metadata": {},
   "source": [
    "# NTT"
   ]
  },
  {
   "cell_type": "markdown",
   "id": "799ac23c-1c94-40e2-b6ed-d45b505e4638",
   "metadata": {},
   "source": [
    "## Ejemplo 1"
   ]
  },
  {
   "cell_type": "code",
   "execution_count": 17,
   "id": "358f4c29-b50f-4f3d-846e-ace1598a9ae1",
   "metadata": {},
   "outputs": [
    {
     "data": {
      "text/plain": [
       "[10, 156751, 262651, 105910]"
      ]
     },
     "execution_count": 17,
     "metadata": {},
     "output_type": "execute_result"
    }
   ],
   "source": [
    "f_a = ntt(np.array([2,8,0,0]), prime=262657)\n",
    "f_a"
   ]
  },
  {
   "cell_type": "code",
   "execution_count": 18,
   "id": "292ce29d-d7f5-40a8-99f4-6bfa2ea0c046",
   "metadata": {
    "tags": []
   },
   "outputs": [
    {
     "data": {
      "text/plain": [
       "[7, 91617, 1, 171048]"
      ]
     },
     "execution_count": 18,
     "metadata": {},
     "output_type": "execute_result"
    }
   ],
   "source": [
    "f_b = ntt(np.array([4,3,0,0]), prime=262657)\n",
    "f_b"
   ]
  },
  {
   "cell_type": "code",
   "execution_count": 19,
   "id": "3c823e64-4bdc-4033-b56a-0a76aa4f3ee1",
   "metadata": {},
   "outputs": [
    {
     "data": {
      "text/plain": [
       "array([         70, 14361056367,      262651, 18115693680])"
      ]
     },
     "execution_count": 19,
     "metadata": {},
     "output_type": "execute_result"
    }
   ],
   "source": [
    "f_c = np.multiply(f_a,f_b)\n",
    "f_c"
   ]
  },
  {
   "cell_type": "code",
   "execution_count": 20,
   "id": "13b02af3-26d3-415e-b647-509a4bb7f732",
   "metadata": {},
   "outputs": [
    {
     "data": {
      "text/plain": [
       "[8, 38, 24, 0]"
      ]
     },
     "execution_count": 20,
     "metadata": {},
     "output_type": "execute_result"
    }
   ],
   "source": [
    "intt(f_c, prime=262657)"
   ]
  },
  {
   "cell_type": "markdown",
   "id": "86a812ea-45e4-416e-94c4-8f44320e9309",
   "metadata": {},
   "source": [
    "## Ejemplo 2"
   ]
  },
  {
   "cell_type": "code",
   "execution_count": 3,
   "id": "22438d93-113a-46f8-9374-08f9c6cd17dc",
   "metadata": {},
   "outputs": [
    {
     "ename": "NameError",
     "evalue": "name 'ntt' is not defined",
     "output_type": "error",
     "traceback": [
      "\u001b[0;31m---------------------------------------------------------------------------\u001b[0m",
      "\u001b[0;31mNameError\u001b[0m                                 Traceback (most recent call last)",
      "Input \u001b[0;32mIn [3]\u001b[0m, in \u001b[0;36m<module>\u001b[0;34m\u001b[0m\n\u001b[0;32m----> 1\u001b[0m f_a \u001b[38;5;241m=\u001b[39m \u001b[43mntt\u001b[49m([\u001b[38;5;241m1\u001b[39m,\u001b[38;5;241m0\u001b[39m], prime\u001b[38;5;241m=\u001b[39m\u001b[38;5;241m262657\u001b[39m)\n",
      "\u001b[0;31mNameError\u001b[0m: name 'ntt' is not defined"
     ]
    }
   ],
   "source": [
    "f_a = ntt([1,0], prime=262657)"
   ]
  },
  {
   "cell_type": "code",
   "execution_count": 137,
   "id": "d7f110fc-0b16-470e-a5c3-ca17541afdd5",
   "metadata": {
    "tags": []
   },
   "outputs": [],
   "source": [
    "f_b = ntt([5,0], prime=262657)"
   ]
  },
  {
   "cell_type": "code",
   "execution_count": 138,
   "id": "f666a2c8-c2b2-447f-86f5-ecf571839cca",
   "metadata": {},
   "outputs": [
    {
     "data": {
      "text/plain": [
       "([3, 3], [5, 5])"
      ]
     },
     "execution_count": 138,
     "metadata": {},
     "output_type": "execute_result"
    }
   ],
   "source": [
    "f_a,f_b"
   ]
  },
  {
   "cell_type": "code",
   "execution_count": 139,
   "id": "5da5eb93-043f-47c0-87d6-9aece14ab7fb",
   "metadata": {},
   "outputs": [],
   "source": [
    "f_c = np.multiply(f_a,f_b)"
   ]
  },
  {
   "cell_type": "code",
   "execution_count": 140,
   "id": "386d1874-46db-46f0-822b-f06a8f55b7e2",
   "metadata": {},
   "outputs": [
    {
     "data": {
      "text/plain": [
       "array([15, 15])"
      ]
     },
     "execution_count": 140,
     "metadata": {},
     "output_type": "execute_result"
    }
   ],
   "source": [
    "f_c"
   ]
  },
  {
   "cell_type": "code",
   "execution_count": 141,
   "id": "4d71c86b-9392-4f42-a4d6-359880843a6c",
   "metadata": {},
   "outputs": [
    {
     "data": {
      "text/plain": [
       "[15, 0]"
      ]
     },
     "execution_count": 141,
     "metadata": {},
     "output_type": "execute_result"
    }
   ],
   "source": [
    "intt(f_c, prime=262657)"
   ]
  },
  {
   "cell_type": "code",
   "execution_count": 142,
   "id": "e9d6b9d8-3884-44f1-a297-edcfb202de8c",
   "metadata": {},
   "outputs": [
    {
     "data": {
      "text/plain": [
       "[6, 4]"
      ]
     },
     "execution_count": 142,
     "metadata": {},
     "output_type": "execute_result"
    }
   ],
   "source": [
    "ntt(np.array([5,1]), prime=262657)"
   ]
  },
  {
   "cell_type": "code",
   "execution_count": 144,
   "id": "8ce5941a-6cb4-4a80-8766-cbfd523e71a2",
   "metadata": {},
   "outputs": [
    {
     "data": {
      "text/plain": [
       "[15, 15]"
      ]
     },
     "execution_count": 144,
     "metadata": {},
     "output_type": "execute_result"
    }
   ],
   "source": [
    "ntt(np.array([15,0]), prime=262657)"
   ]
  },
  {
   "cell_type": "code",
   "execution_count": 5,
   "id": "b9a9fa89-8ef8-466e-9651-0fbfa0e31ae2",
   "metadata": {},
   "outputs": [
    {
     "data": {
      "text/plain": [
       "[131329, 131329]"
      ]
     },
     "execution_count": 5,
     "metadata": {},
     "output_type": "execute_result"
    }
   ],
   "source": [
    "intt(np.array([1,0]), prime=262657)"
   ]
  },
  {
   "cell_type": "code",
   "execution_count": 6,
   "id": "f18dbb4e-cb2d-42b0-bb03-9f1f8bacd5da",
   "metadata": {},
   "outputs": [
    {
     "data": {
      "text/plain": [
       "[131329, 131328]"
      ]
     },
     "execution_count": 6,
     "metadata": {},
     "output_type": "execute_result"
    }
   ],
   "source": [
    "intt(np.array([0,1]), prime=262657)"
   ]
  },
  {
   "cell_type": "code",
   "execution_count": 9,
   "id": "816bbad0-cfc9-4d17-8657-a67b46ec455a",
   "metadata": {},
   "outputs": [
    {
     "data": {
      "text/plain": [
       "131331"
      ]
     },
     "execution_count": 9,
     "metadata": {},
     "output_type": "execute_result"
    }
   ],
   "source": [
    "(pow(2,-1,262657) * 5) % 262657"
   ]
  },
  {
   "cell_type": "code",
   "execution_count": 10,
   "id": "9c061dc5-f5bc-4857-94d2-d8f496f56d5e",
   "metadata": {},
   "outputs": [
    {
     "data": {
      "text/plain": [
       "5"
      ]
     },
     "execution_count": 10,
     "metadata": {},
     "output_type": "execute_result"
    }
   ],
   "source": [
    "primitive_root(262657)"
   ]
  },
  {
   "cell_type": "code",
   "execution_count": 143,
   "id": "0a6ba33b-2e40-455b-bf45-5e84560cfb1a",
   "metadata": {},
   "outputs": [
    {
     "data": {
      "text/plain": [
       "15"
      ]
     },
     "execution_count": 143,
     "metadata": {},
     "output_type": "execute_result"
    }
   ],
   "source": [
    "coef_l_to_int(intt(f_c, prime=262657))"
   ]
  },
  {
   "cell_type": "code",
   "execution_count": 99,
   "id": "b21edc7a-79be-4fad-8dec-3ff610eed6d4",
   "metadata": {},
   "outputs": [
    {
     "data": {
      "text/plain": [
       "array([ 10,  38, 178, 878])"
      ]
     },
     "execution_count": 99,
     "metadata": {},
     "output_type": "execute_result"
    }
   ],
   "source": [
    "np.dot(np.array([[1,1,1,1],\n",
    "          [1,5,25,125],\n",
    "          [1,25,625,15625],\n",
    "          [1,125,15625,114526]]),\n",
    "       np.array([3,7,0,0]))"
   ]
  },
  {
   "cell_type": "code",
   "execution_count": 98,
   "id": "a5b72237-ce80-4a92-8d1e-c5d16f8d99fb",
   "metadata": {},
   "outputs": [
    {
     "data": {
      "text/plain": [
       "array([   27,   679, 65859, 12049])"
      ]
     },
     "execution_count": 98,
     "metadata": {},
     "output_type": "execute_result"
    }
   ],
   "source": [
    "np.mod(np.array([    27,    679,  65859, 537363]),262657)"
   ]
  },
  {
   "cell_type": "code",
   "execution_count": null,
   "id": "89aff81f-008d-4e7d-b54f-504ff13c6bb4",
   "metadata": {},
   "outputs": [],
   "source": []
  },
  {
   "cell_type": "code",
   "execution_count": null,
   "id": "602099df-b2a6-40c3-afee-2861b0808334",
   "metadata": {},
   "outputs": [],
   "source": []
  },
  {
   "cell_type": "code",
   "execution_count": null,
   "id": "680c6a9f-2930-4646-8d6b-2790304ea999",
   "metadata": {},
   "outputs": [],
   "source": []
  },
  {
   "cell_type": "code",
   "execution_count": 68,
   "id": "d75d0025-ec5a-4c2f-ac2c-5d88da9ff790",
   "metadata": {},
   "outputs": [
    {
     "data": {
      "text/plain": [
       "array([     8, 261057, 209705, 221998,      0, 237786,  52956,  67142])"
      ]
     },
     "execution_count": 68,
     "metadata": {},
     "output_type": "execute_result"
    }
   ],
   "source": [
    "(ntt(f_c, prime=262657) /f_b).astype(int)"
   ]
  },
  {
   "cell_type": "code",
   "execution_count": null,
   "id": "ec921484-befc-494b-9cf2-d0f0192db6cf",
   "metadata": {},
   "outputs": [],
   "source": [
    "coef_l_to_int(intt(f_c, prime=262657))"
   ]
  },
  {
   "cell_type": "code",
   "execution_count": null,
   "id": "466158b2-b72b-4928-8a88-7876749b099c",
   "metadata": {},
   "outputs": [],
   "source": []
  },
  {
   "cell_type": "code",
   "execution_count": null,
   "id": "a7f1e410-75da-488b-bf5e-c5e0047a079d",
   "metadata": {},
   "outputs": [],
   "source": []
  },
  {
   "cell_type": "code",
   "execution_count": null,
   "id": "0d53fd7a-b63f-44d5-b6da-f3a79ea02407",
   "metadata": {},
   "outputs": [],
   "source": []
  },
  {
   "cell_type": "code",
   "execution_count": null,
   "id": "5e99ba83-352a-4ef2-b27f-ef41a60d1231",
   "metadata": {},
   "outputs": [],
   "source": [
    "a_hat = ntt(np.array([2, 0, 0, 0]), prime=5)"
   ]
  },
  {
   "cell_type": "code",
   "execution_count": null,
   "id": "1f78952b-fda7-4450-9f66-5a36ec9475f9",
   "metadata": {},
   "outputs": [],
   "source": [
    "b_hat = ntt(np.array([3,0, 0, 0 ]), prime=5)"
   ]
  },
  {
   "cell_type": "code",
   "execution_count": null,
   "id": "33acdfb5-f147-4320-9f22-e76ebe7ed3f1",
   "metadata": {},
   "outputs": [],
   "source": [
    "b_hat"
   ]
  },
  {
   "cell_type": "code",
   "execution_count": null,
   "id": "f15d084f-bba6-4cf1-95df-b2b549eae013",
   "metadata": {},
   "outputs": [],
   "source": [
    "c_hat = np.multiply(a_hat, b_hat)\n",
    "c_hat"
   ]
  },
  {
   "cell_type": "code",
   "execution_count": null,
   "id": "39fd68e0-c1d3-443b-88a5-66ca3135ac7e",
   "metadata": {},
   "outputs": [],
   "source": [
    "intt(np.array([1,1]), prime=5)"
   ]
  },
  {
   "cell_type": "code",
   "execution_count": null,
   "id": "db63b9db-32af-497b-910a-fa4f66b15a1c",
   "metadata": {},
   "outputs": [],
   "source": [
    "d_hat = ntt(np.array([4,0, 0, 0 ]), prime=5)"
   ]
  },
  {
   "cell_type": "code",
   "execution_count": null,
   "id": "674d32f0-f931-4263-92f6-f4eae947de89",
   "metadata": {},
   "outputs": [],
   "source": [
    "np.mod(np.multiply(a_hat, d_hat),5)"
   ]
  },
  {
   "cell_type": "code",
   "execution_count": null,
   "id": "8ed44ea4-04f9-4dae-849d-eb91ed2ea765",
   "metadata": {},
   "outputs": [],
   "source": [
    "intt(np.mod(np.multiply(a_hat, d_hat),5), prime=5)"
   ]
  },
  {
   "cell_type": "code",
   "execution_count": null,
   "id": "20564c6e-ce30-4e1f-84e3-092608f7aafa",
   "metadata": {},
   "outputs": [],
   "source": [
    "np.multiply(a_hat, d_hat)"
   ]
  },
  {
   "cell_type": "code",
   "execution_count": null,
   "id": "68afe702-6630-4b34-aadf-950817bf22a0",
   "metadata": {},
   "outputs": [],
   "source": [
    "N = 256\n",
    "a = list(np.concatenate([np.random.randint(9, size=N),np.random.randint(1, size=N)]))"
   ]
  },
  {
   "cell_type": "code",
   "execution_count": null,
   "id": "d913775a-0889-49e0-a7d5-956193975803",
   "metadata": {},
   "outputs": [],
   "source": [
    "#ntt(a, prime=262657)"
   ]
  },
  {
   "cell_type": "code",
   "execution_count": null,
   "id": "92626f4e-dd4e-452e-9061-b58678a9e680",
   "metadata": {},
   "outputs": [],
   "source": []
  },
  {
   "cell_type": "code",
   "execution_count": null,
   "id": "333b2989-3334-4c30-b7fa-bc6ffbc8630d",
   "metadata": {},
   "outputs": [],
   "source": []
  },
  {
   "cell_type": "code",
   "execution_count": null,
   "id": "42317d30-239a-42bc-a26c-a464eeed808c",
   "metadata": {},
   "outputs": [],
   "source": []
  },
  {
   "cell_type": "code",
   "execution_count": null,
   "id": "7e4580f1-d487-4123-a7e1-36b9eb343cc8",
   "metadata": {},
   "outputs": [],
   "source": []
  },
  {
   "cell_type": "code",
   "execution_count": null,
   "id": "5adf5fb9-e37f-4e86-95e2-719027b5529b",
   "metadata": {},
   "outputs": [],
   "source": [
    "ntt(np.array([8,0,0,0]), prime=262657)"
   ]
  },
  {
   "cell_type": "code",
   "execution_count": null,
   "id": "0a4b9feb-4e99-46aa-b691-569a1f4971e9",
   "metadata": {},
   "outputs": [],
   "source": []
  },
  {
   "cell_type": "code",
   "execution_count": null,
   "id": "6115dd06-5786-4acb-a052-bdbeb831412f",
   "metadata": {},
   "outputs": [],
   "source": [
    "f_a = ntt(np.array([0,0,2000,0,0,0,0,0]), prime=262657)\n",
    "f_a"
   ]
  },
  {
   "cell_type": "code",
   "execution_count": null,
   "id": "c77b9e94-de4f-49e9-858b-18dea80bfd17",
   "metadata": {
    "tags": []
   },
   "outputs": [],
   "source": [
    "f_b = ntt(np.array([0,0,2000,0,0,0,0,0]), prime=262657)\n",
    "f_b"
   ]
  },
  {
   "cell_type": "code",
   "execution_count": null,
   "id": "e81d0eba-3156-4f1f-8246-5f38cb7754a9",
   "metadata": {},
   "outputs": [],
   "source": [
    "f_c = np.multiply(f_a,f_b)\n",
    "f_c"
   ]
  },
  {
   "cell_type": "code",
   "execution_count": null,
   "id": "34a71609-87c4-4fbd-9967-8b8442cc2b96",
   "metadata": {},
   "outputs": [],
   "source": [
    "intt(f_c, prime=262657)"
   ]
  },
  {
   "cell_type": "code",
   "execution_count": null,
   "id": "a31c814f-52a6-4896-9d78-664234ed41a4",
   "metadata": {},
   "outputs": [],
   "source": [
    "np.mod(np.dot(np.array([[1,1,1,1],\n",
    "                  [1,2,4,8],\n",
    "                  [1,4,16,64],\n",
    "                  [1,8,64,512]]),np.array([1, 4, 0, 0])),5)"
   ]
  },
  {
   "cell_type": "code",
   "execution_count": null,
   "id": "00a3f874-d7ee-41a9-839a-9e43b9f49abd",
   "metadata": {},
   "outputs": [],
   "source": [
    "ntt(np.array([1, 4, 0, 0]), prime=5)"
   ]
  },
  {
   "cell_type": "code",
   "execution_count": null,
   "id": "b2f97b5d-c135-4a46-b346-30e66d34feed",
   "metadata": {},
   "outputs": [],
   "source": [
    "np.dot(np.array([[1,1],\n",
    "                 [1,2]]),np.array([1,4]))"
   ]
  },
  {
   "cell_type": "code",
   "execution_count": null,
   "id": "ade501fc-5078-4495-9860-4b775c5003b0",
   "metadata": {},
   "outputs": [],
   "source": []
  },
  {
   "cell_type": "code",
   "execution_count": null,
   "id": "50a88525-3032-4007-94d8-c6952c76fcbc",
   "metadata": {},
   "outputs": [],
   "source": [
    "from sympy.ntheory import totient, factorint"
   ]
  },
  {
   "cell_type": "code",
   "execution_count": null,
   "id": "99689544-8d2c-42d6-868d-1d475becb34d",
   "metadata": {},
   "outputs": [],
   "source": [
    "totient(262657)"
   ]
  },
  {
   "cell_type": "code",
   "execution_count": 1,
   "id": "3f0c0928-7c81-401f-b846-dec001267253",
   "metadata": {},
   "outputs": [],
   "source": [
    "from sympy.ntheory.residue_ntheory import primitive_root"
   ]
  },
  {
   "cell_type": "code",
   "execution_count": 2,
   "id": "2f473cfb-0152-4af9-9160-a4ee6a7728a1",
   "metadata": {},
   "outputs": [
    {
     "data": {
      "text/plain": [
       "2"
      ]
     },
     "execution_count": 2,
     "metadata": {},
     "output_type": "execute_result"
    }
   ],
   "source": [
    "primitive_root(9)"
   ]
  },
  {
   "cell_type": "code",
   "execution_count": 154,
   "id": "96b5f4f3-c04e-4c6f-b0fe-0ebe42a75ddf",
   "metadata": {},
   "outputs": [
    {
     "data": {
      "text/plain": [
       "2"
      ]
     },
     "execution_count": 154,
     "metadata": {},
     "output_type": "execute_result"
    }
   ],
   "source": [
    "primitive_root(5)"
   ]
  },
  {
   "cell_type": "code",
   "execution_count": 95,
   "id": "8e257f77-10c2-4b93-8fda-bfb6ba8e8f71",
   "metadata": {},
   "outputs": [
    {
     "data": {
      "text/plain": [
       "5"
      ]
     },
     "execution_count": 95,
     "metadata": {},
     "output_type": "execute_result"
    }
   ],
   "source": [
    "primitive_root(262657)"
   ]
  },
  {
   "cell_type": "code",
   "execution_count": null,
   "id": "2795dd08-6861-4731-a71f-9db857b15970",
   "metadata": {},
   "outputs": [],
   "source": []
  },
  {
   "cell_type": "code",
   "execution_count": null,
   "id": "75de4292-223d-4a05-9e05-000c99f04789",
   "metadata": {},
   "outputs": [],
   "source": [
    "from sympy.ntheory import primefactors"
   ]
  },
  {
   "cell_type": "code",
   "execution_count": null,
   "id": "d6d5c7d5-13df-4ea1-89fd-2d3124be7ae2",
   "metadata": {},
   "outputs": [],
   "source": [
    "sorted(factorint(262656).items())"
   ]
  },
  {
   "cell_type": "code",
   "execution_count": null,
   "id": "1ea8119b-39ca-48cb-9bba-5fe3a2ed83fd",
   "metadata": {},
   "outputs": [],
   "source": []
  },
  {
   "cell_type": "code",
   "execution_count": null,
   "id": "aa3fcd0f-ca07-4bbe-bc71-2fe4d523a015",
   "metadata": {},
   "outputs": [],
   "source": []
  },
  {
   "cell_type": "code",
   "execution_count": null,
   "id": "ff8d35d3-7bfd-4aef-9222-8e7fe1ecdb4e",
   "metadata": {},
   "outputs": [],
   "source": [
    "# Python3 program to find primitive root\n",
    "# of a given number n\n",
    "from math import sqrt\n",
    " \n",
    "# Returns True if n is prime\n",
    "def isPrime( n):\n",
    " \n",
    "    # Corner cases\n",
    "    if (n <= 1):\n",
    "        return False\n",
    "    if (n <= 3):\n",
    "        return True\n",
    " \n",
    "    # This is checked so that we can skip\n",
    "    # middle five numbers in below loop\n",
    "    if (n % 2 == 0 or n % 3 == 0):\n",
    "        return False\n",
    "    i = 5\n",
    "    while(i * i <= n):\n",
    "        if (n % i == 0 or n % (i + 2) == 0) :\n",
    "            return False\n",
    "        i = i + 6\n",
    " \n",
    "    return True\n",
    " \n",
    "\"\"\" Iterative Function to calculate (x^n)%p\n",
    "    in O(logy) */\"\"\"\n",
    "def power( x, y, p):\n",
    " \n",
    "    res = 1 # Initialize result\n",
    " \n",
    "    x = x % p # Update x if it is more\n",
    "              # than or equal to p\n",
    " \n",
    "    while (y > 0):\n",
    " \n",
    "        # If y is odd, multiply x with result\n",
    "        if (y & 1):\n",
    "            res = (res * x) % p\n",
    " \n",
    "        # y must be even now\n",
    "        y = y >> 1 # y = y/2\n",
    "        x = (x * x) % p\n",
    " \n",
    "    return res\n",
    " \n",
    "# Utility function to store prime\n",
    "# factors of a number\n",
    "def findPrimefactors(s, n) :\n",
    " \n",
    "    # Print the number of 2s that divide n\n",
    "    while (n % 2 == 0) :\n",
    "        s.add(2)\n",
    "        n = n // 2\n",
    " \n",
    "    # n must be odd at this point. So we can \n",
    "    # skip one element (Note i = i +2)\n",
    "    for i in range(3, int(sqrt(n)), 2):\n",
    "         \n",
    "        # While i divides n, print i and divide n\n",
    "        while (n % i == 0) :\n",
    " \n",
    "            s.add(i)\n",
    "            n = n // i\n",
    "         \n",
    "    # This condition is to handle the case\n",
    "    # when n is a prime number greater than 2\n",
    "    if (n > 2) :\n",
    "        s.add(n)\n",
    " \n",
    "# Function to find smallest primitive\n",
    "# root of n\n",
    "def findPrimitive( n) :\n",
    "    s = set()\n",
    " \n",
    "    # Check if n is prime or not\n",
    "    if (isPrime(n) == False):\n",
    "        return -1\n",
    " \n",
    "    # Find value of Euler Totient function\n",
    "    # of n. Since n is a prime number, the\n",
    "    # value of Euler Totient function is n-1\n",
    "    # as there are n-1 relatively prime numbers.\n",
    "    phi = n - 1\n",
    " \n",
    "    # Find prime factors of phi and store in a set\n",
    "    findPrimefactors(s, phi)\n",
    " \n",
    "    # Check for every number from 2 to phi\n",
    "    for r in range(2, phi + 1):\n",
    " \n",
    "        # Iterate through all prime factors of phi.\n",
    "        # and check if we found a power with value 1\n",
    "        flag = False\n",
    "        for it in s:\n",
    " \n",
    "            # Check if r^((phi)/primefactors)\n",
    "            # mod n is 1 or not\n",
    "            if (power(r, phi // it, n) == 1):\n",
    " \n",
    "                flag = True\n",
    "                break\n",
    "             \n",
    "        # If there was no power with value 1.\n",
    "        if (flag == False):\n",
    "            return r\n",
    " \n",
    "    # If no primitive root found\n",
    "    return -1"
   ]
  },
  {
   "cell_type": "code",
   "execution_count": null,
   "id": "3a40506c-ff04-40d5-9f94-4a19f93523b8",
   "metadata": {},
   "outputs": [],
   "source": [
    "# Driver Code\n",
    "n = 262657\n",
    "print(\"Smallest primitive root of\",\n",
    "         n, \"is\", findPrimitive(n))\n",
    " \n",
    "# This code is contributed by\n",
    "# Shubham Singh(SHUBHAMSINGH10)"
   ]
  },
  {
   "cell_type": "code",
   "execution_count": null,
   "id": "eada9ea2-4c33-4f69-9179-b6a8a03008f5",
   "metadata": {},
   "outputs": [],
   "source": []
  },
  {
   "cell_type": "code",
   "execution_count": null,
   "id": "0acfd0cb-8817-4b51-abe2-6e5d8d5c51e0",
   "metadata": {},
   "outputs": [],
   "source": [
    "T_n = lambda n: 16**n + 8**n + 4**n + 2**n + 1"
   ]
  },
  {
   "cell_type": "code",
   "execution_count": null,
   "id": "2ae02bd3-cd90-4ec2-97b9-bbc4193f6da4",
   "metadata": {},
   "outputs": [],
   "source": [
    "T_n(25)"
   ]
  },
  {
   "cell_type": "code",
   "execution_count": null,
   "id": "4de0a1d3-c82c-4be5-a235-5df05eabf8b0",
   "metadata": {},
   "outputs": [],
   "source": [
    "from sympy import isprime"
   ]
  },
  {
   "cell_type": "code",
   "execution_count": null,
   "id": "3778d460-9c44-438d-8dee-37f7be1dd68c",
   "metadata": {},
   "outputs": [],
   "source": [
    "isprime(262657)"
   ]
  },
  {
   "cell_type": "code",
   "execution_count": null,
   "id": "54180681-9b27-4e3f-9bc8-911b6f8ece64",
   "metadata": {},
   "outputs": [],
   "source": []
  },
  {
   "cell_type": "code",
   "execution_count": 158,
   "id": "76b49b18-0018-4970-8808-04005890f218",
   "metadata": {},
   "outputs": [
    {
     "data": {
      "text/plain": [
       "2"
      ]
     },
     "execution_count": 158,
     "metadata": {},
     "output_type": "execute_result"
    }
   ],
   "source": [
    "len([1,4,0,0]).bit_length()-1"
   ]
  },
  {
   "cell_type": "code",
   "execution_count": 163,
   "id": "fc3d158f-9cd2-4c90-9fbc-a114da520113",
   "metadata": {},
   "outputs": [
    {
     "name": "stdout",
     "output_type": "stream",
     "text": [
      "1\n"
     ]
    }
   ],
   "source": [
    "if 262657&(262657-1):\n",
    "    print(1)"
   ]
  },
  {
   "cell_type": "code",
   "execution_count": 161,
   "id": "9e86f603-f8cd-4a56-b2eb-6b01bc00b651",
   "metadata": {},
   "outputs": [
    {
     "data": {
      "text/plain": [
       "0"
      ]
     },
     "execution_count": 161,
     "metadata": {},
     "output_type": "execute_result"
    }
   ],
   "source": [
    "1&10"
   ]
  },
  {
   "cell_type": "code",
   "execution_count": null,
   "id": "eb61310a-39ea-423f-8fc6-d47f5d3d3cf5",
   "metadata": {},
   "outputs": [],
   "source": []
  }
 ],
 "metadata": {
  "kernelspec": {
   "display_name": "Python 3 (ipykernel)",
   "language": "python",
   "name": "python3"
  },
  "language_info": {
   "codemirror_mode": {
    "name": "ipython",
    "version": 3
   },
   "file_extension": ".py",
   "mimetype": "text/x-python",
   "name": "python",
   "nbconvert_exporter": "python",
   "pygments_lexer": "ipython3",
   "version": "3.9.7"
  }
 },
 "nbformat": 4,
 "nbformat_minor": 5
}
