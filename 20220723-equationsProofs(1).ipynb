{
 "cells": [
  {
   "cell_type": "code",
   "execution_count": 1,
   "id": "24e9bab1-64ac-4ac4-ae88-a9c76f6a9391",
   "metadata": {},
   "outputs": [],
   "source": [
    "import numpy as np"
   ]
  },
  {
   "cell_type": "code",
   "execution_count": 2,
   "id": "e9f3bfc1-3157-498c-b144-0998f56540b8",
   "metadata": {},
   "outputs": [],
   "source": [
    "f = np.array([1,4,0,0])\n",
    "# f_hat = np.array([5, 249, 766, 522]) # para m = 769\n",
    "f_hat = np.array([0, 4, 2, 3]) # para m=5\n",
    "\n",
    "alpha = 2\n",
    "m = 5\n",
    "# alpha = 11\n",
    "# m = 769\n",
    "N     = 4\n",
    "# N_inv = 4"
   ]
  },
  {
   "cell_type": "code",
   "execution_count": 3,
   "id": "f8f1d435-737a-4079-bf95-d908e086ecde",
   "metadata": {},
   "outputs": [],
   "source": [
    "## From https://medium.com/geekculture/euclidean-algorithm-using-python-dc7785bb674a\n",
    "def extended_euclidean(a, b):\n",
    "    if b == 0:\n",
    "        gcd, s, t = a, 1, 0\n",
    "        return (gcd, s, t)  \n",
    "    else:    \n",
    "        s2, t2, s1, t1 = 1, 0, 0, 1   \n",
    "        while b > 0:      \n",
    "            q= a // b      \n",
    "            r, s, t = (a - b * q),(s2 - q * s1),( t2 - q * t1)      \n",
    "            a,b,s2,t2,s1,t1=b,r,s1,t1,s,t    \n",
    "        gcd,s,t=a,s2,t2    \n",
    "        return (gcd,s,t)"
   ]
  },
  {
   "cell_type": "code",
   "execution_count": 4,
   "id": "ad54994a-06b0-4b51-ab7b-e6af55dbc8f1",
   "metadata": {},
   "outputs": [],
   "source": [
    "def get_last_positive_congruence_classes(a,m):\n",
    "    if a>0: return a\n",
    "    else:\n",
    "        k = 1\n",
    "        while a<0:\n",
    "            a = a + k*m\n",
    "            k+=1\n",
    "        return a"
   ]
  },
  {
   "cell_type": "code",
   "execution_count": 5,
   "id": "80a7d23c-a8f3-4063-904a-8b65c7240f0d",
   "metadata": {},
   "outputs": [],
   "source": [
    "_,x,_ = extended_euclidean(N,m)\n",
    "N_inv = get_last_positive_congruence_classes(x,m)"
   ]
  },
  {
   "cell_type": "markdown",
   "id": "2e380bcb-3608-4e7d-aa6f-2f8df4750118",
   "metadata": {},
   "source": [
    "Proof #NTT"
   ]
  },
  {
   "cell_type": "code",
   "execution_count": 6,
   "id": "e0b1ae48-a536-4cce-b852-e03ac01b2342",
   "metadata": {},
   "outputs": [
    {
     "data": {
      "text/plain": [
       "[0, 4, 2, 3]"
      ]
     },
     "execution_count": 6,
     "metadata": {},
     "output_type": "execute_result"
    }
   ],
   "source": [
    "f_h = []\n",
    "N = len(f)\n",
    "\n",
    "for n in range(0, N):\n",
    "    sum_k = 0\n",
    "\n",
    "    for k in range(0, N):\n",
    "            sum_k += f[k] * (alpha**(n*k))\n",
    "    f_h.append(sum_k % m)\n",
    "\n",
    "f_h"
   ]
  },
  {
   "cell_type": "markdown",
   "id": "2b7a83e8-0a75-4d05-ad6f-89ad635e21f4",
   "metadata": {},
   "source": [
    "Proof # INTT"
   ]
  },
  {
   "cell_type": "code",
   "execution_count": 7,
   "id": "2e90ff0f-1127-491c-aa8c-b7c8d7c7c5bf",
   "metadata": {},
   "outputs": [
    {
     "data": {
      "text/plain": [
       "array([1, 4, 0, 0])"
      ]
     },
     "execution_count": 7,
     "metadata": {},
     "output_type": "execute_result"
    }
   ],
   "source": [
    "f_n = []\n",
    "N = len(f)\n",
    "\n",
    "for k in range(0, N):\n",
    "    sum_k = 0\n",
    "\n",
    "    for n in range(0, N):\n",
    "            sum_k += f_hat[n] * (alpha** (-(n*k)%N)) ## Change 1\n",
    "    f_n.append(sum_k % m)\n",
    "\n",
    "np.mod(N_inv*np.array(f_n), m) ## Change 2"
   ]
  },
  {
   "cell_type": "markdown",
   "id": "1b70bdbc-4579-4d3a-989f-fbf5cb9bb7f1",
   "metadata": {},
   "source": [
    "Proof #1\n",
    "$$\\hat{f}^{\\prime}_{n} = \\sum^{N-1}_{k=1}{\\underbrace{(kf_{k})}_\\text{from (\\ref{eq:prop:1b})} \\alpha^{n(k-1)}} \\mod{m}, \\quad n=0, \\ldots, N-1$$"
   ]
  },
  {
   "cell_type": "code",
   "execution_count": 8,
   "id": "a0382bc2-9ec5-4ee6-a1f3-aee0e155643d",
   "metadata": {},
   "outputs": [
    {
     "name": "stdout",
     "output_type": "stream",
     "text": [
      "n=0 f_hat_p=4\n",
      "n=1 f_hat_p=4\n",
      "n=2 f_hat_p=4\n",
      "n=3 f_hat_p=4\n"
     ]
    }
   ],
   "source": [
    "for n in range(N):\n",
    "    sum_o = 0\n",
    "    for k in range(1,N):\n",
    "        sum_o += np.mod(k * f[k] * np.power(alpha, n*(k-1)), m)\n",
    "    print(f'n={n} f_hat_p={sum_o}')"
   ]
  },
  {
   "cell_type": "markdown",
   "id": "b2a06179-716d-4de3-a6af-d1acbc3728d3",
   "metadata": {},
   "source": [
    "Proof #2\n",
    "\n",
    "$$\\hat{f}^{\\prime}_{n} = \\sum^{N-1}_{k=1}{k\\underbrace{ \\left(N^{-1} \\sum_{l=0}^{N-1} \\hat{f}_{l} \\alpha^{-l k}\\right) }_{f_{k}\\text{from (\\ref{eq:ntt:2b})}} \\alpha^{n(k-1)}} \\mod{m}, \\quad n=0, \\ldots, N-1$$"
   ]
  },
  {
   "cell_type": "code",
   "execution_count": 9,
   "id": "b281d8e5-f17f-4016-9d1c-aae8b95c71ea",
   "metadata": {},
   "outputs": [
    {
     "name": "stdout",
     "output_type": "stream",
     "text": [
      "n=0 f_hat_p=4\n",
      "n=1 f_hat_p=4\n",
      "n=2 f_hat_p=4\n",
      "n=3 f_hat_p=4\n"
     ]
    }
   ],
   "source": [
    "for n in range(N):    \n",
    "    sum_k = 0\n",
    "    for k in range(1,N):\n",
    "        \n",
    "        sum_l = 0\n",
    "        for l in range(N):\n",
    "            sum_l += f_hat[l]*np.power(alpha, -l*k%N ) ## change 1\n",
    "        sum_l *= N_inv ## change 2\n",
    "        \n",
    "        sum_k += k*sum_l*np.power(alpha, n*(k-1))\n",
    "    sum_k = np.mod(sum_k, m)\n",
    "\n",
    "    print(f'n={n} f_hat_p={sum_k}')"
   ]
  },
  {
   "cell_type": "markdown",
   "id": "6344b4cb-0a55-4d47-9f2e-829059094054",
   "metadata": {},
   "source": [
    "Proof #3\n",
    "\n",
    "$$\\hat{f}^{\\prime}_{n} = N^{-1}\\sum_{l=0}^{N-1} \\hat{f}_{l}\\sum^{N-1}_{k=1} k \\alpha^{k(n-l)}\\alpha^{-n} \\mod{m}, \\quad n=0, \\ldots, N-1$$"
   ]
  },
  {
   "cell_type": "code",
   "execution_count": 10,
   "id": "48f2f7ed-8d64-461a-8af7-7ae2ed4eaf24",
   "metadata": {},
   "outputs": [
    {
     "name": "stdout",
     "output_type": "stream",
     "text": [
      "n=0 f_hat_p=4\n",
      "n=1 f_hat_p=4\n",
      "n=2 f_hat_p=4\n",
      "n=3 f_hat_p=4\n"
     ]
    }
   ],
   "source": [
    "for n in range(N):    \n",
    "    \n",
    "    sum_l = 0\n",
    "    for l in range(N):\n",
    "        \n",
    "        sum_k = 0\n",
    "        for k in range(1,N):\n",
    "            sum_k += k*np.power(alpha, (k*(n-l))%N ) ## change 1\n",
    "\n",
    "        sum_l += f_hat[l]*sum_k\n",
    "    \n",
    "    sum_l = N_inv*sum_l*np.power(alpha, -n%N) ## change 2 and 3\n",
    "    sum_l = np.mod(sum_l, m)\n",
    "\n",
    "    print(f'n={n} f_hat_p={sum_l}')"
   ]
  },
  {
   "cell_type": "markdown",
   "id": "038b8ffb-9af0-4272-aa2f-89cbcf657cd1",
   "metadata": {},
   "source": [
    "Proof #4\n",
    "\n",
    "$$\\hat{f}^{\\prime}_{n} =N^{-1}\\sum_{l=0}^{N-1} \\hat{f}_{l}\\alpha^{-n}  \\sum^{N-1}_{k=1} k \\alpha^{k(n-l)}  \\mod{m}, \\quad n=0, \\ldots, N-1$$"
   ]
  },
  {
   "cell_type": "code",
   "execution_count": 11,
   "id": "1efdd7b4-c653-4e44-82d3-7733e39a9d3f",
   "metadata": {},
   "outputs": [
    {
     "name": "stdout",
     "output_type": "stream",
     "text": [
      "1\n",
      "2\n",
      "3\n",
      "4\n",
      "n=0 f_hat_p=4\n",
      "4\n",
      "1\n",
      "2\n",
      "3\n",
      "n=1 f_hat_p=4\n",
      "3\n",
      "4\n",
      "1\n",
      "2\n",
      "n=2 f_hat_p=4\n",
      "2\n",
      "3\n",
      "4\n",
      "1\n",
      "n=3 f_hat_p=4\n"
     ]
    }
   ],
   "source": [
    "for n in range(N):    \n",
    "    \n",
    "    sum_l = 0\n",
    "    for l in range(N):\n",
    "        \n",
    "        sum_k = 0\n",
    "        for k in range(1,N):\n",
    "            sum_k += k*np.power(alpha, (k*(n-l))%N ) ## change 1\n",
    "        \n",
    "        print(np.mod(sum_k,m))\n",
    "\n",
    "        sum_l += f_hat[l]*sum_k\n",
    "    \n",
    "    sum_l = N_inv*np.power(alpha, -n%N)*sum_l ##change 2 and 3\n",
    "    \n",
    "    sum_l = np.mod(sum_l, m)\n",
    "\n",
    "    print(f'n={n} f_hat_p={sum_l}')"
   ]
  },
  {
   "cell_type": "markdown",
   "id": "2d78032f-b1e3-495d-92d7-7629fe3294cb",
   "metadata": {},
   "source": [
    "Proof #5\n",
    "\n",
    "\\begin{equation*}\n",
    "\\sum^{N-1}_{k=1} k \\alpha^{k(n-l)} = \\begin{cases}\n",
    "  2^{-1}\\left(N-1\\right)N  &\\text{ if } l=n  \\\\\n",
    "  \\frac{N}{\\left(\\alpha^{n-l} -1\\right)} &\\text{ if } l\\neq n,\n",
    "\\end{cases}\n",
    "\\end{equation*}"
   ]
  },
  {
   "cell_type": "code",
   "execution_count": 20,
   "id": "3836c6a1-dd65-4b84-8ce1-325521d2a77c",
   "metadata": {},
   "outputs": [],
   "source": [
    "_, x,_ = extended_euclidean(2, m)\n",
    "inv_two = get_last_positive_congruence_classes(x, m)"
   ]
  },
  {
   "cell_type": "code",
   "execution_count": 21,
   "id": "4c2cf54d-d43a-430e-8755-98c6c7d2b833",
   "metadata": {},
   "outputs": [
    {
     "data": {
      "text/plain": [
       "3"
      ]
     },
     "execution_count": 21,
     "metadata": {},
     "output_type": "execute_result"
    }
   ],
   "source": [
    "inv_two"
   ]
  },
  {
   "cell_type": "code",
   "execution_count": 22,
   "id": "a1bacf40-f303-4522-b683-369832095702",
   "metadata": {},
   "outputs": [
    {
     "data": {
      "text/plain": [
       "5"
      ]
     },
     "execution_count": 22,
     "metadata": {},
     "output_type": "execute_result"
    }
   ],
   "source": [
    "m"
   ]
  },
  {
   "cell_type": "code",
   "execution_count": 23,
   "id": "24c03d08-875f-4c14-9b97-2fcbebea01c0",
   "metadata": {},
   "outputs": [
    {
     "data": {
      "text/plain": [
       "-2"
      ]
     },
     "execution_count": 23,
     "metadata": {},
     "output_type": "execute_result"
    }
   ],
   "source": [
    "np.x"
   ]
  },
  {
   "cell_type": "code",
   "execution_count": null,
   "id": "88aa1ba8-90bd-4090-8e0e-163f43b3d14f",
   "metadata": {},
   "outputs": [],
   "source": []
  },
  {
   "cell_type": "code",
   "execution_count": 13,
   "id": "0fabfc5c-f925-43cb-89bb-9c938d23e9ce",
   "metadata": {},
   "outputs": [
    {
     "name": "stdout",
     "output_type": "stream",
     "text": [
      "l=0,k=0, sum= 1\n",
      "l=1,k=0, sum= 2\n",
      "l=2,k=0, sum= 3\n",
      "l=3,k=0, sum= 4\n",
      "\n",
      "l=0,k=1, sum= 4\n",
      "l=1,k=1, sum= 1\n",
      "l=2,k=1, sum= 2\n",
      "l=3,k=1, sum= 3\n",
      "\n",
      "l=0,k=2, sum= 3\n",
      "l=1,k=2, sum= 4\n",
      "l=2,k=2, sum= 1\n",
      "l=3,k=2, sum= 2\n",
      "\n",
      "l=0,k=3, sum= 2\n",
      "l=1,k=3, sum= 3\n",
      "l=2,k=3, sum= 4\n",
      "l=3,k=3, sum= 1\n",
      "\n"
     ]
    }
   ],
   "source": [
    "## Left \n",
    "for n in range(N):\n",
    "    for l in range(N):\n",
    "        sum_k=0\n",
    "        for k in range(1,N):\n",
    "            sum_k += k* np.power(alpha, (k*(n-l))%N )\n",
    "\n",
    "        print(f'l={l},k={n}, sum= {np.mod(sum_k,m)}')\n",
    "    print('')"
   ]
  },
  {
   "cell_type": "code",
   "execution_count": 14,
   "id": "7da0060d-b40a-4aaa-836a-340d2d9d73b0",
   "metadata": {},
   "outputs": [
    {
     "name": "stdout",
     "output_type": "stream",
     "text": [
      "l=0,l=0, sum= 1\n",
      "l=1,l=0, sum= 2\n",
      "l=2,l=0, sum= 3\n",
      "l=3,l=0, sum= 4\n",
      "\n",
      "l=0,l=1, sum= 4\n",
      "l=1,l=1, sum= 1\n",
      "l=2,l=1, sum= 2\n",
      "l=3,l=1, sum= 3\n",
      "\n",
      "l=0,l=2, sum= 3\n",
      "l=1,l=2, sum= 4\n",
      "l=2,l=2, sum= 1\n",
      "l=3,l=2, sum= 2\n",
      "\n",
      "l=0,l=3, sum= 2\n",
      "l=1,l=3, sum= 3\n",
      "l=2,l=3, sum= 4\n",
      "l=3,l=3, sum= 1\n",
      "\n"
     ]
    }
   ],
   "source": [
    "## Right\n",
    "for n in range(N):\n",
    "    for l in range(N):\n",
    "        if l==n:\n",
    "            sum_k= inv_two*(N-1)*N\n",
    "        else:\n",
    "            pow_a = np.mod((n-l), N) ## only positive exponents\n",
    "            a = np.power(alpha, pow_a)\n",
    "            \n",
    "            if np.gcd(a-1,m)!=1: raise Exception('They are NOT coprimes !!')\n",
    "            _, x,_ = extended_euclidean(a-1, m)\n",
    "            a_inv = get_last_positive_congruence_classes(x, m)\n",
    "            \n",
    "            sum_k = N * a_inv\n",
    "\n",
    "\n",
    "        print(f'l={l},l={n}, sum= {np.mod(sum_k,m)}')\n",
    "    print('')"
   ]
  },
  {
   "cell_type": "markdown",
   "id": "a689c3a2-77b5-42e5-b251-21ed57e16d9b",
   "metadata": {},
   "source": [
    "Building the T_prime matrix"
   ]
  },
  {
   "cell_type": "code",
   "execution_count": 15,
   "id": "a5362ea4-7086-47d6-8d1a-e890001405ce",
   "metadata": {},
   "outputs": [],
   "source": [
    "l_l = []\n",
    "for n in range(N):\n",
    "    n_l = []\n",
    "    for l in range(N):\n",
    "        if l==n:\n",
    "            t_l_n= inv_two*(N-1)*np.power(alpha,-n%N)\n",
    "        else:\n",
    "            pow_a = np.mod((n-l), N) ## only positive exponents\n",
    "            a = np.power(alpha, pow_a)\n",
    "            \n",
    "            if np.gcd(a-1,m)!=1: raise Exception('They are NOT coprimes !!')\n",
    "            _, x,_ = extended_euclidean(a-1, m)\n",
    "            a_inv = get_last_positive_congruence_classes(x, m)\n",
    "            \n",
    "            t_l_n = np.power(alpha, -n%N)*a_inv\n",
    "\n",
    "        n_l.append(t_l_n)\n",
    "        # print(f'l={l},l={n}, sum= {t_l_n}')\n",
    "    l_l.append(n_l)"
   ]
  },
  {
   "cell_type": "code",
   "execution_count": null,
   "id": "c4fc1f5d-fd3e-4af7-9f6f-052ca8624ff3",
   "metadata": {},
   "outputs": [],
   "source": []
  },
  {
   "cell_type": "code",
   "execution_count": 16,
   "id": "541769c2-b2e3-49db-9281-572a9b6132f1",
   "metadata": {},
   "outputs": [
    {
     "data": {
      "text/plain": [
       "array([4, 4, 4, 4])"
      ]
     },
     "execution_count": 16,
     "metadata": {},
     "output_type": "execute_result"
    }
   ],
   "source": [
    "T_prime = np.array(l_l)\n",
    "f_h = np.array(f_h)\n",
    "\n",
    "np.mod(np.dot(T_prime, f_h),m)"
   ]
  },
  {
   "cell_type": "code",
   "execution_count": null,
   "id": "fd59ffcd-2973-4360-a0ba-2634ba2affcb",
   "metadata": {},
   "outputs": [],
   "source": []
  },
  {
   "cell_type": "code",
   "execution_count": null,
   "id": "2b538087-f6d8-4aa1-8ba7-634beb4f21be",
   "metadata": {},
   "outputs": [],
   "source": []
  },
  {
   "cell_type": "code",
   "execution_count": null,
   "id": "e65ebdde-30ab-4582-a7fb-8a437011f131",
   "metadata": {},
   "outputs": [],
   "source": []
  }
 ],
 "metadata": {
  "kernelspec": {
   "display_name": "Python 3 (ipykernel)",
   "language": "python",
   "name": "python3"
  },
  "language_info": {
   "codemirror_mode": {
    "name": "ipython",
    "version": 3
   },
   "file_extension": ".py",
   "mimetype": "text/x-python",
   "name": "python",
   "nbconvert_exporter": "python",
   "pygments_lexer": "ipython3",
   "version": "3.9.7"
  }
 },
 "nbformat": 4,
 "nbformat_minor": 5
}
