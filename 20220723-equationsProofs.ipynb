{
 "cells": [
  {
   "cell_type": "code",
   "execution_count": 86,
   "id": "cd75daa6",
   "metadata": {},
   "outputs": [],
   "source": [
    "import numpy as np\n",
    "from sympy import ntt as sntt\n",
    "from sympy import intt as sintt\n",
    "from sympy.ntheory import isprime, primitive_root"
   ]
  },
  {
   "cell_type": "code",
   "execution_count": 14,
   "id": "d49c51d9",
   "metadata": {},
   "outputs": [],
   "source": [
    "f = np.array([1,4,0,0])\n",
    "# f_hat = np.array([5, 249, 766, 522]) # para m = 769\n",
    "# f_hat = np.array([0, 4, 2, 3]) # para m=5\n",
    "\n",
    "N_t = 4\n",
    "\n",
    "## Fermat numbers\n",
    "# alpha_t = 2\n",
    "# m_t = 5\n",
    "# alpha = 4\n",
    "# m = 17\n",
    "alpha_t = 2\n",
    "m_t = 257"
   ]
  },
  {
   "cell_type": "code",
   "execution_count": 15,
   "id": "1829ee91",
   "metadata": {},
   "outputs": [
    {
     "data": {
      "text/plain": [
       "64"
      ]
     },
     "execution_count": 15,
     "metadata": {},
     "output_type": "execute_result"
    }
   ],
   "source": [
    "np.mod(8**2, 257)"
   ]
  },
  {
   "cell_type": "code",
   "execution_count": 16,
   "id": "76a72220",
   "metadata": {},
   "outputs": [],
   "source": [
    "def verify_params_ntt(N, alpha, p):\n",
    "    n = np.arange(1, N)\n",
    "    return (np.gcd(np.power(alpha,N), p) == 1) and np.all((np.gcd(np.power(alpha,n)-1, p) == 1))"
   ]
  },
  {
   "cell_type": "code",
   "execution_count": 4,
   "id": "8b7a4275",
   "metadata": {},
   "outputs": [
    {
     "data": {
      "text/plain": [
       "True"
      ]
     },
     "execution_count": 4,
     "metadata": {},
     "output_type": "execute_result"
    }
   ],
   "source": [
    "verify_params_ntt(4, 2, 5)"
   ]
  },
  {
   "cell_type": "code",
   "execution_count": 43,
   "id": "ef500d74",
   "metadata": {},
   "outputs": [
    {
     "data": {
      "text/plain": [
       "True"
      ]
     },
     "execution_count": 43,
     "metadata": {},
     "output_type": "execute_result"
    }
   ],
   "source": [
    "verify_params_ntt(4, 2, 257)"
   ]
  },
  {
   "cell_type": "code",
   "execution_count": 5,
   "id": "c25d7c6b",
   "metadata": {},
   "outputs": [
    {
     "data": {
      "text/plain": [
       "True"
      ]
     },
     "execution_count": 5,
     "metadata": {},
     "output_type": "execute_result"
    }
   ],
   "source": [
    "verify_params_ntt(4, 4, 17)"
   ]
  },
  {
   "cell_type": "code",
   "execution_count": 6,
   "id": "47580809",
   "metadata": {},
   "outputs": [
    {
     "data": {
      "text/plain": [
       "True"
      ]
     },
     "execution_count": 6,
     "metadata": {},
     "output_type": "execute_result"
    }
   ],
   "source": [
    "verify_params_ntt(8, 2, 257)"
   ]
  },
  {
   "cell_type": "code",
   "execution_count": 82,
   "id": "1c844569",
   "metadata": {},
   "outputs": [
    {
     "data": {
      "text/plain": [
       "True"
      ]
     },
     "execution_count": 82,
     "metadata": {},
     "output_type": "execute_result"
    }
   ],
   "source": [
    "verify_params_ntt(256, 3, 257)"
   ]
  },
  {
   "cell_type": "code",
   "execution_count": 92,
   "id": "10d82a09",
   "metadata": {},
   "outputs": [
    {
     "data": {
      "text/plain": [
       "True"
      ]
     },
     "execution_count": 92,
     "metadata": {},
     "output_type": "execute_result"
    }
   ],
   "source": [
    "verify_params_ntt(512, 4607,  262657)"
   ]
  },
  {
   "cell_type": "code",
   "execution_count": 95,
   "id": "8e0eb787",
   "metadata": {},
   "outputs": [
    {
     "data": {
      "text/plain": [
       "True"
      ]
     },
     "execution_count": 95,
     "metadata": {},
     "output_type": "execute_result"
    }
   ],
   "source": [
    "verify_params_ntt(512, 3,  262657)"
   ]
  },
  {
   "cell_type": "code",
   "execution_count": 96,
   "id": "2308da80",
   "metadata": {},
   "outputs": [
    {
     "data": {
      "text/plain": [
       "True"
      ]
     },
     "execution_count": 96,
     "metadata": {},
     "output_type": "execute_result"
    }
   ],
   "source": [
    "verify_params_ntt(512, 5,  262657)"
   ]
  },
  {
   "cell_type": "code",
   "execution_count": null,
   "id": "2348b1ff",
   "metadata": {},
   "outputs": [],
   "source": []
  },
  {
   "cell_type": "markdown",
   "id": "daa462a5",
   "metadata": {},
   "source": [
    "# About 2-D NTT"
   ]
  },
  {
   "cell_type": "code",
   "execution_count": 9,
   "id": "efd1fcaf",
   "metadata": {},
   "outputs": [],
   "source": [
    "# a_b2 = np.array([[0,0,1,0, 0,0,0,0,0,0,0,0,0,0,0,0],\n",
    "#                  [1,0,0,0, 0,0,0,0,0,0,0,0,0,0,0,0],\n",
    "#                  [0,0,0,0, 0,0,0,0,0,0,0,0,0,0,0,0],\n",
    "#                  [0,0,0,0, 0,0,0,0,0,0,0,0,0,0,0,0]])\n",
    "\n",
    "# b_b2 = np.array([[0,1,0,0, 0,0,0,0,0,0,0,0,0,0,0,0],\n",
    "#                  [0,0,1,1, 0,0,0,0,0,0,0,0,0,0,0,0],\n",
    "#                  [0,0,0,0, 0,0,0,0,0,0,0,0,0,0,0,0],\n",
    "#                  [0,0,0,0, 0,0,0,0,0,0,0,0,0,0,0,0]])"
   ]
  },
  {
   "cell_type": "code",
   "execution_count": null,
   "id": "895b4da4",
   "metadata": {},
   "outputs": [],
   "source": []
  },
  {
   "cell_type": "code",
   "execution_count": 10,
   "id": "311c0afb",
   "metadata": {},
   "outputs": [],
   "source": [
    "def _NTT2D(x, alpha1, alpha2, M, N, F_t, k, l):\n",
    "    gsum = 0\n",
    "    for m in range(M):\n",
    "        for n in range(N):\n",
    "            gsum +=np.mod(x[m,n] * np.power(alpha1, np.mod(m*k, M)) * np.power(alpha2, np.mod(n*l, N)), F_t)\n",
    "    return np.mod(gsum, F_t)\n",
    "\n",
    "def _INTT2D(x, alpha1, alpha2, M, N, F_t, m, n):\n",
    "    gsum = 0\n",
    "    inv_M = get_inv(M, F_t)\n",
    "    inv_N = get_inv(N, F_t)\n",
    "    for k in range(M):\n",
    "        for l in range(N):\n",
    "            gsum +=np.mod(inv_M * inv_N * x[k,l] * np.power(alpha1, np.mod(-m*k, M)) * np.power(alpha2, np.mod(-n*l, N)), F_t)\n",
    "    return np.mod(gsum, F_t)"
   ]
  },
  {
   "cell_type": "code",
   "execution_count": 11,
   "id": "5df61960",
   "metadata": {},
   "outputs": [],
   "source": [
    "def NTT2D(x):\n",
    "    L_L = []\n",
    "    for k in range(x.shape[0]):\n",
    "        L = []\n",
    "        for l in range(x.shape[1]):\n",
    "            L.append(_NTT2D(x, 2, 2, x.shape[0], x.shape[1], 257, k, l))\n",
    "        L_L.append(L)\n",
    "    \n",
    "    return np.array(L_L)\n",
    "\n",
    "def INTT2D(hat_x):\n",
    "    L_L = []\n",
    "    for m in range(hat_x.shape[0]):\n",
    "        L = []\n",
    "        for n in range(hat_x.shape[1]):\n",
    "            L.append(_INTT2D(hat_x, 2, 2, hat_x.shape[0], hat_x.shape[1], 257, m, n))\n",
    "        L_L.append(L)\n",
    "    \n",
    "    return np.array(L_L)"
   ]
  },
  {
   "cell_type": "code",
   "execution_count": 12,
   "id": "0bc80287",
   "metadata": {},
   "outputs": [],
   "source": [
    "#INTT2D(np.multiply(NTT2D(a_b2), NTT2D(a_b2)))"
   ]
  },
  {
   "cell_type": "code",
   "execution_count": 13,
   "id": "92adb312",
   "metadata": {},
   "outputs": [],
   "source": [
    "#np.multiply(NTT2D(a_b2), NTT2D(a_b2)).shape"
   ]
  },
  {
   "cell_type": "code",
   "execution_count": null,
   "id": "a4e40f37",
   "metadata": {},
   "outputs": [],
   "source": []
  },
  {
   "cell_type": "markdown",
   "id": "03f514ea",
   "metadata": {},
   "source": [
    "# Proof #NTT"
   ]
  },
  {
   "cell_type": "code",
   "execution_count": 9,
   "id": "f094fe97",
   "metadata": {},
   "outputs": [],
   "source": [
    "def _NTT(f, n, N, alpha, m):\n",
    "    gsum=0\n",
    "    for k in range(0, N):\n",
    "        gsum += f[k]*np.power(alpha, n*k)\n",
    "    \n",
    "    return np.mod(gsum, m)\n",
    "\n",
    "def NTT_base(f, alpha, m):\n",
    "    N = len(f)\n",
    "    l_ret = []\n",
    "    for n in range(0, N):\n",
    "        l_ret.append(_NTT(f, n, N, alpha, m))\n",
    "    \n",
    "    return np.array(l_ret)"
   ]
  },
  {
   "cell_type": "code",
   "execution_count": 10,
   "id": "96f888b4",
   "metadata": {},
   "outputs": [],
   "source": [
    "def NTT_slow(f, alpha, p):\n",
    "    f = np.asarray(f, dtype=int)\n",
    "    N = f.shape[0]\n",
    "    \n",
    "    n = np.arange(N)\n",
    "    k = n.reshape((N, 1))\n",
    "    \n",
    "    if not verify_params_ntt(N, alpha, p): raise Exception('The parameters alpha, p and N are not coprimes !!')\n",
    "    \n",
    "    M = np.power(alpha, n*k)\n",
    "    \n",
    "    return np.mod(np.dot(M, f), p)"
   ]
  },
  {
   "cell_type": "code",
   "execution_count": 67,
   "id": "cadac1be",
   "metadata": {},
   "outputs": [],
   "source": [
    "def FNTT(f, alpha, p):\n",
    "    f = np.asarray(f, dtype=int)\n",
    "    N = f.shape[0]\n",
    "    \n",
    "    if N % 2 > 0:\n",
    "        raise ValueError(\"size of x must be a power of 2\")\n",
    "    elif N <= 32:\n",
    "        return NTT_slow(f, alpha, p)\n",
    "    else:\n",
    "        F_even = FNTT(f[::2], alpha, p)\n",
    "        F_odd = FNTT(f[1::2], alpha, p)\n",
    "        \n",
    "        M = np.power(alpha, np.arange(N))\n",
    "        \n",
    "#         print(M)\n",
    "        \n",
    "        return np.concatenate([F_even + M[:N//2] * F_odd,\n",
    "                               F_even + M[N//2:] * F_odd])"
   ]
  },
  {
   "cell_type": "code",
   "execution_count": null,
   "id": "6b5daac1",
   "metadata": {},
   "outputs": [],
   "source": []
  },
  {
   "cell_type": "code",
   "execution_count": 70,
   "id": "026a386c",
   "metadata": {},
   "outputs": [],
   "source": [
    "# FNTT(x_test, 5, 262657)"
   ]
  },
  {
   "cell_type": "code",
   "execution_count": null,
   "id": "a48ab872",
   "metadata": {},
   "outputs": [],
   "source": []
  },
  {
   "cell_type": "code",
   "execution_count": null,
   "id": "744c30e2",
   "metadata": {},
   "outputs": [],
   "source": []
  },
  {
   "cell_type": "code",
   "execution_count": 71,
   "id": "d0eba9f4",
   "metadata": {},
   "outputs": [],
   "source": [
    "x_test = np.random.randint(low=0, high=100000, size=512)"
   ]
  },
  {
   "cell_type": "code",
   "execution_count": 72,
   "id": "93e6e45a",
   "metadata": {},
   "outputs": [
    {
     "name": "stdout",
     "output_type": "stream",
     "text": [
      "1.68 ms ± 10.3 µs per loop (mean ± std. dev. of 7 runs, 1,000 loops each)\n"
     ]
    },
    {
     "name": "stderr",
     "output_type": "stream",
     "text": [
      "/tmp/ipykernel_68/3054668869.py:4: RuntimeWarning: overflow encountered in long_scalars\n",
      "  gsum += f[k]*np.power(alpha, n*k)\n"
     ]
    },
    {
     "name": "stdout",
     "output_type": "stream",
     "text": [
      "381 ms ± 204 µs per loop (mean ± std. dev. of 7 runs, 1 loop each)\n",
      "9.36 ms ± 8.45 µs per loop (mean ± std. dev. of 7 runs, 100 loops each)\n",
      "427 µs ± 912 ns per loop (mean ± std. dev. of 7 runs, 1,000 loops each)\n"
     ]
    }
   ],
   "source": [
    "%timeit sntt(x_test, 262657)\n",
    "%timeit NTT_base(x_test, 5, 262657)\n",
    "%timeit NTT_slow(x_test, 5, 262657)\n",
    "%timeit FNTT(x_test, 5, 262657)"
   ]
  },
  {
   "cell_type": "code",
   "execution_count": 73,
   "id": "cb997c54",
   "metadata": {},
   "outputs": [
    {
     "name": "stderr",
     "output_type": "stream",
     "text": [
      "/tmp/ipykernel_68/3054668869.py:4: RuntimeWarning: overflow encountered in long_scalars\n",
      "  gsum += f[k]*np.power(alpha, n*k)\n"
     ]
    },
    {
     "name": "stdout",
     "output_type": "stream",
     "text": [
      "False\n",
      "True\n",
      "False\n",
      "False\n"
     ]
    }
   ],
   "source": [
    "print(np.allclose(NTT_base(x_test, 5, 262657), sntt(x_test, 262657)))\n",
    "print(np.allclose(NTT_base(x_test, 5, 262657), NTT_slow(x_test, 5, 262657)))\n",
    "print(np.allclose(NTT_base(x_test, 5, 262657), FNTT(x_test, 5, 262657)))\n",
    "\n",
    "print(np.allclose(sntt(x_test, 262657), FNTT(x_test, 5, 262657)))"
   ]
  },
  {
   "cell_type": "code",
   "execution_count": 74,
   "id": "655d3d30",
   "metadata": {},
   "outputs": [],
   "source": [
    "x_test_hat = NTT_slow(x_test, 5, 262657)"
   ]
  },
  {
   "cell_type": "code",
   "execution_count": 20,
   "id": "804f4fc2",
   "metadata": {},
   "outputs": [
    {
     "name": "stdout",
     "output_type": "stream",
     "text": [
      "15.6 µs ± 110 ns per loop (mean ± std. dev. of 7 runs, 100,000 loops each)\n",
      "17.3 µs ± 72.5 ns per loop (mean ± std. dev. of 7 runs, 100,000 loops each)\n",
      "13.6 µs ± 45.1 ns per loop (mean ± std. dev. of 7 runs, 100,000 loops each)\n",
      "True\n",
      "True\n"
     ]
    }
   ],
   "source": [
    "%timeit sntt(f, 5)\n",
    "%timeit NTT_base(f, 2, 5)\n",
    "%timeit NTT_slow(f, 2, 5)"
   ]
  },
  {
   "cell_type": "code",
   "execution_count": null,
   "id": "8623faab",
   "metadata": {},
   "outputs": [],
   "source": [
    "print(np.allclose(NTT_base(f, 2, 5), sntt(f, 5)))\n",
    "print(np.allclose(NTT_base(f, 2, 5), NTT_slow(f, 2, 5)))"
   ]
  },
  {
   "cell_type": "code",
   "execution_count": 18,
   "id": "a5388c75",
   "metadata": {},
   "outputs": [],
   "source": [
    "f_hat = NTT_slow(f, 2, 5)"
   ]
  },
  {
   "cell_type": "code",
   "execution_count": 19,
   "id": "b3c91e5a",
   "metadata": {},
   "outputs": [
    {
     "data": {
      "text/plain": [
       "array([0, 4, 2, 3])"
      ]
     },
     "execution_count": 19,
     "metadata": {},
     "output_type": "execute_result"
    }
   ],
   "source": [
    "f_hat"
   ]
  },
  {
   "cell_type": "markdown",
   "id": "c141101d",
   "metadata": {},
   "source": [
    "# Proof # INTT"
   ]
  },
  {
   "cell_type": "code",
   "execution_count": 76,
   "id": "90244011",
   "metadata": {},
   "outputs": [],
   "source": [
    "def _INTT(f_h, k, N, alpha, m):\n",
    "    inv_N = get_inv(N, m)\n",
    "    gsum=0\n",
    "    for n in range(0, N):\n",
    "        gsum += inv_N * f_h[n]*np.power(alpha, np.mod(-n*k, N))\n",
    "    \n",
    "    return np.mod(gsum, m)\n",
    "\n",
    "def INTT_base(f_h, alpha, m):\n",
    "    N = len(f_h)\n",
    "    l_ret = []\n",
    "    for k in range(0, N):\n",
    "        l_ret.append(_INTT(f_h, k, N, alpha, m))\n",
    "    \n",
    "    return np.array(l_ret)"
   ]
  },
  {
   "cell_type": "code",
   "execution_count": 77,
   "id": "a74d11b2",
   "metadata": {},
   "outputs": [],
   "source": [
    "def INTT_slow(f, alpha, p):\n",
    "    f = np.asarray(f, dtype=int)\n",
    "    N = f.shape[0]\n",
    "    inv_N = get_inv(N, p)\n",
    "    \n",
    "    n = np.arange(N)\n",
    "    k = n.reshape((N, 1))\n",
    "    \n",
    "    if not verify_params_ntt(N, alpha, p): raise Exception('The parameters alpha, p and N are not coprimes !!')\n",
    "    \n",
    "    M = np.power(alpha, np.mod(-n*k, N))\n",
    "    \n",
    "    return np.mod(inv_N * np.dot(M, f), p)"
   ]
  },
  {
   "cell_type": "code",
   "execution_count": 24,
   "id": "b6558999",
   "metadata": {},
   "outputs": [
    {
     "name": "stdout",
     "output_type": "stream",
     "text": [
      "17.5 µs ± 54.7 ns per loop (mean ± std. dev. of 7 runs, 100,000 loops each)\n",
      "37.9 µs ± 109 ns per loop (mean ± std. dev. of 7 runs, 10,000 loops each)\n",
      "18.3 µs ± 34.6 ns per loop (mean ± std. dev. of 7 runs, 100,000 loops each)\n",
      "True\n",
      "True\n",
      "True\n"
     ]
    }
   ],
   "source": [
    "%timeit sintt(f_hat, 5)\n",
    "%timeit INTT_base(f_hat, 2, 5)\n",
    "%timeit INTT_slow(f_hat, 2, 5)"
   ]
  },
  {
   "cell_type": "code",
   "execution_count": 39,
   "id": "e8d059fe",
   "metadata": {},
   "outputs": [
    {
     "name": "stdout",
     "output_type": "stream",
     "text": [
      "True\n",
      "True\n",
      "True\n"
     ]
    }
   ],
   "source": [
    "print(np.allclose(sintt(f_hat, 5), f))\n",
    "print(np.allclose(INTT_base(f_hat, 2, 5), f))\n",
    "print(np.allclose(INTT_slow(f_hat, 2, 5), f))"
   ]
  },
  {
   "cell_type": "code",
   "execution_count": 78,
   "id": "0629cb8c",
   "metadata": {},
   "outputs": [
    {
     "name": "stdout",
     "output_type": "stream",
     "text": [
      "1.79 ms ± 9.86 µs per loop (mean ± std. dev. of 7 runs, 1,000 loops each)\n"
     ]
    },
    {
     "name": "stderr",
     "output_type": "stream",
     "text": [
      "/tmp/ipykernel_68/2584189580.py:5: RuntimeWarning: overflow encountered in long_scalars\n",
      "  gsum += inv_N * f_h[n]*np.power(alpha, np.mod(-n*k, N))\n"
     ]
    },
    {
     "name": "stdout",
     "output_type": "stream",
     "text": [
      "560 ms ± 2.06 ms per loop (mean ± std. dev. of 7 runs, 1 loop each)\n",
      "4.59 ms ± 6.91 µs per loop (mean ± std. dev. of 7 runs, 100 loops each)\n"
     ]
    }
   ],
   "source": [
    "%timeit sintt(x_test_hat, 262657)\n",
    "%timeit INTT_base(x_test_hat, 5, 262657)\n",
    "%timeit INTT_slow(x_test_hat, 5, 262657)"
   ]
  },
  {
   "cell_type": "code",
   "execution_count": 38,
   "id": "ebe9d000",
   "metadata": {},
   "outputs": [
    {
     "name": "stdout",
     "output_type": "stream",
     "text": [
      "False\n"
     ]
    },
    {
     "name": "stderr",
     "output_type": "stream",
     "text": [
      "/tmp/ipykernel_231/2584189580.py:5: RuntimeWarning: overflow encountered in long_scalars\n",
      "  gsum += inv_N * f_h[n]*np.power(alpha, np.mod(-n*k, N))\n"
     ]
    },
    {
     "name": "stdout",
     "output_type": "stream",
     "text": [
      "False\n",
      "False\n",
      "False\n",
      "True\n"
     ]
    }
   ],
   "source": [
    "print(np.allclose(sintt(x_test_hat, 262657), x_test))\n",
    "print(np.allclose(INTT_base(x_test_hat, 5, 262657), x_test))\n",
    "print(np.allclose(INTT_slow(x_test_hat, 5, 262657), x_test))\n",
    "\n",
    "print(np.allclose(INTT_base(x_test_hat, 5, 262657), sintt(x_test_hat, 262657)))\n",
    "print(np.allclose(INTT_base(x_test_hat, 5, 262657), INTT_slow(x_test_hat, 5, 262657)))"
   ]
  },
  {
   "cell_type": "code",
   "execution_count": 26,
   "id": "a2c62168",
   "metadata": {},
   "outputs": [],
   "source": [
    "f_n = INTT_slow(f_hat, 2, 5)"
   ]
  },
  {
   "cell_type": "code",
   "execution_count": 27,
   "id": "7e71caa3",
   "metadata": {},
   "outputs": [
    {
     "data": {
      "text/plain": [
       "array([1, 4, 0, 0])"
      ]
     },
     "execution_count": 27,
     "metadata": {},
     "output_type": "execute_result"
    }
   ],
   "source": [
    "f_n"
   ]
  },
  {
   "cell_type": "markdown",
   "id": "a9350c80",
   "metadata": {},
   "source": [
    "## Test 2D matrix"
   ]
  },
  {
   "cell_type": "code",
   "execution_count": 28,
   "id": "db05d167",
   "metadata": {},
   "outputs": [],
   "source": [
    "a_b2 = np.array([[0,1,0,0, 0,0,0,0, 0,0,0,0, 0,0,0,0],\n",
    "                 [0,0,0,1, 0,0,0,0, 0,0,0,0, 0,0,0,0],\n",
    "                 [0,0,0,0, 0,0,0,0, 0,0,0,0, 0,0,0,0],\n",
    "                 [0,0,0,0, 0,0,0,0, 0,0,0,0, 0,0,0,0],\n",
    "                 [0,0,0,0, 0,0,0,0, 0,0,0,0, 0,0,0,0],\n",
    "                 [0,0,0,0, 0,0,0,0, 0,0,0,0, 0,0,0,0],\n",
    "                 [0,0,0,0, 0,0,0,0, 0,0,0,0, 0,0,0,0],\n",
    "                 [0,0,0,0, 0,0,0,0, 0,0,0,0, 0,0,0,0],\n",
    "                 [0,0,0,0, 0,0,0,0, 0,0,0,0, 0,0,0,0],\n",
    "                 [0,0,0,0, 0,0,0,0, 0,0,0,0, 0,0,0,0],\n",
    "                 [0,0,0,0, 0,0,0,0, 0,0,0,0, 0,0,0,0],\n",
    "                 [0,0,0,0, 0,0,0,0, 0,0,0,0, 0,0,0,0],\n",
    "                 [0,0,0,0, 0,0,0,0, 0,0,0,0, 0,0,0,0],\n",
    "                 [0,0,0,0, 0,0,0,0, 0,0,0,0, 0,0,0,0],\n",
    "                 [0,0,0,0, 0,0,0,0, 0,0,0,0, 0,0,0,0],\n",
    "                 [0,0,0,0, 0,0,0,0, 0,0,0,0, 0,0,0,0]])\n",
    "\n",
    "b_b2 = np.array([[0,0,1,0, 0,0,0,0, 0,0,0,0, 0,0,0,0],\n",
    "                 [1,1,0,0, 0,0,0,0, 0,0,0,0, 0,0,0,0],\n",
    "                 [0,0,0,0, 0,0,0,0, 0,0,0,0, 0,0,0,0],\n",
    "                 [0,0,0,0, 0,0,0,0, 0,0,0,0, 0,0,0,0],\n",
    "                 [0,0,0,0, 0,0,0,0, 0,0,0,0, 0,0,0,0],\n",
    "                 [0,0,0,0, 0,0,0,0, 0,0,0,0, 0,0,0,0],\n",
    "                 [0,0,0,0, 0,0,0,0, 0,0,0,0, 0,0,0,0],\n",
    "                 [0,0,0,0, 0,0,0,0, 0,0,0,0, 0,0,0,0],\n",
    "                 [0,0,0,0, 0,0,0,0, 0,0,0,0, 0,0,0,0],\n",
    "                 [0,0,0,0, 0,0,0,0, 0,0,0,0, 0,0,0,0],\n",
    "                 [0,0,0,0, 0,0,0,0, 0,0,0,0, 0,0,0,0],\n",
    "                 [0,0,0,0, 0,0,0,0, 0,0,0,0, 0,0,0,0],\n",
    "                 [0,0,0,0, 0,0,0,0, 0,0,0,0, 0,0,0,0],\n",
    "                 [0,0,0,0, 0,0,0,0, 0,0,0,0, 0,0,0,0],\n",
    "                 [0,0,0,0, 0,0,0,0, 0,0,0,0, 0,0,0,0],\n",
    "                 [0,0,0,0, 0,0,0,0, 0,0,0,0, 0,0,0,0]])"
   ]
  },
  {
   "cell_type": "code",
   "execution_count": 29,
   "id": "cc6aa17c",
   "metadata": {},
   "outputs": [],
   "source": [
    "alpha_t = 2\n",
    "m_t = 257\n",
    "#verify_params_ntt(8, 2, 257)"
   ]
  },
  {
   "cell_type": "code",
   "execution_count": 47,
   "id": "cbb18323",
   "metadata": {},
   "outputs": [
    {
     "data": {
      "text/plain": [
       "1"
      ]
     },
     "execution_count": 47,
     "metadata": {},
     "output_type": "execute_result"
    }
   ],
   "source": [
    "65536%257"
   ]
  },
  {
   "cell_type": "code",
   "execution_count": 30,
   "id": "c3ad567a",
   "metadata": {},
   "outputs": [],
   "source": [
    "a_b2_x = np.apply_along_axis(NTT_slow, 1, a_b2, alpha_t, m_t)"
   ]
  },
  {
   "cell_type": "code",
   "execution_count": 31,
   "id": "cd76d266",
   "metadata": {},
   "outputs": [],
   "source": [
    "a_b2_xy = np.apply_along_axis(NTT_slow, 0, a_b2_x, alpha_t, m_t)"
   ]
  },
  {
   "cell_type": "code",
   "execution_count": 32,
   "id": "0495406f",
   "metadata": {},
   "outputs": [],
   "source": [
    "b_b2_x = np.apply_along_axis(NTT_slow, 1, b_b2, alpha_t, m_t)"
   ]
  },
  {
   "cell_type": "code",
   "execution_count": 33,
   "id": "8a419fa2",
   "metadata": {},
   "outputs": [],
   "source": [
    "b_b2_xy = np.apply_along_axis(NTT_slow, 0, b_b2_x, alpha_t, m_t)"
   ]
  },
  {
   "cell_type": "code",
   "execution_count": 34,
   "id": "3b890405",
   "metadata": {},
   "outputs": [],
   "source": [
    "c_h = np.multiply(a_b2_xy, b_b2_xy)"
   ]
  },
  {
   "cell_type": "code",
   "execution_count": 35,
   "id": "65dc500d",
   "metadata": {},
   "outputs": [],
   "source": [
    "c_x = np.apply_along_axis(INTT_slow, 1, c_h, alpha_t, m_t)"
   ]
  },
  {
   "cell_type": "code",
   "execution_count": 36,
   "id": "be7af621",
   "metadata": {},
   "outputs": [],
   "source": [
    "c_xy = np.apply_along_axis(INTT_slow, 0, c_x, alpha_t, m_t)"
   ]
  },
  {
   "cell_type": "code",
   "execution_count": 37,
   "id": "97f2b0e7",
   "metadata": {},
   "outputs": [
    {
     "data": {
      "text/plain": [
       "array([[0, 0, 0, 1, 0, 0, 0, 0, 0, 0, 0, 0, 0, 0, 0, 0],\n",
       "       [0, 1, 1, 0, 0, 1, 0, 0, 0, 0, 0, 0, 0, 0, 0, 0],\n",
       "       [0, 0, 0, 1, 1, 0, 0, 0, 0, 0, 0, 0, 0, 0, 0, 0],\n",
       "       [0, 0, 0, 0, 0, 0, 0, 0, 0, 0, 0, 0, 0, 0, 0, 0],\n",
       "       [0, 0, 0, 0, 0, 0, 0, 0, 0, 0, 0, 0, 0, 0, 0, 0],\n",
       "       [0, 0, 0, 0, 0, 0, 0, 0, 0, 0, 0, 0, 0, 0, 0, 0],\n",
       "       [0, 0, 0, 0, 0, 0, 0, 0, 0, 0, 0, 0, 0, 0, 0, 0],\n",
       "       [0, 0, 0, 0, 0, 0, 0, 0, 0, 0, 0, 0, 0, 0, 0, 0],\n",
       "       [0, 0, 0, 0, 0, 0, 0, 0, 0, 0, 0, 0, 0, 0, 0, 0],\n",
       "       [0, 0, 0, 0, 0, 0, 0, 0, 0, 0, 0, 0, 0, 0, 0, 0],\n",
       "       [0, 0, 0, 0, 0, 0, 0, 0, 0, 0, 0, 0, 0, 0, 0, 0],\n",
       "       [0, 0, 0, 0, 0, 0, 0, 0, 0, 0, 0, 0, 0, 0, 0, 0],\n",
       "       [0, 0, 0, 0, 0, 0, 0, 0, 0, 0, 0, 0, 0, 0, 0, 0],\n",
       "       [0, 0, 0, 0, 0, 0, 0, 0, 0, 0, 0, 0, 0, 0, 0, 0],\n",
       "       [0, 0, 0, 0, 0, 0, 0, 0, 0, 0, 0, 0, 0, 0, 0, 0],\n",
       "       [0, 0, 0, 0, 0, 0, 0, 0, 0, 0, 0, 0, 0, 0, 0, 0]])"
      ]
     },
     "execution_count": 37,
     "metadata": {},
     "output_type": "execute_result"
    }
   ],
   "source": [
    "c_xy"
   ]
  },
  {
   "cell_type": "code",
   "execution_count": null,
   "id": "e0be8383",
   "metadata": {},
   "outputs": [],
   "source": []
  },
  {
   "cell_type": "code",
   "execution_count": null,
   "id": "40e02f7a",
   "metadata": {},
   "outputs": [],
   "source": []
  },
  {
   "cell_type": "code",
   "execution_count": null,
   "id": "679772d5",
   "metadata": {},
   "outputs": [],
   "source": []
  },
  {
   "cell_type": "code",
   "execution_count": null,
   "id": "1a73e0c2",
   "metadata": {},
   "outputs": [],
   "source": []
  },
  {
   "cell_type": "markdown",
   "id": "27ac08da",
   "metadata": {},
   "source": [
    "# Proofs"
   ]
  },
  {
   "cell_type": "markdown",
   "id": "669056c4",
   "metadata": {},
   "source": [
    "## Proof #1\n",
    "$$\\hat{f}^{\\prime}_{n} = \\sum^{N-1}_{k=1}{(kf_{k}) \\alpha^{n(k-1)}} \\mod{m}, \\quad n=0, \\ldots, N-1$$"
   ]
  },
  {
   "cell_type": "code",
   "execution_count": null,
   "id": "287fa9a0",
   "metadata": {},
   "outputs": [],
   "source": [
    "for n in range(N_t):\n",
    "    sum_o = 0\n",
    "    for k in range(1,N_t):\n",
    "        sum_o += np.mod(k * f[k] * np.power(alpha_t, n*(k-1)), m_t)\n",
    "    print(f'n={n} f_hat_p={sum_o}')"
   ]
  },
  {
   "cell_type": "markdown",
   "id": "65de5c08",
   "metadata": {},
   "source": [
    "## Proof #2\n",
    "\n",
    "$$\\hat{f}^{\\prime}_{n} = \\sum^{N-1}_{k=1}{k \\left(N^{-1} \\sum_{l=0}^{N-1} \\hat{f}_{l} \\alpha^{-l k}\\right) \\alpha^{n(k-1)}} \\mod{m}, \\quad n=0, \\ldots, N-1$$"
   ]
  },
  {
   "cell_type": "code",
   "execution_count": null,
   "id": "506f5af6",
   "metadata": {},
   "outputs": [],
   "source": [
    "N_inv_t = get_inv(N_t, m_t)\n",
    "\n",
    "for n in range(N_t):    \n",
    "    sum_k = 0\n",
    "    for k in range(1,N_t):\n",
    "        \n",
    "        sum_l = 0\n",
    "        for l in range(N_t):\n",
    "            sum_l += f_hat[l]*np.power(alpha_t, -l*k%N_t ) ## change 1\n",
    "        sum_l *= N_inv_t ## change 2\n",
    "        \n",
    "        sum_k += k*sum_l*np.power(alpha_t, n*(k-1))\n",
    "    sum_k = np.mod(sum_k, m_t)\n",
    "\n",
    "    print(f'n={n} f_hat_p={sum_k}')"
   ]
  },
  {
   "cell_type": "markdown",
   "id": "143218be",
   "metadata": {},
   "source": [
    "## Proof #3\n",
    "\n",
    "$$\\hat{f}^{\\prime}_{n} = N^{-1}\\sum_{l=0}^{N-1} \\hat{f}_{l}\\sum^{N-1}_{k=1} k \\alpha^{k(n-l)}\\alpha^{-n} \\mod{m}, \\quad n=0, \\ldots, N-1$$"
   ]
  },
  {
   "cell_type": "code",
   "execution_count": null,
   "id": "1801a97c",
   "metadata": {},
   "outputs": [],
   "source": [
    "for n in range(N_t):    \n",
    "    \n",
    "    sum_l = 0\n",
    "    for l in range(N_t):\n",
    "        \n",
    "        sum_k = 0\n",
    "        for k in range(1,N_t):\n",
    "            sum_k += k*np.power(alpha_t, (k*(n-l))%N_t ) ## change 1\n",
    "\n",
    "        sum_l += f_hat[l]*sum_k\n",
    "    \n",
    "    sum_l = N_inv_t*sum_l*np.power(alpha_t, -n%N_t) ## change 2 and 3\n",
    "    sum_l = np.mod(sum_l, m_t)\n",
    "\n",
    "    print(f'n={n} f_hat_p={sum_l}')"
   ]
  },
  {
   "cell_type": "markdown",
   "id": "252882ac",
   "metadata": {},
   "source": [
    "## Proof #4\n",
    "\n",
    "$$\\hat{f}^{\\prime}_{n} =N^{-1}\\sum_{l=0}^{N-1} \\hat{f}_{l}\\alpha^{-n}  \\sum^{N-1}_{k=1} k \\alpha^{k(n-l)}  \\mod{m}, \\quad n=0, \\ldots, N-1$$"
   ]
  },
  {
   "cell_type": "code",
   "execution_count": null,
   "id": "1f02ec63",
   "metadata": {},
   "outputs": [],
   "source": [
    "for n in range(N_t):    \n",
    "    \n",
    "    sum_l = 0\n",
    "    for l in range(N_t):\n",
    "        \n",
    "        sum_k = 0\n",
    "        for k in range(1,N_t):\n",
    "            sum_k += k*np.power(alpha_t, (k*(n-l))%N_t ) ## change 1\n",
    "        \n",
    "        # print(np.mod(sum_k,m))\n",
    "\n",
    "        sum_l += f_hat[l]*sum_k\n",
    "    \n",
    "    sum_l = N_inv_t*np.power(alpha_t, -n%N_t)*sum_l ##change 2 and 3\n",
    "    \n",
    "    sum_l = np.mod(sum_l, m_t)\n",
    "\n",
    "    print(f'n={n} f_hat_p={sum_l}')"
   ]
  },
  {
   "cell_type": "markdown",
   "id": "67a61e56",
   "metadata": {},
   "source": [
    "## Proof #5\n",
    "\n",
    "\\begin{equation*}\n",
    "\\sum^{N-1}_{k=1} k \\alpha^{k(n-l)} = \\begin{cases}\n",
    "  2^{-1}\\left(N-1\\right)N  &\\text{ if } l=n  \\\\\n",
    "  \\frac{N}{\\left(\\alpha^{n-l} -1\\right)} &\\text{ if } l\\neq n,\n",
    "\\end{cases}\n",
    "\\end{equation*}"
   ]
  },
  {
   "cell_type": "code",
   "execution_count": null,
   "id": "347ad06c",
   "metadata": {},
   "outputs": [],
   "source": [
    "inv_two = get_inv(2, m_t)"
   ]
  },
  {
   "cell_type": "code",
   "execution_count": null,
   "id": "73427236",
   "metadata": {},
   "outputs": [],
   "source": [
    "## Left \n",
    "for n in range(N_t):\n",
    "    for l in range(N_t):\n",
    "        sum_k=0\n",
    "        for k in range(1,N_t):\n",
    "            sum_k += k* np.power(alpha_t, (k*(n-l))%N_t )\n",
    "\n",
    "        print(f'l={l},k={n}, sum= {np.mod(sum_k,m_t)}')\n",
    "    print('')"
   ]
  },
  {
   "cell_type": "code",
   "execution_count": null,
   "id": "6a4802fa",
   "metadata": {},
   "outputs": [],
   "source": [
    "## Right\n",
    "for n in range(N_t):\n",
    "    for l in range(N_t):\n",
    "        if l==n:\n",
    "            sum_k= inv_two*(N_t-1)*N_t\n",
    "        else:\n",
    "            pow_a = np.mod((n-l), N_t) ## only positive exponents\n",
    "            a = np.power(alpha_t, pow_a)\n",
    "            a_inv = get_inv(a-1, m_t)\n",
    "            \n",
    "            sum_k = N_t * a_inv\n",
    "\n",
    "\n",
    "        print(f'l={l},l={n}, sum= {np.mod(sum_k,m_t)}')\n",
    "    print('')"
   ]
  },
  {
   "cell_type": "markdown",
   "id": "949f2ecd",
   "metadata": {},
   "source": [
    "# Building the T_prime matrix"
   ]
  },
  {
   "cell_type": "code",
   "execution_count": null,
   "id": "51e5b334",
   "metadata": {},
   "outputs": [],
   "source": [
    "l_l = []\n",
    "for n in range(N_t):\n",
    "    n_l = []\n",
    "    for l in range(N_t):\n",
    "        print(n,l)\n",
    "        if l==n:\n",
    "            t_l_n= inv_two*(N_t-1)*np.power(alpha_t,-n%N_t)\n",
    "        else:\n",
    "            pow_a = np.mod((n-l), N_t) ## only positive exponents\n",
    "            a = np.power(alpha_t, pow_a)\n",
    "            a_inv = get_inv(a-1, m_t)\n",
    "            \n",
    "            t_l_n = np.power(alpha_t, -n%N_t)*a_inv\n",
    "\n",
    "        n_l.append(t_l_n)\n",
    "        # print(f'l={l},l={n}, sum= {t_l_n}')\n",
    "    l_l.append(n_l)"
   ]
  },
  {
   "cell_type": "code",
   "execution_count": null,
   "id": "7ed960ac",
   "metadata": {},
   "outputs": [],
   "source": []
  },
  {
   "cell_type": "code",
   "execution_count": null,
   "id": "ea35548e",
   "metadata": {},
   "outputs": [],
   "source": [
    "T_prime = np.mod(np.array(l_l),m_t)\n",
    "\n",
    "# f_h = np.array(f_h)\n",
    "\n",
    "np.mod(np.dot(T_prime, f_hat),m_t)"
   ]
  },
  {
   "cell_type": "code",
   "execution_count": null,
   "id": "17df0fb6",
   "metadata": {},
   "outputs": [],
   "source": [
    "T_prime"
   ]
  },
  {
   "cell_type": "code",
   "execution_count": null,
   "id": "2b7300f7",
   "metadata": {},
   "outputs": [],
   "source": []
  },
  {
   "cell_type": "markdown",
   "id": "8f493faf",
   "metadata": {},
   "source": [
    "# Prime Matrix"
   ]
  },
  {
   "cell_type": "code",
   "execution_count": null,
   "id": "3f9c0414",
   "metadata": {},
   "outputs": [],
   "source": [
    "N_t = 4\n",
    "\n",
    "n = np.arange(N_t)\n",
    "#l = np.arange(N_t)\n",
    "l = n.reshape((N_t, 1))\n",
    "\n",
    "alpha_t = 2\n",
    "m_t = 5\n",
    "\n",
    "vget_inv = np.vectorize(get_inv)"
   ]
  },
  {
   "cell_type": "code",
   "execution_count": null,
   "id": "287c9c17",
   "metadata": {},
   "outputs": [],
   "source": [
    "l_l = []\n",
    "for n in range(N_t):\n",
    "    n_l = []\n",
    "    for l in range(N_t):\n",
    "        print(n,l)\n",
    "        if l==n:\n",
    "            t_l_n= inv_two*(N_t-1)*np.power(alpha_t,-n%N_t)\n",
    "        else:\n",
    "            pow_a = np.mod((n-l), N_t) ## only positive exponents\n",
    "            a = np.power(alpha_t, pow_a)\n",
    "            a_inv = get_inv(a-1, m_t)\n",
    "            \n",
    "            t_l_n = np.power(alpha_t, -n%N_t)*a_inv\n",
    "\n",
    "        n_l.append(t_l_n)\n",
    "        # print(f'l={l},l={n}, sum= {t_l_n}')\n",
    "    l_l.append(n_l)"
   ]
  },
  {
   "cell_type": "code",
   "execution_count": null,
   "id": "2cc57963",
   "metadata": {},
   "outputs": [],
   "source": [
    "vget_inv(np.power(alpha_t, np.mod((n-l), N_t))-1, m_t)"
   ]
  },
  {
   "cell_type": "code",
   "execution_count": null,
   "id": "d030c3ec",
   "metadata": {},
   "outputs": [],
   "source": [
    "n"
   ]
  },
  {
   "cell_type": "code",
   "execution_count": null,
   "id": "c7db8d57",
   "metadata": {},
   "outputs": [],
   "source": [
    "def f(r,x):\n",
    "    return np.where(x<0.5,2*r*x, 2*r*(1-x))"
   ]
  },
  {
   "cell_type": "code",
   "execution_count": null,
   "id": "8bcf0618",
   "metadata": {},
   "outputs": [],
   "source": [
    "# alpha_t = 2\n",
    "# m_t = 5\n",
    "def ff(n,l):\n",
    "    return np.piecewise([n,n],\n",
    "\n",
    "                 [l==n,\n",
    "                 l!=n],\n",
    "\n",
    "                 [vget_inv(2, m_t)*(N_t-1)*np.power(alpha_t,np.mod(-n, N_t)),\n",
    "                  1*np.power(alpha_t,np.mod(-n, N_t))]\n",
    "\n",
    "                )"
   ]
  },
  {
   "cell_type": "code",
   "execution_count": null,
   "id": "1252a682",
   "metadata": {},
   "outputs": [],
   "source": [
    "ff(n,n)"
   ]
  },
  {
   "cell_type": "code",
   "execution_count": null,
   "id": "7c6d3e2b",
   "metadata": {},
   "outputs": [],
   "source": []
  },
  {
   "cell_type": "code",
   "execution_count": null,
   "id": "66ef8bd6",
   "metadata": {},
   "outputs": [],
   "source": []
  },
  {
   "cell_type": "code",
   "execution_count": null,
   "id": "a130ea69",
   "metadata": {},
   "outputs": [],
   "source": [
    "def Tprime(n,l,N,inv_two,p,alpha):\n",
    "    return np.where(l==n,\n",
    "                    inv_two*(N-1)*np.power(alpha,np.mod(-n, N)),\n",
    "                    get_inv(np.power(alpha, np.mod((n-l), N))-1, p)*np.power(alpha,np.mod(-n, N)))"
   ]
  },
  {
   "cell_type": "code",
   "execution_count": null,
   "id": "acbac76d",
   "metadata": {},
   "outputs": [],
   "source": [
    "def PrimeNTT(f_hat, alpha, p):\n",
    "    f = np.asarray(f_hat, dtype=int)\n",
    "    N = f.shape[0]\n",
    "    \n",
    "    inv_two = get_inv(2, m_t)\n",
    "    \n",
    "    n = np.arange(N)\n",
    "    k = n.reshape((N, 1))\n",
    "    \n",
    "    T_prime = Tprime(n,k,N,inv_two,p,alpha)\n",
    "    \n",
    "    return np.mod(np.dot(T_prime, f_hat), p)"
   ]
  },
  {
   "cell_type": "code",
   "execution_count": null,
   "id": "2fb9ad2d",
   "metadata": {},
   "outputs": [],
   "source": [
    "#PrimeNTT(f_hat, 2, 5)"
   ]
  },
  {
   "cell_type": "code",
   "execution_count": null,
   "id": "67d4e206",
   "metadata": {},
   "outputs": [],
   "source": []
  },
  {
   "cell_type": "code",
   "execution_count": null,
   "id": "6530c71c",
   "metadata": {},
   "outputs": [],
   "source": []
  },
  {
   "cell_type": "code",
   "execution_count": null,
   "id": "0675cc49",
   "metadata": {},
   "outputs": [],
   "source": []
  },
  {
   "cell_type": "code",
   "execution_count": 2,
   "id": "6ff2b477",
   "metadata": {},
   "outputs": [],
   "source": [
    "from sympy.ntheory import isprime, primitive_root\n",
    "\n",
    "\n",
    "def generate_twiddle_factors(n, q):\n",
    "    # Produces `n` omegas (or twiddle factors) \n",
    "    # given the generator: x^b (mod q) of the \n",
    "    # prime field of q.\n",
    "    assert isprime(q)\n",
    "    \n",
    "    x = primitive_root(q)\n",
    "    \n",
    "    # Applying Dirichlet's theorem, \n",
    "    # we have: q = bn + 1.\n",
    "    b = (q - 1) // n\n",
    "    \n",
    "    omega = (x ** b) % q\n",
    "\n",
    "    omegas = [1]\n",
    "    for i in range(n):\n",
    "        # Multiply (mod q) by the previous value.\n",
    "        omegas.append((omegas[i] * omega) % q)\n",
    "\n",
    "    return omegas[:n]  # Drop the last, needless value.\n"
   ]
  },
  {
   "cell_type": "code",
   "execution_count": 6,
   "id": "4126125d",
   "metadata": {},
   "outputs": [
    {
     "data": {
      "text/plain": [
       "[1, 249, 64, 2, 241, 128, 4, 225, 256, 8, 193, 255, 16, 129, 253, 32]"
      ]
     },
     "execution_count": 6,
     "metadata": {},
     "output_type": "execute_result"
    }
   ],
   "source": [
    "generate_twiddle_factors(16, 257)"
   ]
  },
  {
   "cell_type": "code",
   "execution_count": 7,
   "id": "b4f21abb",
   "metadata": {},
   "outputs": [],
   "source": [
    "def naive_ntt(a, q, omegas):\n",
    "    n = len(a)\n",
    "    out = [0] * n\n",
    "    \n",
    "    for i in range(n):\n",
    "        for j in range(n):\n",
    "            out[i] = (out[i] + a[j] * omegas[(i * j) % n]) % q\n",
    "    return out"
   ]
  },
  {
   "cell_type": "code",
   "execution_count": null,
   "id": "7563acc9",
   "metadata": {},
   "outputs": [],
   "source": []
  },
  {
   "cell_type": "code",
   "execution_count": 22,
   "id": "569e342a",
   "metadata": {},
   "outputs": [],
   "source": [
    "oms = generate_twiddle_factors(4, 5)"
   ]
  },
  {
   "cell_type": "code",
   "execution_count": 23,
   "id": "53621359",
   "metadata": {},
   "outputs": [
    {
     "data": {
      "text/plain": [
       "[0, 4, 2, 3]"
      ]
     },
     "execution_count": 23,
     "metadata": {},
     "output_type": "execute_result"
    }
   ],
   "source": [
    "naive_ntt(f, 5, oms)"
   ]
  },
  {
   "cell_type": "code",
   "execution_count": 24,
   "id": "df325e0a",
   "metadata": {},
   "outputs": [
    {
     "data": {
      "text/plain": [
       "array([0, 4, 2, 3])"
      ]
     },
     "execution_count": 24,
     "metadata": {},
     "output_type": "execute_result"
    }
   ],
   "source": [
    "f_hat"
   ]
  },
  {
   "cell_type": "code",
   "execution_count": 27,
   "id": "07f8b2de",
   "metadata": {},
   "outputs": [],
   "source": [
    "import math\n",
    "\n",
    "\n",
    "def cooley_tukey_ntt_opt(a, n, q, phis):\n",
    "    \"\"\"Cooley-Tukey DIT algorithm with an extra optimization.\n",
    "    We can avoid computing bit reversed order with each call by\n",
    "    pre-computing the phis in bit-reversed order.\n",
    "    Requires:\n",
    "     `phis` are provided in bit-reversed order.\n",
    "     `n` is a power of two.\n",
    "     `q` is equivalent to `1 mod 2n`.\n",
    "    Reference:\n",
    "       https://www.microsoft.com/en-us/research/wp-content/\n",
    "       uploads/2016/05/RLWE-1.pdf\n",
    "    \"\"\"\n",
    "\n",
    "    assert q % (2 * n) == 1, f'{q} is not equivalent to 1 mod {2 * n}'\n",
    "    assert (n & (n - 1) == 0) and n > 0, f'n: {n} is not a power of 2.'\n",
    "\n",
    "    t = n\n",
    "    m = 1\n",
    "    while m < n:\n",
    "        t >>= 1\n",
    "        for i in range(0, m):\n",
    "            j1 = i * (t << 1)\n",
    "            j2 = j1 + t - 1\n",
    "            S = phis[m + i]\n",
    "            for j in range(j1, j2 + 1):\n",
    "                U = a[j]\n",
    "                V = a[j + t] * S\n",
    "                a[j] = (U + V) % q\n",
    "                a[j + t] = (U - V) % q\n",
    "        m <<= 1\n",
    "    return a\n",
    "\n",
    "\n",
    "def gentleman_sande_intt_opt(a, n, q, inv_phis):\n",
    "    \"\"\"Gentleman-Sande INTT butterfly algorithm.\n",
    "    Assumes that inverse phis are stored in bit-reversed order.\n",
    "    Reference:\n",
    "       https://www.microsoft.com/en-us/research/wp-content/\n",
    "       uploads/2016/05/RLWE-1.pdf\n",
    "    \"\"\"\n",
    "    t = 1\n",
    "    m = n\n",
    "    while (m > 1):\n",
    "        j1 = 0\n",
    "        h = m >> 1\n",
    "        for i in range(h):\n",
    "            j2 = j1 + t - 1\n",
    "            S = inv_phis[h + i]\n",
    "            for j in range(j1, j2 + 1):\n",
    "                U = a[j]\n",
    "                V = a[j + t]\n",
    "                a[j] = (U + V) % q\n",
    "                a[j + t] = ((U - V) * S) % q\n",
    "            j1 += (t << 1)\n",
    "        t <<= 1\n",
    "        m >>= 1\n",
    "\n",
    "    shift_n = int(math.log2(n))\n",
    "    return [(i >> shift_n) % q for i in a]\n",
    "\n",
    "def get_bit_reversed(c, n, q):\n",
    "    cc = c.copy()\n",
    "    for i in range(n):\n",
    "        rev_i = reverse_bits(i, n.bit_length() - 1)\n",
    "        if rev_i > i:\n",
    "            cc[i], cc[rev_i] = cc[rev_i], cc[i]\n",
    "\n",
    "    return cc\n",
    "\n",
    "\n",
    "def gen_phis(omegas, q):\n",
    "    def legendre(x, q):\n",
    "        return pow(x, (q - 1) // 2, q)\n",
    "\n",
    "    def tonelli_shanks(x, q):\n",
    "        # Finds the `sqrt(x) mod q`.\n",
    "        # Source: https://rosettacode.org/wiki/Tonelli-Shanks_algorithm\n",
    "        Q = q - 1\n",
    "        s = 0\n",
    "        while Q % 2 == 0:\n",
    "            Q //= 2\n",
    "            s += 1\n",
    "        if s == 1:\n",
    "            return pow(x, (q + 1) // 4, q)\n",
    "        for z in range(2, q):\n",
    "            if q - 1 == legendre(z, q):\n",
    "                break\n",
    "        c = pow(z, Q, q)\n",
    "        r = pow(x, (Q + 1) // 2, q)\n",
    "        t = pow(x, Q, q)\n",
    "        m = s\n",
    "        t2 = 0\n",
    "        while (t - 1) % q != 0:\n",
    "            t2 = (t * t) % q\n",
    "            for i in range(1, m):\n",
    "                if (t2 - 1) % q == 0:\n",
    "                    break\n",
    "                t2 = (t2 * t2) % q\n",
    "            b = pow(c, 1 << (m - i - 1), q)\n",
    "            r = (r * b) % q\n",
    "            c = (b * b) % q\n",
    "            t = (t * c) % q\n",
    "            m = i\n",
    "        return r\n",
    "\n",
    "    return [tonelli_shanks(x, q) for x in omegas]"
   ]
  },
  {
   "cell_type": "code",
   "execution_count": 26,
   "id": "7db9399b",
   "metadata": {},
   "outputs": [
    {
     "data": {
      "text/plain": [
       "array([0, 4, 2, 3])"
      ]
     },
     "execution_count": 26,
     "metadata": {},
     "output_type": "execute_result"
    }
   ],
   "source": [
    "cooley_tukey_ntt(f, 5, oms)"
   ]
  },
  {
   "cell_type": "code",
   "execution_count": 32,
   "id": "41e9646a",
   "metadata": {},
   "outputs": [],
   "source": [
    "oms = generate_twiddle_factors(512, 262657)"
   ]
  },
  {
   "cell_type": "code",
   "execution_count": 33,
   "id": "ed1f06aa",
   "metadata": {},
   "outputs": [
    {
     "ename": "ValueError",
     "evalue": "negative shift count",
     "output_type": "error",
     "traceback": [
      "\u001b[0;31m---------------------------------------------------------------------------\u001b[0m",
      "\u001b[0;31mValueError\u001b[0m                                Traceback (most recent call last)",
      "Input \u001b[0;32mIn [33]\u001b[0m, in \u001b[0;36m<module>\u001b[0;34m\u001b[0m\n\u001b[0;32m----> 1\u001b[0m \u001b[43mgen_phis\u001b[49m\u001b[43m(\u001b[49m\u001b[43moms\u001b[49m\u001b[43m,\u001b[49m\u001b[43m \u001b[49m\u001b[38;5;241;43m262657\u001b[39;49m\u001b[43m)\u001b[49m\n",
      "Input \u001b[0;32mIn [27]\u001b[0m, in \u001b[0;36mgen_phis\u001b[0;34m(omegas, q)\u001b[0m\n\u001b[1;32m    106\u001b[0m         m \u001b[38;5;241m=\u001b[39m i\n\u001b[1;32m    107\u001b[0m     \u001b[38;5;28;01mreturn\u001b[39;00m r\n\u001b[0;32m--> 109\u001b[0m \u001b[38;5;28;01mreturn\u001b[39;00m [tonelli_shanks(x, q) \u001b[38;5;28;01mfor\u001b[39;00m x \u001b[38;5;129;01min\u001b[39;00m omegas]\n",
      "Input \u001b[0;32mIn [27]\u001b[0m, in \u001b[0;36m<listcomp>\u001b[0;34m(.0)\u001b[0m\n\u001b[1;32m    106\u001b[0m         m \u001b[38;5;241m=\u001b[39m i\n\u001b[1;32m    107\u001b[0m     \u001b[38;5;28;01mreturn\u001b[39;00m r\n\u001b[0;32m--> 109\u001b[0m \u001b[38;5;28;01mreturn\u001b[39;00m [\u001b[43mtonelli_shanks\u001b[49m\u001b[43m(\u001b[49m\u001b[43mx\u001b[49m\u001b[43m,\u001b[49m\u001b[43m \u001b[49m\u001b[43mq\u001b[49m\u001b[43m)\u001b[49m \u001b[38;5;28;01mfor\u001b[39;00m x \u001b[38;5;129;01min\u001b[39;00m omegas]\n",
      "Input \u001b[0;32mIn [27]\u001b[0m, in \u001b[0;36mgen_phis.<locals>.tonelli_shanks\u001b[0;34m(x, q)\u001b[0m\n\u001b[1;32m    100\u001b[0m         \u001b[38;5;28;01mbreak\u001b[39;00m\n\u001b[1;32m    101\u001b[0m     t2 \u001b[38;5;241m=\u001b[39m (t2 \u001b[38;5;241m*\u001b[39m t2) \u001b[38;5;241m%\u001b[39m q\n\u001b[0;32m--> 102\u001b[0m b \u001b[38;5;241m=\u001b[39m \u001b[38;5;28mpow\u001b[39m(c, \u001b[38;5;241;43m1\u001b[39;49m\u001b[43m \u001b[49m\u001b[38;5;241;43m<<\u001b[39;49m\u001b[43m \u001b[49m\u001b[43m(\u001b[49m\u001b[43mm\u001b[49m\u001b[43m \u001b[49m\u001b[38;5;241;43m-\u001b[39;49m\u001b[43m \u001b[49m\u001b[43mi\u001b[49m\u001b[43m \u001b[49m\u001b[38;5;241;43m-\u001b[39;49m\u001b[43m \u001b[49m\u001b[38;5;241;43m1\u001b[39;49m\u001b[43m)\u001b[49m, q)\n\u001b[1;32m    103\u001b[0m r \u001b[38;5;241m=\u001b[39m (r \u001b[38;5;241m*\u001b[39m b) \u001b[38;5;241m%\u001b[39m q\n\u001b[1;32m    104\u001b[0m c \u001b[38;5;241m=\u001b[39m (b \u001b[38;5;241m*\u001b[39m b) \u001b[38;5;241m%\u001b[39m q\n",
      "\u001b[0;31mValueError\u001b[0m: negative shift count"
     ]
    }
   ],
   "source": [
    "gen_phis(oms, 262657)"
   ]
  },
  {
   "cell_type": "code",
   "execution_count": null,
   "id": "b04a5da9",
   "metadata": {},
   "outputs": [],
   "source": []
  },
  {
   "cell_type": "code",
   "execution_count": null,
   "id": "b6ae91ff",
   "metadata": {},
   "outputs": [],
   "source": [
    "%timeit sntt(x_test, 262657)\n",
    "%timeit NTT_base(x_test, 5, 262657)\n",
    "%timeit NTT_slow(x_test, 5, 262657)"
   ]
  },
  {
   "cell_type": "code",
   "execution_count": null,
   "id": "d70ad525",
   "metadata": {},
   "outputs": [],
   "source": [
    "print(np.allclose(NTT_base(x_test, 5, 262657), sntt(x_test, 262657)))\n",
    "print(np.allclose(NTT_base(x_test, 5, 262657), NTT_slow(x_test, 5, 262657)))"
   ]
  },
  {
   "cell_type": "code",
   "execution_count": null,
   "id": "d1b60e93",
   "metadata": {},
   "outputs": [],
   "source": []
  }
 ],
 "metadata": {
  "kernelspec": {
   "display_name": "Python 3 (ipykernel)",
   "language": "python",
   "name": "python3"
  },
  "language_info": {
   "codemirror_mode": {
    "name": "ipython",
    "version": 3
   },
   "file_extension": ".py",
   "mimetype": "text/x-python",
   "name": "python",
   "nbconvert_exporter": "python",
   "pygments_lexer": "ipython3",
   "version": "3.9.7"
  }
 },
 "nbformat": 4,
 "nbformat_minor": 5
}
