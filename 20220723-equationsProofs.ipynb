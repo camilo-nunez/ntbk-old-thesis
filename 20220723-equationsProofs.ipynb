{
 "cells": [
  {
   "cell_type": "code",
   "execution_count": 1,
   "id": "24e9bab1-64ac-4ac4-ae88-a9c76f6a9391",
   "metadata": {},
   "outputs": [],
   "source": [
    "import numpy as np\n",
    "from sympy import ntt as sntt\n",
    "from sympy import intt as sintt"
   ]
  },
  {
   "cell_type": "code",
   "execution_count": 2,
   "id": "e9f3bfc1-3157-498c-b144-0998f56540b8",
   "metadata": {},
   "outputs": [],
   "source": [
    "f = np.array([1,4,0,0])\n",
    "# f_hat = np.array([5, 249, 766, 522]) # para m = 769\n",
    "# f_hat = np.array([0, 4, 2, 3]) # para m=5\n",
    "\n",
    "N_t = 4\n",
    "\n",
    "## Fermat numbers\n",
    "# alpha_t = 2\n",
    "# m_t = 5\n",
    "# alpha = 4\n",
    "# m = 17\n",
    "alpha_t = 2\n",
    "m_t = 257"
   ]
  },
  {
   "cell_type": "code",
   "execution_count": 3,
   "id": "01b04f23-0e73-4ab1-9656-8fc0fa8f1105",
   "metadata": {},
   "outputs": [],
   "source": [
    "def verify_params_ntt(N, alpha, p):\n",
    "    n = np.arange(1, N)\n",
    "    return (np.gcd(np.power(alpha,N), p) == 1) and np.all((np.gcd(np.power(alpha,n)-1, p) == 1))"
   ]
  },
  {
   "cell_type": "code",
   "execution_count": 4,
   "id": "d13f8f8d-5abc-4def-8fec-3c206179d5b0",
   "metadata": {},
   "outputs": [
    {
     "data": {
      "text/plain": [
       "True"
      ]
     },
     "execution_count": 4,
     "metadata": {},
     "output_type": "execute_result"
    }
   ],
   "source": [
    "verify_params_ntt(4, 2, 5)"
   ]
  },
  {
   "cell_type": "code",
   "execution_count": 5,
   "id": "c605b6b4-4cf6-41e4-92bf-93176ecf3b2e",
   "metadata": {},
   "outputs": [
    {
     "data": {
      "text/plain": [
       "True"
      ]
     },
     "execution_count": 5,
     "metadata": {},
     "output_type": "execute_result"
    }
   ],
   "source": [
    "verify_params_ntt(4, 4, 17)"
   ]
  },
  {
   "cell_type": "code",
   "execution_count": 6,
   "id": "7a69be49-0553-47b9-acfd-797db1b06f54",
   "metadata": {},
   "outputs": [
    {
     "data": {
      "text/plain": [
       "True"
      ]
     },
     "execution_count": 6,
     "metadata": {},
     "output_type": "execute_result"
    }
   ],
   "source": [
    "verify_params_ntt(8, 2, 257)"
   ]
  },
  {
   "cell_type": "code",
   "execution_count": null,
   "id": "2396c85a-7bb8-4a62-8948-c105e2259695",
   "metadata": {},
   "outputs": [],
   "source": []
  },
  {
   "cell_type": "code",
   "execution_count": 86,
   "id": "f8f1d435-737a-4079-bf95-d908e086ecde",
   "metadata": {},
   "outputs": [],
   "source": [
    "## From https://medium.com/geekculture/euclidean-algorithm-using-python-dc7785bb674a\n",
    "def extended_euclidean(a, b):\n",
    "    if b == 0:\n",
    "        gcd, s, t = a, 1, 0\n",
    "        return (gcd, s, t)  \n",
    "    else:    \n",
    "        s2, t2, s1, t1 = 1, 0, 0, 1   \n",
    "        while b > 0:      \n",
    "            q= a // b      \n",
    "            r, s, t = (a - b * q),(s2 - q * s1),( t2 - q * t1)      \n",
    "            a,b,s2,t2,s1,t1=b,r,s1,t1,s,t    \n",
    "        gcd,s,t=a,s2,t2    \n",
    "        return (gcd,s,t)\n",
    "\n",
    "def get_inv(x, m):\n",
    "    if np.gcd(x, m)!=1: raise Exception(f'{x, m} They are NOT coprimes !!')\n",
    "    \n",
    "    _, x, _ = extended_euclidean(x,m)\n",
    "    \n",
    "    return np.mod(x, m)"
   ]
  },
  {
   "cell_type": "markdown",
   "id": "9984f4bb-9f04-4fd6-8e3a-4def726afd91",
   "metadata": {},
   "source": [
    "# About 2-D NTT"
   ]
  },
  {
   "cell_type": "code",
   "execution_count": 8,
   "id": "62592914-e93a-4ba8-9d34-9114bc6503c7",
   "metadata": {},
   "outputs": [],
   "source": [
    "# a_b2 = np.array([[0,0,1,0, 0,0,0,0,0,0,0,0,0,0,0,0],\n",
    "#                  [1,0,0,0, 0,0,0,0,0,0,0,0,0,0,0,0],\n",
    "#                  [0,0,0,0, 0,0,0,0,0,0,0,0,0,0,0,0],\n",
    "#                  [0,0,0,0, 0,0,0,0,0,0,0,0,0,0,0,0]])\n",
    "\n",
    "# b_b2 = np.array([[0,1,0,0, 0,0,0,0,0,0,0,0,0,0,0,0],\n",
    "#                  [0,0,1,1, 0,0,0,0,0,0,0,0,0,0,0,0],\n",
    "#                  [0,0,0,0, 0,0,0,0,0,0,0,0,0,0,0,0],\n",
    "#                  [0,0,0,0, 0,0,0,0,0,0,0,0,0,0,0,0]])"
   ]
  },
  {
   "cell_type": "code",
   "execution_count": null,
   "id": "ee5ec5db-22db-49be-8109-13259e1d1852",
   "metadata": {},
   "outputs": [],
   "source": []
  },
  {
   "cell_type": "code",
   "execution_count": 9,
   "id": "84c06ca9-1eff-4ecd-aaa3-170eb43881fd",
   "metadata": {},
   "outputs": [],
   "source": [
    "def _NTT2D(x, alpha1, alpha2, M, N, F_t, k, l):\n",
    "    gsum = 0\n",
    "    for m in range(M):\n",
    "        for n in range(N):\n",
    "            gsum +=np.mod(x[m,n] * np.power(alpha1, np.mod(m*k, M)) * np.power(alpha2, np.mod(n*l, N)), F_t)\n",
    "    return np.mod(gsum, F_t)\n",
    "\n",
    "def _INTT2D(x, alpha1, alpha2, M, N, F_t, m, n):\n",
    "    gsum = 0\n",
    "    inv_M = get_inv(M, F_t)\n",
    "    inv_N = get_inv(N, F_t)\n",
    "    for k in range(M):\n",
    "        for l in range(N):\n",
    "            gsum +=np.mod(inv_M * inv_N * x[k,l] * np.power(alpha1, np.mod(-m*k, M)) * np.power(alpha2, np.mod(-n*l, N)), F_t)\n",
    "    return np.mod(gsum, F_t)"
   ]
  },
  {
   "cell_type": "code",
   "execution_count": 10,
   "id": "1ce6b2ec-160b-43c4-b7c5-0cfcf0a0f3fb",
   "metadata": {},
   "outputs": [],
   "source": [
    "def NTT2D(x):\n",
    "    L_L = []\n",
    "    for k in range(x.shape[0]):\n",
    "        L = []\n",
    "        for l in range(x.shape[1]):\n",
    "            L.append(_NTT2D(x, 2, 2, x.shape[0], x.shape[1], 257, k, l))\n",
    "        L_L.append(L)\n",
    "    \n",
    "    return np.array(L_L)\n",
    "\n",
    "def INTT2D(hat_x):\n",
    "    L_L = []\n",
    "    for m in range(hat_x.shape[0]):\n",
    "        L = []\n",
    "        for n in range(hat_x.shape[1]):\n",
    "            L.append(_INTT2D(hat_x, 2, 2, hat_x.shape[0], hat_x.shape[1], 257, m, n))\n",
    "        L_L.append(L)\n",
    "    \n",
    "    return np.array(L_L)"
   ]
  },
  {
   "cell_type": "code",
   "execution_count": 12,
   "id": "3a74a4d1-4b48-4792-9a60-9f1c36a2ebe7",
   "metadata": {},
   "outputs": [],
   "source": [
    "#INTT2D(np.multiply(NTT2D(a_b2), NTT2D(a_b2)))"
   ]
  },
  {
   "cell_type": "code",
   "execution_count": 13,
   "id": "741760d4-54b2-4e03-8331-bc0ef6b820e2",
   "metadata": {},
   "outputs": [],
   "source": [
    "#np.multiply(NTT2D(a_b2), NTT2D(a_b2)).shape"
   ]
  },
  {
   "cell_type": "code",
   "execution_count": null,
   "id": "47ee382a-f63e-427d-a8b0-ca67229fd573",
   "metadata": {},
   "outputs": [],
   "source": []
  },
  {
   "cell_type": "markdown",
   "id": "2e380bcb-3608-4e7d-aa6f-2f8df4750118",
   "metadata": {},
   "source": [
    "# Proof #NTT"
   ]
  },
  {
   "cell_type": "code",
   "execution_count": 14,
   "id": "2b074dba-5429-41ec-b8fd-57fc44b48a42",
   "metadata": {},
   "outputs": [],
   "source": [
    "def _NTT(f, n, N, alpha, m):\n",
    "    gsum=0\n",
    "    for k in range(0, N):\n",
    "        gsum += f[k]*np.power(alpha, n*k)\n",
    "    \n",
    "    return np.mod(gsum, m)\n",
    "\n",
    "def NTT_base(f, alpha, m):\n",
    "    N = len(f)\n",
    "    l_ret = []\n",
    "    for n in range(0, N):\n",
    "        l_ret.append(_NTT(f, n, N, alpha, m))\n",
    "    \n",
    "    return np.array(l_ret)"
   ]
  },
  {
   "cell_type": "code",
   "execution_count": 15,
   "id": "2fc590aa-f63c-4634-8b4c-f68e311b1fd0",
   "metadata": {},
   "outputs": [],
   "source": [
    "def NTT_slow(f, alpha, p):\n",
    "    f = np.asarray(f, dtype=int)\n",
    "    N = f.shape[0]\n",
    "    \n",
    "    n = np.arange(N)\n",
    "    k = n.reshape((N, 1))\n",
    "    \n",
    "    if not verify_params_ntt(N, alpha, p): raise Exception('The parameters alpha, p and N are not coprimes !!')\n",
    "    \n",
    "    M = np.power(alpha, n*k)\n",
    "    \n",
    "    return np.mod(np.dot(M, f), p)"
   ]
  },
  {
   "cell_type": "code",
   "execution_count": 16,
   "id": "4fc6088e-5a92-4d58-a767-3b182de22dd6",
   "metadata": {},
   "outputs": [
    {
     "name": "stdout",
     "output_type": "stream",
     "text": [
      "137 µs ± 223 ns per loop (mean ± std. dev. of 7 runs, 10,000 loops each)\n",
      "226 µs ± 3.33 µs per loop (mean ± std. dev. of 7 runs, 1,000 loops each)\n",
      "137 µs ± 1.23 µs per loop (mean ± std. dev. of 7 runs, 10,000 loops each)\n"
     ]
    },
    {
     "data": {
      "text/plain": [
       "True"
      ]
     },
     "execution_count": 16,
     "metadata": {},
     "output_type": "execute_result"
    }
   ],
   "source": [
    "%timeit sntt(f, 5)\n",
    "%timeit NTT_base(f, 2, 5)\n",
    "%timeit NTT_slow(f, 2, 5)\n",
    "\n",
    "np.allclose(NTT_slow(f, 2, 5), NTT_base(f, 2, 5))"
   ]
  },
  {
   "cell_type": "code",
   "execution_count": 18,
   "id": "89d21b72-1311-4381-9ac4-68c38304b290",
   "metadata": {},
   "outputs": [],
   "source": [
    "f_hat = NTT_slow(f, 2, 5)"
   ]
  },
  {
   "cell_type": "code",
   "execution_count": null,
   "id": "ededc2e6-ded4-4880-b9a4-8c65fb69d57c",
   "metadata": {},
   "outputs": [],
   "source": []
  },
  {
   "cell_type": "markdown",
   "id": "2b7a83e8-0a75-4d05-ad6f-89ad635e21f4",
   "metadata": {},
   "source": [
    "# Proof # INTT"
   ]
  },
  {
   "cell_type": "code",
   "execution_count": 19,
   "id": "43ddcc59-19b9-4ba0-bd5d-53f73b67a3c8",
   "metadata": {},
   "outputs": [],
   "source": [
    "def _INTT(f_h, k, N, alpha, m):\n",
    "    inv_N = get_inv(N, m)\n",
    "    gsum=0\n",
    "    for n in range(0, N):\n",
    "        gsum += inv_N * f_h[n]*np.power(alpha, np.mod(-n*k, N))\n",
    "    \n",
    "    return np.mod(gsum, m)\n",
    "\n",
    "def INTT_base(f_h, alpha, m):\n",
    "    N = len(f_h)\n",
    "    l_ret = []\n",
    "    for k in range(0, N):\n",
    "        l_ret.append(_INTT(f_h, k, N, alpha, m))\n",
    "    \n",
    "    return np.array(l_ret)"
   ]
  },
  {
   "cell_type": "code",
   "execution_count": 21,
   "id": "00fa6ce8-5ff7-4a24-9ffa-4581db430e1d",
   "metadata": {},
   "outputs": [],
   "source": [
    "def INTT_slow(f, alpha, p):\n",
    "    f = np.asarray(f, dtype=int)\n",
    "    N = f.shape[0]\n",
    "    inv_N = get_inv(N, p)\n",
    "    \n",
    "    n = np.arange(N)\n",
    "    k = n.reshape((N, 1))\n",
    "    \n",
    "    if not verify_params_ntt(N, alpha, p): raise Exception('The parameters alpha, p and N are not coprimes !!')\n",
    "    \n",
    "    M = np.power(alpha, np.mod(-n*k, N))\n",
    "    \n",
    "    return np.mod(inv_N * np.dot(M, f), p)"
   ]
  },
  {
   "cell_type": "code",
   "execution_count": 22,
   "id": "9569f764-2ad2-4f4d-918d-2a530cfc0a61",
   "metadata": {},
   "outputs": [
    {
     "name": "stdout",
     "output_type": "stream",
     "text": [
      "149 µs ± 702 ns per loop (mean ± std. dev. of 7 runs, 10,000 loops each)\n",
      "503 µs ± 4.14 µs per loop (mean ± std. dev. of 7 runs, 1,000 loops each)\n",
      "195 µs ± 9.16 µs per loop (mean ± std. dev. of 7 runs, 1,000 loops each)\n"
     ]
    },
    {
     "data": {
      "text/plain": [
       "True"
      ]
     },
     "execution_count": 22,
     "metadata": {},
     "output_type": "execute_result"
    }
   ],
   "source": [
    "%timeit sintt(f_hat, 5)\n",
    "%timeit INTT_base(f_hat, 2, 5)\n",
    "%timeit INTT_slow(f_hat, 2, 5)\n",
    "\n",
    "np.allclose(INTT_slow(f_hat, 2, 5), INTT_base(f_hat, 2, 5))"
   ]
  },
  {
   "cell_type": "code",
   "execution_count": 23,
   "id": "7299c0fd-c113-46e1-82db-bf46551994dc",
   "metadata": {},
   "outputs": [],
   "source": [
    "f_n = INTT_slow(f_hat, 2, 5)"
   ]
  },
  {
   "cell_type": "code",
   "execution_count": 24,
   "id": "8297e3f5-2b67-4d1d-bdda-b9aef59ba1a7",
   "metadata": {},
   "outputs": [
    {
     "data": {
      "text/plain": [
       "array([1, 4, 0, 0])"
      ]
     },
     "execution_count": 24,
     "metadata": {},
     "output_type": "execute_result"
    }
   ],
   "source": [
    "f_n"
   ]
  },
  {
   "cell_type": "markdown",
   "id": "9d858046-c68a-4b20-b69b-0bb1e1d8214c",
   "metadata": {},
   "source": [
    "## Test 2D matrix"
   ]
  },
  {
   "cell_type": "code",
   "execution_count": 49,
   "id": "2240f997-6af9-4dc0-8b81-c63da8ee25fa",
   "metadata": {},
   "outputs": [],
   "source": [
    "a_b2 = np.array([[0,1,0,0, 0,0,0,0, 0,0,0,0, 0,0,0,0],\n",
    "                 [0,0,0,1, 0,0,0,0, 0,0,0,0, 0,0,0,0],\n",
    "                 [0,0,0,0, 0,0,0,0, 0,0,0,0, 0,0,0,0],\n",
    "                 [0,0,0,0, 0,0,0,0, 0,0,0,0, 0,0,0,0],\n",
    "                 [0,0,0,0, 0,0,0,0, 0,0,0,0, 0,0,0,0],\n",
    "                 [0,0,0,0, 0,0,0,0, 0,0,0,0, 0,0,0,0],\n",
    "                 [0,0,0,0, 0,0,0,0, 0,0,0,0, 0,0,0,0],\n",
    "                 [0,0,0,0, 0,0,0,0, 0,0,0,0, 0,0,0,0],\n",
    "                 [0,0,0,0, 0,0,0,0, 0,0,0,0, 0,0,0,0],\n",
    "                 [0,0,0,0, 0,0,0,0, 0,0,0,0, 0,0,0,0],\n",
    "                 [0,0,0,0, 0,0,0,0, 0,0,0,0, 0,0,0,0],\n",
    "                 [0,0,0,0, 0,0,0,0, 0,0,0,0, 0,0,0,0],\n",
    "                 [0,0,0,0, 0,0,0,0, 0,0,0,0, 0,0,0,0],\n",
    "                 [0,0,0,0, 0,0,0,0, 0,0,0,0, 0,0,0,0],\n",
    "                 [0,0,0,0, 0,0,0,0, 0,0,0,0, 0,0,0,0],\n",
    "                 [0,0,0,0, 0,0,0,0, 0,0,0,0, 0,0,0,0]])\n",
    "\n",
    "b_b2 = np.array([[0,0,1,0, 0,0,0,0, 0,0,0,0, 0,0,0,0],\n",
    "                 [1,1,0,0, 0,0,0,0, 0,0,0,0, 0,0,0,0],\n",
    "                 [0,0,0,0, 0,0,0,0, 0,0,0,0, 0,0,0,0],\n",
    "                 [0,0,0,0, 0,0,0,0, 0,0,0,0, 0,0,0,0],\n",
    "                 [0,0,0,0, 0,0,0,0, 0,0,0,0, 0,0,0,0],\n",
    "                 [0,0,0,0, 0,0,0,0, 0,0,0,0, 0,0,0,0],\n",
    "                 [0,0,0,0, 0,0,0,0, 0,0,0,0, 0,0,0,0],\n",
    "                 [0,0,0,0, 0,0,0,0, 0,0,0,0, 0,0,0,0],\n",
    "                 [0,0,0,0, 0,0,0,0, 0,0,0,0, 0,0,0,0],\n",
    "                 [0,0,0,0, 0,0,0,0, 0,0,0,0, 0,0,0,0],\n",
    "                 [0,0,0,0, 0,0,0,0, 0,0,0,0, 0,0,0,0],\n",
    "                 [0,0,0,0, 0,0,0,0, 0,0,0,0, 0,0,0,0],\n",
    "                 [0,0,0,0, 0,0,0,0, 0,0,0,0, 0,0,0,0],\n",
    "                 [0,0,0,0, 0,0,0,0, 0,0,0,0, 0,0,0,0],\n",
    "                 [0,0,0,0, 0,0,0,0, 0,0,0,0, 0,0,0,0],\n",
    "                 [0,0,0,0, 0,0,0,0, 0,0,0,0, 0,0,0,0]])"
   ]
  },
  {
   "cell_type": "code",
   "execution_count": 50,
   "id": "054e9b6b-3f0d-49b0-a666-7af42619ea96",
   "metadata": {},
   "outputs": [],
   "source": [
    "alpha_t = 2\n",
    "m_t = 257\n",
    "#verify_params_ntt(8, 2, 257)"
   ]
  },
  {
   "cell_type": "code",
   "execution_count": 51,
   "id": "aae63591-14b2-4929-b57f-addfe31f054f",
   "metadata": {},
   "outputs": [],
   "source": [
    "a_b2_x = np.apply_along_axis(NTT_slow, 1, a_b2, alpha_t, m_t)"
   ]
  },
  {
   "cell_type": "code",
   "execution_count": 52,
   "id": "653dafcb-f140-4af6-a8ad-99ebfd7493c3",
   "metadata": {},
   "outputs": [],
   "source": [
    "a_b2_xy = np.apply_along_axis(NTT_slow, 0, a_b2_x, alpha_t, m_t)"
   ]
  },
  {
   "cell_type": "code",
   "execution_count": 53,
   "id": "bbb10d26-9f56-455f-b821-03d83d8ef07c",
   "metadata": {},
   "outputs": [],
   "source": [
    "b_b2_x = np.apply_along_axis(NTT_slow, 1, b_b2, alpha_t, m_t)"
   ]
  },
  {
   "cell_type": "code",
   "execution_count": 54,
   "id": "5b64ae7e-a42f-419c-aa0e-443335d91b4e",
   "metadata": {},
   "outputs": [],
   "source": [
    "b_b2_xy = np.apply_along_axis(NTT_slow, 0, b_b2_x, alpha_t, m_t)"
   ]
  },
  {
   "cell_type": "code",
   "execution_count": 55,
   "id": "2cc205de-1769-408e-a868-f07df559050d",
   "metadata": {},
   "outputs": [],
   "source": [
    "c_h = np.multiply(a_b2_xy, b_b2_xy)"
   ]
  },
  {
   "cell_type": "code",
   "execution_count": 56,
   "id": "b75b0adc-f9a7-47a1-bacb-ca7e8d35d0c1",
   "metadata": {},
   "outputs": [],
   "source": [
    "c_x = np.apply_along_axis(INTT_slow, 1, c_h, alpha_t, m_t)"
   ]
  },
  {
   "cell_type": "code",
   "execution_count": 57,
   "id": "a0472d3a-6370-4e09-9761-222a8aeb6bdf",
   "metadata": {},
   "outputs": [],
   "source": [
    "c_xy = np.apply_along_axis(INTT_slow, 0, c_x, alpha_t, m_t)"
   ]
  },
  {
   "cell_type": "code",
   "execution_count": 58,
   "id": "c5b2723c-e7e9-4c28-8068-f2711f58314c",
   "metadata": {},
   "outputs": [
    {
     "data": {
      "text/plain": [
       "array([[0, 0, 0, 1, 0, 0, 0, 0, 0, 0, 0, 0, 0, 0, 0, 0],\n",
       "       [0, 1, 1, 0, 0, 1, 0, 0, 0, 0, 0, 0, 0, 0, 0, 0],\n",
       "       [0, 0, 0, 1, 1, 0, 0, 0, 0, 0, 0, 0, 0, 0, 0, 0],\n",
       "       [0, 0, 0, 0, 0, 0, 0, 0, 0, 0, 0, 0, 0, 0, 0, 0],\n",
       "       [0, 0, 0, 0, 0, 0, 0, 0, 0, 0, 0, 0, 0, 0, 0, 0],\n",
       "       [0, 0, 0, 0, 0, 0, 0, 0, 0, 0, 0, 0, 0, 0, 0, 0],\n",
       "       [0, 0, 0, 0, 0, 0, 0, 0, 0, 0, 0, 0, 0, 0, 0, 0],\n",
       "       [0, 0, 0, 0, 0, 0, 0, 0, 0, 0, 0, 0, 0, 0, 0, 0],\n",
       "       [0, 0, 0, 0, 0, 0, 0, 0, 0, 0, 0, 0, 0, 0, 0, 0],\n",
       "       [0, 0, 0, 0, 0, 0, 0, 0, 0, 0, 0, 0, 0, 0, 0, 0],\n",
       "       [0, 0, 0, 0, 0, 0, 0, 0, 0, 0, 0, 0, 0, 0, 0, 0],\n",
       "       [0, 0, 0, 0, 0, 0, 0, 0, 0, 0, 0, 0, 0, 0, 0, 0],\n",
       "       [0, 0, 0, 0, 0, 0, 0, 0, 0, 0, 0, 0, 0, 0, 0, 0],\n",
       "       [0, 0, 0, 0, 0, 0, 0, 0, 0, 0, 0, 0, 0, 0, 0, 0],\n",
       "       [0, 0, 0, 0, 0, 0, 0, 0, 0, 0, 0, 0, 0, 0, 0, 0],\n",
       "       [0, 0, 0, 0, 0, 0, 0, 0, 0, 0, 0, 0, 0, 0, 0, 0]])"
      ]
     },
     "execution_count": 58,
     "metadata": {},
     "output_type": "execute_result"
    }
   ],
   "source": [
    "c_xy"
   ]
  },
  {
   "cell_type": "code",
   "execution_count": null,
   "id": "eef00edd-c9e0-405e-a264-e0ba7079d71e",
   "metadata": {},
   "outputs": [],
   "source": []
  },
  {
   "cell_type": "code",
   "execution_count": null,
   "id": "a1a1997d-5e07-4381-b8f3-b9e4a9acf749",
   "metadata": {},
   "outputs": [],
   "source": []
  },
  {
   "cell_type": "code",
   "execution_count": null,
   "id": "8f501dbc-ff62-4f9d-894f-eaa5d1fcdd2d",
   "metadata": {},
   "outputs": [],
   "source": []
  },
  {
   "cell_type": "code",
   "execution_count": null,
   "id": "e6f8d6d2-af7f-46fd-b127-0dd7b0cab61a",
   "metadata": {},
   "outputs": [],
   "source": []
  },
  {
   "cell_type": "markdown",
   "id": "1b70bdbc-4579-4d3a-989f-fbf5cb9bb7f1",
   "metadata": {},
   "source": [
    "# Proof #1\n",
    "$$\\hat{f}^{\\prime}_{n} = \\sum^{N-1}_{k=1}{(kf_{k}) \\alpha^{n(k-1)}} \\mod{m}, \\quad n=0, \\ldots, N-1$$"
   ]
  },
  {
   "cell_type": "code",
   "execution_count": null,
   "id": "a0382bc2-9ec5-4ee6-a1f3-aee0e155643d",
   "metadata": {},
   "outputs": [],
   "source": [
    "for n in range(N_t):\n",
    "    sum_o = 0\n",
    "    for k in range(1,N_t):\n",
    "        sum_o += np.mod(k * f[k] * np.power(alpha_t, n*(k-1)), m_t)\n",
    "    print(f'n={n} f_hat_p={sum_o}')"
   ]
  },
  {
   "cell_type": "markdown",
   "id": "b2a06179-716d-4de3-a6af-d1acbc3728d3",
   "metadata": {},
   "source": [
    "# Proof #2\n",
    "\n",
    "$$\\hat{f}^{\\prime}_{n} = \\sum^{N-1}_{k=1}{k \\left(N^{-1} \\sum_{l=0}^{N-1} \\hat{f}_{l} \\alpha^{-l k}\\right) \\alpha^{n(k-1)}} \\mod{m}, \\quad n=0, \\ldots, N-1$$"
   ]
  },
  {
   "cell_type": "code",
   "execution_count": null,
   "id": "b281d8e5-f17f-4016-9d1c-aae8b95c71ea",
   "metadata": {},
   "outputs": [],
   "source": [
    "N_inv_t = get_inv(N_t, m_t)\n",
    "\n",
    "for n in range(N_t):    \n",
    "    sum_k = 0\n",
    "    for k in range(1,N_t):\n",
    "        \n",
    "        sum_l = 0\n",
    "        for l in range(N_t):\n",
    "            sum_l += f_hat[l]*np.power(alpha_t, -l*k%N_t ) ## change 1\n",
    "        sum_l *= N_inv_t ## change 2\n",
    "        \n",
    "        sum_k += k*sum_l*np.power(alpha_t, n*(k-1))\n",
    "    sum_k = np.mod(sum_k, m_t)\n",
    "\n",
    "    print(f'n={n} f_hat_p={sum_k}')"
   ]
  },
  {
   "cell_type": "markdown",
   "id": "6344b4cb-0a55-4d47-9f2e-829059094054",
   "metadata": {},
   "source": [
    "# Proof #3\n",
    "\n",
    "$$\\hat{f}^{\\prime}_{n} = N^{-1}\\sum_{l=0}^{N-1} \\hat{f}_{l}\\sum^{N-1}_{k=1} k \\alpha^{k(n-l)}\\alpha^{-n} \\mod{m}, \\quad n=0, \\ldots, N-1$$"
   ]
  },
  {
   "cell_type": "code",
   "execution_count": null,
   "id": "48f2f7ed-8d64-461a-8af7-7ae2ed4eaf24",
   "metadata": {},
   "outputs": [],
   "source": [
    "for n in range(N_t):    \n",
    "    \n",
    "    sum_l = 0\n",
    "    for l in range(N_t):\n",
    "        \n",
    "        sum_k = 0\n",
    "        for k in range(1,N_t):\n",
    "            sum_k += k*np.power(alpha_t, (k*(n-l))%N_t ) ## change 1\n",
    "\n",
    "        sum_l += f_hat[l]*sum_k\n",
    "    \n",
    "    sum_l = N_inv_t*sum_l*np.power(alpha_t, -n%N_t) ## change 2 and 3\n",
    "    sum_l = np.mod(sum_l, m_t)\n",
    "\n",
    "    print(f'n={n} f_hat_p={sum_l}')"
   ]
  },
  {
   "cell_type": "markdown",
   "id": "038b8ffb-9af0-4272-aa2f-89cbcf657cd1",
   "metadata": {},
   "source": [
    "# Proof #4\n",
    "\n",
    "$$\\hat{f}^{\\prime}_{n} =N^{-1}\\sum_{l=0}^{N-1} \\hat{f}_{l}\\alpha^{-n}  \\sum^{N-1}_{k=1} k \\alpha^{k(n-l)}  \\mod{m}, \\quad n=0, \\ldots, N-1$$"
   ]
  },
  {
   "cell_type": "code",
   "execution_count": null,
   "id": "1efdd7b4-c653-4e44-82d3-7733e39a9d3f",
   "metadata": {},
   "outputs": [],
   "source": [
    "for n in range(N_t):    \n",
    "    \n",
    "    sum_l = 0\n",
    "    for l in range(N_t):\n",
    "        \n",
    "        sum_k = 0\n",
    "        for k in range(1,N_t):\n",
    "            sum_k += k*np.power(alpha_t, (k*(n-l))%N_t ) ## change 1\n",
    "        \n",
    "        # print(np.mod(sum_k,m))\n",
    "\n",
    "        sum_l += f_hat[l]*sum_k\n",
    "    \n",
    "    sum_l = N_inv_t*np.power(alpha_t, -n%N_t)*sum_l ##change 2 and 3\n",
    "    \n",
    "    sum_l = np.mod(sum_l, m_t)\n",
    "\n",
    "    print(f'n={n} f_hat_p={sum_l}')"
   ]
  },
  {
   "cell_type": "markdown",
   "id": "2d78032f-b1e3-495d-92d7-7629fe3294cb",
   "metadata": {},
   "source": [
    "# Proof #5\n",
    "\n",
    "\\begin{equation*}\n",
    "\\sum^{N-1}_{k=1} k \\alpha^{k(n-l)} = \\begin{cases}\n",
    "  2^{-1}\\left(N-1\\right)N  &\\text{ if } l=n  \\\\\n",
    "  \\frac{N}{\\left(\\alpha^{n-l} -1\\right)} &\\text{ if } l\\neq n,\n",
    "\\end{cases}\n",
    "\\end{equation*}"
   ]
  },
  {
   "cell_type": "code",
   "execution_count": 94,
   "id": "3836c6a1-dd65-4b84-8ce1-325521d2a77c",
   "metadata": {},
   "outputs": [],
   "source": [
    "inv_two = get_inv(2, m_t)"
   ]
  },
  {
   "cell_type": "code",
   "execution_count": 95,
   "id": "0fabfc5c-f925-43cb-89bb-9c938d23e9ce",
   "metadata": {},
   "outputs": [
    {
     "name": "stdout",
     "output_type": "stream",
     "text": [
      "l=0,k=0, sum= 1\n",
      "l=1,k=0, sum= 2\n",
      "l=2,k=0, sum= 3\n",
      "l=3,k=0, sum= 4\n",
      "\n",
      "l=0,k=1, sum= 4\n",
      "l=1,k=1, sum= 1\n",
      "l=2,k=1, sum= 2\n",
      "l=3,k=1, sum= 3\n",
      "\n",
      "l=0,k=2, sum= 3\n",
      "l=1,k=2, sum= 4\n",
      "l=2,k=2, sum= 1\n",
      "l=3,k=2, sum= 2\n",
      "\n",
      "l=0,k=3, sum= 2\n",
      "l=1,k=3, sum= 3\n",
      "l=2,k=3, sum= 4\n",
      "l=3,k=3, sum= 1\n",
      "\n"
     ]
    }
   ],
   "source": [
    "## Left \n",
    "for n in range(N_t):\n",
    "    for l in range(N_t):\n",
    "        sum_k=0\n",
    "        for k in range(1,N_t):\n",
    "            sum_k += k* np.power(alpha_t, (k*(n-l))%N_t )\n",
    "\n",
    "        print(f'l={l},k={n}, sum= {np.mod(sum_k,m_t)}')\n",
    "    print('')"
   ]
  },
  {
   "cell_type": "code",
   "execution_count": 96,
   "id": "7da0060d-b40a-4aaa-836a-340d2d9d73b0",
   "metadata": {},
   "outputs": [
    {
     "name": "stdout",
     "output_type": "stream",
     "text": [
      "l=0,l=0, sum= 1\n",
      "l=1,l=0, sum= 2\n",
      "l=2,l=0, sum= 3\n",
      "l=3,l=0, sum= 4\n",
      "\n",
      "l=0,l=1, sum= 4\n",
      "l=1,l=1, sum= 1\n",
      "l=2,l=1, sum= 2\n",
      "l=3,l=1, sum= 3\n",
      "\n",
      "l=0,l=2, sum= 3\n",
      "l=1,l=2, sum= 4\n",
      "l=2,l=2, sum= 1\n",
      "l=3,l=2, sum= 2\n",
      "\n",
      "l=0,l=3, sum= 2\n",
      "l=1,l=3, sum= 3\n",
      "l=2,l=3, sum= 4\n",
      "l=3,l=3, sum= 1\n",
      "\n"
     ]
    }
   ],
   "source": [
    "## Right\n",
    "for n in range(N_t):\n",
    "    for l in range(N_t):\n",
    "        if l==n:\n",
    "            sum_k= inv_two*(N_t-1)*N_t\n",
    "        else:\n",
    "            pow_a = np.mod((n-l), N_t) ## only positive exponents\n",
    "            a = np.power(alpha_t, pow_a)\n",
    "            a_inv = get_inv(a-1, m_t)\n",
    "            \n",
    "            sum_k = N_t * a_inv\n",
    "\n",
    "\n",
    "        print(f'l={l},l={n}, sum= {np.mod(sum_k,m_t)}')\n",
    "    print('')"
   ]
  },
  {
   "cell_type": "markdown",
   "id": "a689c3a2-77b5-42e5-b251-21ed57e16d9b",
   "metadata": {},
   "source": [
    "Building the T_prime matrix"
   ]
  },
  {
   "cell_type": "code",
   "execution_count": 103,
   "id": "a5362ea4-7086-47d6-8d1a-e890001405ce",
   "metadata": {},
   "outputs": [
    {
     "name": "stdout",
     "output_type": "stream",
     "text": [
      "0 0\n",
      "0 1\n",
      "0 2\n",
      "0 3\n",
      "1 0\n",
      "1 1\n",
      "1 2\n",
      "1 3\n",
      "2 0\n",
      "2 1\n",
      "2 2\n",
      "2 3\n",
      "3 0\n",
      "3 1\n",
      "3 2\n",
      "3 3\n"
     ]
    }
   ],
   "source": [
    "l_l = []\n",
    "for n in range(N_t):\n",
    "    n_l = []\n",
    "    for l in range(N_t):\n",
    "        print(n,l)\n",
    "        if l==n:\n",
    "            t_l_n= inv_two*(N_t-1)*np.power(alpha_t,-n%N_t)\n",
    "        else:\n",
    "            pow_a = np.mod((n-l), N_t) ## only positive exponents\n",
    "            a = np.power(alpha_t, pow_a)\n",
    "            a_inv = get_inv(a-1, m_t)\n",
    "            \n",
    "            t_l_n = np.power(alpha_t, -n%N_t)*a_inv\n",
    "\n",
    "        n_l.append(t_l_n)\n",
    "        # print(f'l={l},l={n}, sum= {t_l_n}')\n",
    "    l_l.append(n_l)"
   ]
  },
  {
   "cell_type": "code",
   "execution_count": null,
   "id": "c4fc1f5d-fd3e-4af7-9f6f-052ca8624ff3",
   "metadata": {},
   "outputs": [],
   "source": []
  },
  {
   "cell_type": "code",
   "execution_count": 98,
   "id": "541769c2-b2e3-49db-9281-572a9b6132f1",
   "metadata": {},
   "outputs": [
    {
     "data": {
      "text/plain": [
       "array([4, 4, 4, 4])"
      ]
     },
     "execution_count": 98,
     "metadata": {},
     "output_type": "execute_result"
    }
   ],
   "source": [
    "T_prime = np.mod(np.array(l_l),m_t)\n",
    "\n",
    "# f_h = np.array(f_h)\n",
    "\n",
    "np.mod(np.dot(T_prime, f_hat),m_t)"
   ]
  },
  {
   "cell_type": "code",
   "execution_count": 99,
   "id": "fd59ffcd-2973-4360-a0ba-2634ba2affcb",
   "metadata": {},
   "outputs": [
    {
     "data": {
      "text/plain": [
       "array([[4, 3, 2, 1],\n",
       "       [3, 2, 4, 1],\n",
       "       [3, 4, 1, 2],\n",
       "       [1, 4, 2, 3]])"
      ]
     },
     "execution_count": 99,
     "metadata": {},
     "output_type": "execute_result"
    }
   ],
   "source": [
    "T_prime"
   ]
  },
  {
   "cell_type": "code",
   "execution_count": null,
   "id": "6ee71fb5-aea2-4b5f-b9f0-bbfa0202b5a1",
   "metadata": {},
   "outputs": [],
   "source": []
  },
  {
   "cell_type": "markdown",
   "id": "c96ce76b-2286-4663-9267-dbb63075a5fe",
   "metadata": {},
   "source": [
    "# Prime Matrix"
   ]
  },
  {
   "cell_type": "code",
   "execution_count": 113,
   "id": "fe0d2e7c-5f84-458d-a6fe-7899e20a7633",
   "metadata": {},
   "outputs": [],
   "source": [
    "N_t = 4\n",
    "\n",
    "n = np.arange(N_t)\n",
    "#l = np.arange(N_t)\n",
    "l = n.reshape((N_t, 1))\n",
    "\n",
    "alpha_t = 2\n",
    "m_t = 5\n",
    "\n",
    "vget_inv = np.vectorize(get_inv)"
   ]
  },
  {
   "cell_type": "code",
   "execution_count": 101,
   "id": "9b6ea65b-8c25-492b-92ed-83e7b7607a7b",
   "metadata": {},
   "outputs": [
    {
     "data": {
      "text/plain": [
       "array([[0],\n",
       "       [1],\n",
       "       [2],\n",
       "       [3]])"
      ]
     },
     "execution_count": 101,
     "metadata": {},
     "output_type": "execute_result"
    }
   ],
   "source": [
    "l_l = []\n",
    "for n in range(N_t):\n",
    "    n_l = []\n",
    "    for l in range(N_t):\n",
    "        print(n,l)\n",
    "        if l==n:\n",
    "            t_l_n= inv_two*(N_t-1)*np.power(alpha_t,-n%N_t)\n",
    "        else:\n",
    "            pow_a = np.mod((n-l), N_t) ## only positive exponents\n",
    "            a = np.power(alpha_t, pow_a)\n",
    "            a_inv = get_inv(a-1, m_t)\n",
    "            \n",
    "            t_l_n = np.power(alpha_t, -n%N_t)*a_inv\n",
    "\n",
    "        n_l.append(t_l_n)\n",
    "        # print(f'l={l},l={n}, sum= {t_l_n}')\n",
    "    l_l.append(n_l)"
   ]
  },
  {
   "cell_type": "code",
   "execution_count": null,
   "id": "a88cd0c0-a166-45c3-9017-181a947bf504",
   "metadata": {},
   "outputs": [],
   "source": [
    "vget_inv(np.power(alpha_t, np.mod((n-l), N_t))-1, m_t)"
   ]
  },
  {
   "cell_type": "code",
   "execution_count": 117,
   "id": "3e431a01-3bf4-4020-985c-1ffae1a2efb4",
   "metadata": {},
   "outputs": [
    {
     "data": {
      "text/plain": [
       "array([0, 1, 2, 3])"
      ]
     },
     "execution_count": 117,
     "metadata": {},
     "output_type": "execute_result"
    }
   ],
   "source": [
    "n"
   ]
  },
  {
   "cell_type": "code",
   "execution_count": null,
   "id": "2c57058d-fae5-4ca7-a272-84f2d77c091b",
   "metadata": {},
   "outputs": [],
   "source": [
    "def f(r,x):\n",
    "    return np.where(x<0.5,2*r*x, 2*r*(1-x))"
   ]
  },
  {
   "cell_type": "code",
   "execution_count": 121,
   "id": "a7f57bb9-f4f3-456f-822f-bd9b9a6600e3",
   "metadata": {},
   "outputs": [],
   "source": [
    "# alpha_t = 2\n",
    "# m_t = 5\n",
    "def ff(n,l):\n",
    "    return np.piecewise([n,n],\n",
    "\n",
    "                 [l==n,\n",
    "                 l!=n],\n",
    "\n",
    "                 [vget_inv(2, m_t)*(N_t-1)*np.power(alpha_t,np.mod(-n, N_t)),\n",
    "                  1*np.power(alpha_t,np.mod(-n, N_t))]\n",
    "\n",
    "                )"
   ]
  },
  {
   "cell_type": "code",
   "execution_count": 122,
   "id": "b00f3842-4a8b-4fb8-9cbc-28620a9fbd25",
   "metadata": {},
   "outputs": [
    {
     "ename": "IndexError",
     "evalue": "boolean index did not match indexed array along dimension 0; dimension is 2 but corresponding boolean dimension is 4",
     "output_type": "error",
     "traceback": [
      "\u001b[0;31m---------------------------------------------------------------------------\u001b[0m",
      "\u001b[0;31mIndexError\u001b[0m                                Traceback (most recent call last)",
      "Input \u001b[0;32mIn [122]\u001b[0m, in \u001b[0;36m<cell line: 1>\u001b[0;34m()\u001b[0m\n\u001b[0;32m----> 1\u001b[0m \u001b[43mff\u001b[49m\u001b[43m(\u001b[49m\u001b[43mn\u001b[49m\u001b[43m,\u001b[49m\u001b[43mn\u001b[49m\u001b[43m)\u001b[49m\n",
      "Input \u001b[0;32mIn [121]\u001b[0m, in \u001b[0;36mff\u001b[0;34m(n, l)\u001b[0m\n\u001b[1;32m      3\u001b[0m \u001b[38;5;28;01mdef\u001b[39;00m \u001b[38;5;21mff\u001b[39m(n,l):\n\u001b[0;32m----> 4\u001b[0m     \u001b[38;5;28;01mreturn\u001b[39;00m \u001b[43mnp\u001b[49m\u001b[38;5;241;43m.\u001b[39;49m\u001b[43mpiecewise\u001b[49m\u001b[43m(\u001b[49m\u001b[43m[\u001b[49m\u001b[43mn\u001b[49m\u001b[43m,\u001b[49m\u001b[43mn\u001b[49m\u001b[43m]\u001b[49m\u001b[43m,\u001b[49m\n\u001b[1;32m      5\u001b[0m \n\u001b[1;32m      6\u001b[0m \u001b[43m                 \u001b[49m\u001b[43m[\u001b[49m\u001b[43ml\u001b[49m\u001b[38;5;241;43m==\u001b[39;49m\u001b[43mn\u001b[49m\u001b[43m,\u001b[49m\n\u001b[1;32m      7\u001b[0m \u001b[43m                 \u001b[49m\u001b[43ml\u001b[49m\u001b[38;5;241;43m!=\u001b[39;49m\u001b[43mn\u001b[49m\u001b[43m]\u001b[49m\u001b[43m,\u001b[49m\n\u001b[1;32m      8\u001b[0m \n\u001b[1;32m      9\u001b[0m \u001b[43m                 \u001b[49m\u001b[43m[\u001b[49m\u001b[43mvget_inv\u001b[49m\u001b[43m(\u001b[49m\u001b[38;5;241;43m2\u001b[39;49m\u001b[43m,\u001b[49m\u001b[43m \u001b[49m\u001b[43mm_t\u001b[49m\u001b[43m)\u001b[49m\u001b[38;5;241;43m*\u001b[39;49m\u001b[43m(\u001b[49m\u001b[43mN_t\u001b[49m\u001b[38;5;241;43m-\u001b[39;49m\u001b[38;5;241;43m1\u001b[39;49m\u001b[43m)\u001b[49m\u001b[38;5;241;43m*\u001b[39;49m\u001b[43mnp\u001b[49m\u001b[38;5;241;43m.\u001b[39;49m\u001b[43mpower\u001b[49m\u001b[43m(\u001b[49m\u001b[43malpha_t\u001b[49m\u001b[43m,\u001b[49m\u001b[43mnp\u001b[49m\u001b[38;5;241;43m.\u001b[39;49m\u001b[43mmod\u001b[49m\u001b[43m(\u001b[49m\u001b[38;5;241;43m-\u001b[39;49m\u001b[43mn\u001b[49m\u001b[43m,\u001b[49m\u001b[43m \u001b[49m\u001b[43mN_t\u001b[49m\u001b[43m)\u001b[49m\u001b[43m)\u001b[49m\u001b[43m,\u001b[49m\n\u001b[1;32m     10\u001b[0m \u001b[43m                  \u001b[49m\u001b[38;5;241;43m1\u001b[39;49m\u001b[38;5;241;43m*\u001b[39;49m\u001b[43mnp\u001b[49m\u001b[38;5;241;43m.\u001b[39;49m\u001b[43mpower\u001b[49m\u001b[43m(\u001b[49m\u001b[43malpha_t\u001b[49m\u001b[43m,\u001b[49m\u001b[43mnp\u001b[49m\u001b[38;5;241;43m.\u001b[39;49m\u001b[43mmod\u001b[49m\u001b[43m(\u001b[49m\u001b[38;5;241;43m-\u001b[39;49m\u001b[43mn\u001b[49m\u001b[43m,\u001b[49m\u001b[43m \u001b[49m\u001b[43mN_t\u001b[49m\u001b[43m)\u001b[49m\u001b[43m)\u001b[49m\u001b[43m]\u001b[49m\n\u001b[1;32m     11\u001b[0m \n\u001b[1;32m     12\u001b[0m \u001b[43m                \u001b[49m\u001b[43m)\u001b[49m\n",
      "File \u001b[0;32m<__array_function__ internals>:5\u001b[0m, in \u001b[0;36mpiecewise\u001b[0;34m(*args, **kwargs)\u001b[0m\n",
      "File \u001b[0;32m/opt/conda/lib/python3.9/site-packages/numpy/lib/function_base.py:612\u001b[0m, in \u001b[0;36mpiecewise\u001b[0;34m(x, condlist, funclist, *args, **kw)\u001b[0m\n\u001b[1;32m    610\u001b[0m \u001b[38;5;28;01mfor\u001b[39;00m cond, func \u001b[38;5;129;01min\u001b[39;00m \u001b[38;5;28mzip\u001b[39m(condlist, funclist):\n\u001b[1;32m    611\u001b[0m     \u001b[38;5;28;01mif\u001b[39;00m \u001b[38;5;129;01mnot\u001b[39;00m \u001b[38;5;28misinstance\u001b[39m(func, collections\u001b[38;5;241m.\u001b[39mabc\u001b[38;5;241m.\u001b[39mCallable):\n\u001b[0;32m--> 612\u001b[0m         y[cond] \u001b[38;5;241m=\u001b[39m func\n\u001b[1;32m    613\u001b[0m     \u001b[38;5;28;01melse\u001b[39;00m:\n\u001b[1;32m    614\u001b[0m         vals \u001b[38;5;241m=\u001b[39m x[cond]\n",
      "\u001b[0;31mIndexError\u001b[0m: boolean index did not match indexed array along dimension 0; dimension is 2 but corresponding boolean dimension is 4"
     ]
    }
   ],
   "source": [
    "ff(n,n)"
   ]
  },
  {
   "cell_type": "code",
   "execution_count": null,
   "id": "fa8d4e31-7fcf-4acf-877e-ea9e461a9fe3",
   "metadata": {},
   "outputs": [],
   "source": []
  },
  {
   "cell_type": "code",
   "execution_count": null,
   "id": "b320339b-dea4-43a6-a8fe-979e9633cd87",
   "metadata": {},
   "outputs": [],
   "source": []
  },
  {
   "cell_type": "code",
   "execution_count": null,
   "id": "5a6bbdae-af08-4fef-b24a-23b19ce5fdbc",
   "metadata": {},
   "outputs": [],
   "source": [
    "def Tprime(n,l,N,inv_two,p,alpha):\n",
    "    return np.where(l==n,\n",
    "                    inv_two*(N-1)*np.power(alpha,np.mod(-n, N)),\n",
    "                    get_inv(np.power(alpha, np.mod((n-l), N))-1, p)*np.power(alpha,np.mod(-n, N)))"
   ]
  },
  {
   "cell_type": "code",
   "execution_count": null,
   "id": "12e0cb8d-4243-4397-9854-9a387e63c19f",
   "metadata": {},
   "outputs": [],
   "source": [
    "def PrimeNTT(f_hat, alpha, p):\n",
    "    f = np.asarray(f_hat, dtype=int)\n",
    "    N = f.shape[0]\n",
    "    \n",
    "    inv_two = get_inv(2, m_t)\n",
    "    \n",
    "    n = np.arange(N)\n",
    "    k = n.reshape((N, 1))\n",
    "    \n",
    "    T_prime = Tprime(n,k,N,inv_two,p,alpha)\n",
    "    \n",
    "    return np.mod(np.dot(T_prime, f_hat), p)"
   ]
  },
  {
   "cell_type": "code",
   "execution_count": null,
   "id": "2b5aafb8-da96-42eb-bed1-4d06aba52a93",
   "metadata": {},
   "outputs": [],
   "source": [
    "#PrimeNTT(f_hat, 2, 5)"
   ]
  },
  {
   "cell_type": "code",
   "execution_count": null,
   "id": "8b2b0107-ca94-48b5-a558-e45fe4b9b61b",
   "metadata": {},
   "outputs": [],
   "source": []
  }
 ],
 "metadata": {
  "kernelspec": {
   "display_name": "Python 3 (ipykernel)",
   "language": "python",
   "name": "python3"
  },
  "language_info": {
   "codemirror_mode": {
    "name": "ipython",
    "version": 3
   },
   "file_extension": ".py",
   "mimetype": "text/x-python",
   "name": "python",
   "nbconvert_exporter": "python",
   "pygments_lexer": "ipython3",
   "version": "3.9.10"
  }
 },
 "nbformat": 4,
 "nbformat_minor": 5
}
