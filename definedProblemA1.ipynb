{
 "cells": [
  {
   "cell_type": "code",
   "execution_count": 1,
   "id": "e5595974-00bb-422a-8ee5-653d45c82952",
   "metadata": {},
   "outputs": [],
   "source": [
    "import numpy as np"
   ]
  },
  {
   "cell_type": "code",
   "execution_count": 11,
   "id": "3d9dbaf5-ff01-4c63-822f-ca01faaea435",
   "metadata": {},
   "outputs": [],
   "source": [
    "a_k = np.array([1,4,5])\n",
    "b_k = np.array([5,3,7])"
   ]
  },
  {
   "cell_type": "code",
   "execution_count": 12,
   "id": "50037b91-f4a6-47f3-9719-b7b7f7b145b5",
   "metadata": {},
   "outputs": [],
   "source": [
    "b_hat = np.lcm.reduce(b_k)"
   ]
  },
  {
   "cell_type": "code",
   "execution_count": 13,
   "id": "be123139-aa56-42f0-9fbf-a725b53dc521",
   "metadata": {},
   "outputs": [],
   "source": [
    "a_k_hat = a_k * (np.lcm.reduce(b_k)/b_k)"
   ]
  },
  {
   "cell_type": "code",
   "execution_count": 14,
   "id": "59e4d4f6-26f3-4f55-93de-99b25ba53f2b",
   "metadata": {},
   "outputs": [
    {
     "data": {
      "text/plain": [
       "array([ 21., 140.,  75.])"
      ]
     },
     "execution_count": 14,
     "metadata": {},
     "output_type": "execute_result"
    }
   ],
   "source": [
    "a_k_hat"
   ]
  },
  {
   "cell_type": "code",
   "execution_count": 15,
   "id": "37bde37c-9df6-4edd-998b-53512c6e53be",
   "metadata": {},
   "outputs": [
    {
     "data": {
      "text/plain": [
       "105"
      ]
     },
     "execution_count": 15,
     "metadata": {},
     "output_type": "execute_result"
    }
   ],
   "source": [
    "b_hat"
   ]
  },
  {
   "cell_type": "code",
   "execution_count": null,
   "id": "5b106256-d1b7-4108-96ee-0e0d371aa03d",
   "metadata": {},
   "outputs": [],
   "source": []
  }
 ],
 "metadata": {
  "kernelspec": {
   "display_name": "Python 3 (ipykernel)",
   "language": "python",
   "name": "python3"
  },
  "language_info": {
   "codemirror_mode": {
    "name": "ipython",
    "version": 3
   },
   "file_extension": ".py",
   "mimetype": "text/x-python",
   "name": "python",
   "nbconvert_exporter": "python",
   "pygments_lexer": "ipython3",
   "version": "3.9.7"
  }
 },
 "nbformat": 4,
 "nbformat_minor": 5
}
