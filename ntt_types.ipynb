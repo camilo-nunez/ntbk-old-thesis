{
 "cells": [
  {
   "cell_type": "code",
   "execution_count": 3,
   "id": "8affd948-1bc6-4e53-9bd4-9e7a30d1fdd8",
   "metadata": {},
   "outputs": [],
   "source": [
    "import datetime\n",
    "import numpy as np\n",
    "\n",
    "from sympy.core import S, Symbol, sympify\n",
    "from sympy.core.function import expand_mul\n",
    "from sympy.core.numbers import pi, I\n",
    "from sympy.functions.elementary.trigonometric import sin, cos\n",
    "from sympy.ntheory import isprime, primitive_root\n",
    "from sympy.utilities.iterables import ibin, iterable\n",
    "from sympy.utilities.misc import as_int\n",
    "\n",
    "from sympy import nsimplify\n",
    "from sympy import ntt, intt"
   ]
  },
  {
   "cell_type": "code",
   "execution_count": 2,
   "id": "6ee8e255-7b72-41c5-8eaf-5918d818f5e4",
   "metadata": {},
   "outputs": [],
   "source": [
    "def ntt_base(f, alpha, m):\n",
    "    T1 = datetime.datetime.now()\n",
    "    \n",
    "    f_hat = []\n",
    "    N = len(f)\n",
    "    \n",
    "    for n in range(0, N):\n",
    "        sum_k = 0\n",
    "        \n",
    "        for k in range(0, N):\n",
    "                sum_k += f[k] * (alpha**(n*k))\n",
    "        f_hat.append(sum_k % m)\n",
    "    \n",
    "    T2 = datetime.datetime.now()\n",
    "    \n",
    "    return (f_hat, str(T2-T1))"
   ]
  },
  {
   "cell_type": "code",
   "execution_count": 3,
   "id": "fd7728aa-3f92-44cb-ba58-96f628aedc03",
   "metadata": {},
   "outputs": [],
   "source": [
    "def ntt_truncated(f, alpha, m):\n",
    "    T1 = datetime.datetime.now()\n",
    "    \n",
    "    f_hat = []\n",
    "    N = len(f)\n",
    "    \n",
    "    for n in range(0, N):\n",
    "        sum_k = 0\n",
    "        \n",
    "        if f[n]==0: pass\n",
    "        \n",
    "        for k in range(0, N):\n",
    "            sum_k += f[k] * (alpha**(n*k))\n",
    "        f_hat.append(sum_k % m)\n",
    "    \n",
    "    T2 = datetime.datetime.now()\n",
    "    \n",
    "    return (f_hat, str(T2-T1))"
   ]
  },
  {
   "cell_type": "code",
   "execution_count": 4,
   "id": "c5082974-2211-41a0-9bea-be13981a949a",
   "metadata": {},
   "outputs": [],
   "source": [
    "N = 256\n",
    "a = list(np.concatenate([np.random.randint(9, size=N),np.random.randint(1, size=N)]))"
   ]
  },
  {
   "cell_type": "code",
   "execution_count": 5,
   "id": "9eb7101c-cd79-4f4c-9111-74bb89ac6615",
   "metadata": {},
   "outputs": [
    {
     "data": {
      "text/plain": [
       "([0, 4, 2, 3], '0:00:00.000015')"
      ]
     },
     "execution_count": 5,
     "metadata": {},
     "output_type": "execute_result"
    }
   ],
   "source": [
    "ntt_base([1,4,0,0], 2, 5)"
   ]
  },
  {
   "cell_type": "code",
   "execution_count": null,
   "id": "8aada18d-9e23-4f49-b21f-e3ba5df4d78a",
   "metadata": {},
   "outputs": [],
   "source": [
    "# ntt_truncated(a, 5, 262657)[1]"
   ]
  },
  {
   "cell_type": "code",
   "execution_count": 7,
   "id": "9266b19c-607e-42c0-b47e-3866445f3b5c",
   "metadata": {},
   "outputs": [],
   "source": [
    "def d(i,j,N,alpha):\n",
    "    if i==j:\n",
    "        return (2**(-1)) * (N-1) * alpha**i\n",
    "    \n",
    "    return (alpha**i)/(alpha**(i-j)-1)"
   ]
  },
  {
   "cell_type": "code",
   "execution_count": 10,
   "id": "565857d8-5249-4a76-a14c-2376cc3e5e74",
   "metadata": {},
   "outputs": [
    {
     "name": "stdout",
     "output_type": "stream",
     "text": [
      "0 0\n",
      "(3, 2)\n",
      "0 1\n",
      "(-2, 1)\n",
      "0 2\n",
      "(-6004799503160661, 4503599627370496)\n",
      "0 3\n",
      "(-2573485501354569, 2251799813685248)\n",
      "1 0\n",
      "(2, 1)\n",
      "1 1\n",
      "(3, 1)\n",
      "1 2\n",
      "(-4, 1)\n",
      "1 3\n",
      "(-6004799503160661, 2251799813685248)\n",
      "2 0\n",
      "(6004799503160661, 4503599627370496)\n",
      "2 1\n",
      "(4, 1)\n",
      "2 2\n",
      "(6, 1)\n",
      "2 3\n",
      "(-8, 1)\n",
      "3 0\n",
      "(2573485501354569, 2251799813685248)\n",
      "3 1\n",
      "(6004799503160661, 2251799813685248)\n",
      "3 2\n",
      "(8, 1)\n",
      "3 3\n",
      "(12, 1)\n"
     ]
    }
   ],
   "source": [
    "n=4\n",
    "for i in range(n):\n",
    "    for j in range(n):\n",
    "        print(i,j)\n",
    "        print(d(i,j,n,2).as_integer_ratio())"
   ]
  },
  {
   "cell_type": "code",
   "execution_count": null,
   "id": "70c3dfbe-c2cf-48b1-b9fb-3bc9a3536b61",
   "metadata": {},
   "outputs": [],
   "source": []
  },
  {
   "cell_type": "code",
   "execution_count": null,
   "id": "e98da712-d4c9-4419-819a-aa3109333f42",
   "metadata": {},
   "outputs": [],
   "source": []
  },
  {
   "cell_type": "code",
   "execution_count": null,
   "id": "82871a7b-aec5-4a18-9279-c517d113251e",
   "metadata": {},
   "outputs": [],
   "source": []
  },
  {
   "cell_type": "code",
   "execution_count": null,
   "id": "04152872-3479-4d9f-9eef-154f0cee74fd",
   "metadata": {},
   "outputs": [],
   "source": []
  },
  {
   "cell_type": "code",
   "execution_count": 2,
   "id": "7cef6b34-189d-4a40-9332-9671637a672d",
   "metadata": {},
   "outputs": [],
   "source": []
  },
  {
   "cell_type": "code",
   "execution_count": 25,
   "id": "8c3281b9-8127-449a-9046-791199d27360",
   "metadata": {},
   "outputs": [],
   "source": [
    "seq = [1,4,0,0]\n",
    "prime = 5\n",
    "inverse =  True"
   ]
  },
  {
   "cell_type": "code",
   "execution_count": 26,
   "id": "4b1e73ff-2616-4a4c-bb13-5048e31885a1",
   "metadata": {},
   "outputs": [
    {
     "name": "stdout",
     "output_type": "stream",
     "text": [
      "b,n= 2 4\n",
      "b,n= 2 4\n",
      "a= [1, 4, 0, 0]\n",
      "a= [1, 0, 4, 0]\n",
      "pr= 2\n",
      "rt= 3\n",
      "w= [1, 1]\n",
      "w= [1, 3]\n",
      "\n",
      "hf, ut= 1 2\n",
      "i,j= 0 0\n",
      "i + j= 0\n",
      "i + j + hf= 1\n",
      "u, v= 1 0\n",
      "i,j= 2 0\n",
      "i + j= 2\n",
      "i + j + hf= 3\n",
      "u, v= 4 0\n",
      "\n",
      "hf, ut= 2 1\n",
      "i,j= 0 0\n",
      "i + j= 0\n",
      "i + j + hf= 2\n",
      "u, v= 1 4\n",
      "i,j= 0 1\n",
      "i + j= 1\n",
      "i + j + hf= 3\n",
      "u, v= 1 12\n",
      "\n",
      "\n",
      "rv= 4\n",
      "ntt/intt a= [0, 2, 3, 1]\n"
     ]
    }
   ],
   "source": [
    "\"\"\"Utility function for the Number Theoretic Transform\"\"\"\n",
    "\n",
    "if not iterable(seq):\n",
    "    raise TypeError(\"Expected a sequence of integer coefficients \"\n",
    "                    \"for Number Theoretic Transform\")\n",
    "\n",
    "p = as_int(prime)\n",
    "if not isprime(p):\n",
    "    raise ValueError(\"Expected prime modulus for \"\n",
    "                    \"Number Theoretic Transform\")\n",
    "\n",
    "a = [as_int(x) % p for x in seq]\n",
    "\n",
    "n = len(a)\n",
    "if n < 1:\n",
    "    print(a)\n",
    "\n",
    "b = n.bit_length() - 1\n",
    "\n",
    "print('b,n=',b,n)\n",
    "\n",
    "if n&(n - 1):\n",
    "    b += 1\n",
    "    n = 2**b\n",
    "    \n",
    "print('b,n=',b,n)\n",
    "\n",
    "if (p - 1) % n:\n",
    "    raise ValueError(\"Expected prime modulus of the form (m*2**k + 1)\")\n",
    "\n",
    "a += [0]*(n - len(a))\n",
    "print('a=',a)\n",
    "\n",
    "for i in range(1, n):\n",
    "    j = int(ibin(i, b, str=True)[::-1], 2)\n",
    "    if i < j:\n",
    "        a[i], a[j] = a[j], a[i]\n",
    "\n",
    "print('a=',a)\n",
    "        \n",
    "pr = primitive_root(p)\n",
    "\n",
    "print('pr=',pr)\n",
    "\n",
    "rt = pow(pr, (p - 1) // n, p)\n",
    "if inverse:\n",
    "    rt = pow(rt, p - 2, p)\n",
    "    \n",
    "print('rt=',rt)\n",
    "\n",
    "\n",
    "\n",
    "\n",
    "w = [1]*(n // 2)\n",
    "print('w=',w)\n",
    "\n",
    "for i in range(1, n // 2):\n",
    "    w[i] = w[i - 1]*rt % p\n",
    "print('w=',w)\n",
    "\n",
    "\n",
    "\n",
    "print('')\n",
    "\n",
    "h = 2\n",
    "while h <= n:\n",
    "    hf, ut = h // 2, n // h\n",
    "    print('hf, ut=',hf, ut)\n",
    "    for i in range(0, n, h):\n",
    "        for j in range(hf):\n",
    "            print('i,j=',i,j)\n",
    "            \n",
    "            u, v = a[i + j], a[i + j + hf]*w[ut * j]\n",
    "            \n",
    "            print('i + j=',i + j)\n",
    "            print('i + j + hf=',i + j + hf)\n",
    "            \n",
    "            print('u, v=',u, v)\n",
    "            \n",
    "            a[i + j], a[i + j + hf] = (u + v) % p, (u - v) % p\n",
    "    \n",
    "    h *= 2\n",
    "    print('')\n",
    "\n",
    "print('')\n",
    "        \n",
    "if inverse:\n",
    "    rv = pow(n, p - 2, p)\n",
    "    \n",
    "    print('rv=',rv)\n",
    "    \n",
    "    a = [x*rv % p for x in a]\n",
    "\n",
    "print('ntt/intt a=',a)"
   ]
  },
  {
   "cell_type": "code",
   "execution_count": 36,
   "id": "bc1286c7-f567-4fba-b716-b7f13dbe383d",
   "metadata": {},
   "outputs": [
    {
     "name": "stdout",
     "output_type": "stream",
     "text": [
      "1\n"
     ]
    }
   ],
   "source": [
    "if 262657&262656:\n",
    "    print('1')"
   ]
  },
  {
   "cell_type": "code",
   "execution_count": null,
   "id": "ac194e92-9299-4727-9cd6-5feb7bea1293",
   "metadata": {},
   "outputs": [],
   "source": []
  },
  {
   "cell_type": "code",
   "execution_count": 7,
   "id": "9b045135-43e1-4007-9b7c-cf7081a21cc8",
   "metadata": {},
   "outputs": [],
   "source": [
    "alpha = 2\n",
    "N = 4\n",
    "\n",
    "def t(i,j):\n",
    "    if i==j:\n",
    "        return (2**(N-1))*(N-1)*(alpha**i)\n",
    "    else:\n",
    "        return (alpha**i)/((alpha**((i-j)%N)) -1)"
   ]
  },
  {
   "cell_type": "code",
   "execution_count": null,
   "id": "79082759-3c6f-43d2-9e80-b5286320b5bf",
   "metadata": {},
   "outputs": [],
   "source": []
  },
  {
   "cell_type": "code",
   "execution_count": 10,
   "id": "8b6a099f-819c-4dc0-9347-3e13092f95fe",
   "metadata": {},
   "outputs": [
    {
     "name": "stdout",
     "output_type": "stream",
     "text": [
      "0 0 ----- 4\n",
      "0 1 ----- 1/7\n",
      "0 2 ----- 1/3\n",
      "0 3 ----- 1\n",
      "1 0 ----- 2\n",
      "1 1 ----- 3\n",
      "1 2 ----- 2/7\n",
      "1 3 ----- 2/3\n",
      "2 0 ----- 4/3\n",
      "2 1 ----- 4\n",
      "2 2 ----- 1\n",
      "2 3 ----- 4/7\n",
      "3 0 ----- 8/7\n",
      "3 1 ----- 8/3\n",
      "3 2 ----- 3\n",
      "3 3 ----- 2\n"
     ]
    }
   ],
   "source": [
    "# np.fromfunction(t, (4, 4), dtype=float)\n",
    "\n",
    "\n",
    "for i in range(4):\n",
    "    for j in range(4):\n",
    "        print(i,j,'-----',nsimplify(np.mod(t(i,j),5)))"
   ]
  },
  {
   "cell_type": "code",
   "execution_count": 6,
   "id": "0d7cf794-21c4-4b08-9db6-3ccecd9da547",
   "metadata": {},
   "outputs": [],
   "source": [
    "t_prime = np.mod(np.array( [[3/2, -2, -4/3, -8/7],\n",
    "                           [2, 3, -4, -8/3],\n",
    "                           [4/3, 4, 6, -8],\n",
    "                           [8/7, 8/3, 8, 12]]), 5)"
   ]
  },
  {
   "cell_type": "code",
   "execution_count": 17,
   "id": "3358e5c2-02be-4012-98ea-e34a53f39a7b",
   "metadata": {},
   "outputs": [
    {
     "data": {
      "text/plain": [
       "[19/21, 1, 4, 8/3]"
      ]
     },
     "execution_count": 17,
     "metadata": {},
     "output_type": "execute_result"
    }
   ],
   "source": [
    "[nsimplify(i) for i in np.mod(np.dot(t_prime, np.array([0, 4, 2, 3])), 5)]"
   ]
  },
  {
   "cell_type": "code",
   "execution_count": null,
   "id": "369beda1-74d5-463a-a60d-44096b6f66f0",
   "metadata": {},
   "outputs": [],
   "source": []
  },
  {
   "cell_type": "code",
   "execution_count": null,
   "id": "ed8009a9-2975-4a13-a9e3-f60b5b4325af",
   "metadata": {},
   "outputs": [],
   "source": []
  },
  {
   "cell_type": "code",
   "execution_count": 14,
   "id": "3d0ae073-9e33-46ee-b5ee-833eb69b845b",
   "metadata": {},
   "outputs": [
    {
     "name": "stdout",
     "output_type": "stream",
     "text": [
      "n=0 f_hat_p=4\n",
      "n=1 f_hat_p=4\n",
      "n=2 f_hat_p=4\n",
      "n=3 f_hat_p=4\n"
     ]
    }
   ],
   "source": [
    "f = np.array([1,4,0,0])\n",
    "# alpha = 2\n",
    "# m = 5\n",
    "alpha = 11\n",
    "m = 769\n",
    "\n",
    "for n in range(4):\n",
    "    sum_o = 0\n",
    "    for k in range(1,4):\n",
    "        sum_o += np.mod(k * f[k] * np.power(alpha, n*(k-1)), m)\n",
    "    print(f'n={n} f_hat_p={sum_o}')"
   ]
  },
  {
   "cell_type": "code",
   "execution_count": 17,
   "id": "3503c805-6ec2-490c-981b-67c607fa01f3",
   "metadata": {},
   "outputs": [
    {
     "data": {
      "text/plain": [
       "[4, 4, 4, 4]"
      ]
     },
     "execution_count": 17,
     "metadata": {},
     "output_type": "execute_result"
    }
   ],
   "source": [
    "ntt([4, 0, 0, 0], prime=769)"
   ]
  },
  {
   "cell_type": "code",
   "execution_count": 16,
   "id": "cf99d32d-1e85-4be9-bda8-afd58748de50",
   "metadata": {},
   "outputs": [
    {
     "data": {
      "text/plain": [
       "[4, 4, 4, 4]"
      ]
     },
     "execution_count": 16,
     "metadata": {},
     "output_type": "execute_result"
    }
   ],
   "source": [
    "ntt([4, 0, 0, 0], prime=5)"
   ]
  },
  {
   "cell_type": "code",
   "execution_count": null,
   "id": "ea1897ec-3bf8-4d1b-9035-8b6f4059da38",
   "metadata": {},
   "outputs": [],
   "source": []
  },
  {
   "cell_type": "code",
   "execution_count": 41,
   "id": "ba2501ce-e5b9-4994-be5a-93de4c5eaca7",
   "metadata": {},
   "outputs": [
    {
     "name": "stdout",
     "output_type": "stream",
     "text": [
      "n=0 f_hat_p=650\n",
      "n=1 f_hat_p=2342\n",
      "n=2 f_hat_p=1291\n",
      "n=3 f_hat_p=1904\n"
     ]
    }
   ],
   "source": [
    "f = np.array([1,4,0,0])\n",
    "f_hat = np.array([5, 249, 766, 522]) # para m = 769\n",
    "# alpha = 2\n",
    "# m = 5\n",
    "alpha = 11\n",
    "m = 769\n",
    "N = 4\n",
    "\n",
    "for n in range(4):\n",
    "    sum_l = 0\n",
    "    for l in range(4):\n",
    "        sum_k = 0\n",
    "        for k in range(1,4):\n",
    "            # print((k*(n-l)), (k*(n-l))%N)\n",
    "            sum_k += k * np.power(alpha, (k*(n-l))%N)\n",
    "        sum_l +=  np.mod(f_hat[l] * np.power(alpha, N-n) * sum_k, m)\n",
    "            \n",
    "            \n",
    "    print(f'n={n} f_hat_p={sum_l}')"
   ]
  },
  {
   "cell_type": "code",
   "execution_count": 18,
   "id": "373c502c-f847-47f6-bde4-dda90b1cb7b8",
   "metadata": {},
   "outputs": [
    {
     "data": {
      "text/plain": [
       "[5, 249, 766, 522]"
      ]
     },
     "execution_count": 18,
     "metadata": {},
     "output_type": "execute_result"
    }
   ],
   "source": [
    "ntt([1,4,0,0], prime=769)"
   ]
  },
  {
   "cell_type": "code",
   "execution_count": 19,
   "id": "8f5c79b2-7c58-48c7-b0ca-817880c168b5",
   "metadata": {},
   "outputs": [
    {
     "data": {
      "text/plain": [
       "[0, 4, 2, 3]"
      ]
     },
     "execution_count": 19,
     "metadata": {},
     "output_type": "execute_result"
    }
   ],
   "source": [
    "ntt([1,4,0,0], prime=5)"
   ]
  },
  {
   "cell_type": "code",
   "execution_count": null,
   "id": "5bbf6d59-9f95-4813-85fb-1ee0dd185f1d",
   "metadata": {},
   "outputs": [],
   "source": []
  },
  {
   "cell_type": "code",
   "execution_count": null,
   "id": "7f84a31b-1626-4045-a559-9d812f7215c4",
   "metadata": {},
   "outputs": [],
   "source": []
  }
 ],
 "metadata": {
  "kernelspec": {
   "display_name": "Python 3 (ipykernel)",
   "language": "python",
   "name": "python3"
  },
  "language_info": {
   "codemirror_mode": {
    "name": "ipython",
    "version": 3
   },
   "file_extension": ".py",
   "mimetype": "text/x-python",
   "name": "python",
   "nbconvert_exporter": "python",
   "pygments_lexer": "ipython3",
   "version": "3.9.7"
  }
 },
 "nbformat": 4,
 "nbformat_minor": 5
}
