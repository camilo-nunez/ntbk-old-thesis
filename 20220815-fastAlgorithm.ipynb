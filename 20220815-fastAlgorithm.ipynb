{
 "cells": [
  {
   "cell_type": "code",
   "execution_count": 1,
   "id": "1a58b795-e48c-4fda-b3a6-48f92d76f6b9",
   "metadata": {},
   "outputs": [],
   "source": [
    "import numpy as np"
   ]
  },
  {
   "cell_type": "code",
   "execution_count": 13,
   "id": "b1d1118d-1cc0-472b-945b-6aa46ef8b5f6",
   "metadata": {},
   "outputs": [],
   "source": [
    "def for_loop(start, cont_condition, action):\n",
    "    value = start\n",
    "    while cont_condition(value):\n",
    "        yield int(value)\n",
    "        value = action(value)"
   ]
  },
  {
   "cell_type": "code",
   "execution_count": 14,
   "id": "614e8b58-d395-4ebe-9fe0-af95a6096559",
   "metadata": {},
   "outputs": [],
   "source": [
    "def ntt(x, n, m):\n",
    "    i = 1\n",
    "    for l in for_loop(n/2, lambda l: l >= 1, lambda l: l/2):\n",
    "        \n",
    "        for s in range(0, n, l):\n",
    "            g = m\n",
    "            \n",
    "            for "
   ]
  },
  {
   "cell_type": "code",
   "execution_count": null,
   "id": "7034496a-8b92-48d6-b15c-1da983cbd002",
   "metadata": {},
   "outputs": [],
   "source": []
  },
  {
   "cell_type": "code",
   "execution_count": 5,
   "id": "a793ae9b-7f0c-4156-b0fe-3b4061c1b18c",
   "metadata": {},
   "outputs": [],
   "source": [
    "n = 4"
   ]
  },
  {
   "cell_type": "code",
   "execution_count": 18,
   "id": "1f8450a7-a7f5-4aaf-9abc-35055f108195",
   "metadata": {},
   "outputs": [
    {
     "data": {
      "text/plain": [
       "1"
      ]
     },
     "execution_count": 18,
     "metadata": {},
     "output_type": "execute_result"
    }
   ],
   "source": [
    "9%2"
   ]
  },
  {
   "cell_type": "code",
   "execution_count": 12,
   "id": "52425c3b-44ba-4f5c-bd03-4eb0e3fd1fee",
   "metadata": {},
   "outputs": [
    {
     "name": "stdout",
     "output_type": "stream",
     "text": [
      "2\n",
      "1\n"
     ]
    }
   ],
   "source": [
    "\n",
    "    print(value)"
   ]
  },
  {
   "cell_type": "code",
   "execution_count": null,
   "id": "3dec6fcd-e190-4174-9623-abb7816a6571",
   "metadata": {},
   "outputs": [],
   "source": []
  }
 ],
 "metadata": {
  "kernelspec": {
   "display_name": "Python 3 (ipykernel)",
   "language": "python",
   "name": "python3"
  },
  "language_info": {
   "codemirror_mode": {
    "name": "ipython",
    "version": 3
   },
   "file_extension": ".py",
   "mimetype": "text/x-python",
   "name": "python",
   "nbconvert_exporter": "python",
   "pygments_lexer": "ipython3",
   "version": "3.9.7"
  }
 },
 "nbformat": 4,
 "nbformat_minor": 5
}
